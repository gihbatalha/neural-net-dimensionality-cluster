{
 "cells": [
  {
   "cell_type": "code",
   "execution_count": 2,
   "metadata": {},
   "outputs": [
    {
     "name": "stderr",
     "output_type": "stream",
     "text": [
      "Using TensorFlow backend.\n"
     ]
    }
   ],
   "source": [
    "import pandas as pd\n",
    "import numpy as np\n",
    "from sklearn.model_selection import train_test_split\n",
    "import keras\n",
    "from matplotlib import pyplot as plt"
   ]
  },
  {
   "cell_type": "code",
   "execution_count": 5,
   "metadata": {},
   "outputs": [],
   "source": [
    "# !pip install keras\n",
    "# !pip install tensorflow"
   ]
  },
  {
   "cell_type": "markdown",
   "metadata": {},
   "source": [
    "# Lidando com os dados"
   ]
  },
  {
   "cell_type": "code",
   "execution_count": 3,
   "metadata": {},
   "outputs": [],
   "source": [
    "def transformData(dataSet):\n",
    "    y = dataSet['label']\n",
    "    X = dataSet.drop(columns=['label'])\n",
    "    X_train, X_val, y_train, y_val = train_test_split(X, y, test_size=0.2, random_state=42)\n",
    "    \n",
    "    X_train = X_train/255\n",
    "    X_val = X_val/255\n",
    "    return (X_train, X_val, y_train, y_val)"
   ]
  },
  {
   "cell_type": "markdown",
   "metadata": {},
   "source": [
    "# Redução de Dimensionalidade e Clusterização"
   ]
  },
  {
   "cell_type": "code",
   "execution_count": 4,
   "metadata": {},
   "outputs": [],
   "source": [
    "data = pd.read_csv('fashion-mnist_train.csv')"
   ]
  },
  {
   "cell_type": "code",
   "execution_count": 5,
   "metadata": {},
   "outputs": [],
   "source": [
    "(X_train, X_val, y_train, y_val) = transformData(data)"
   ]
  },
  {
   "cell_type": "code",
   "execution_count": 6,
   "metadata": {},
   "outputs": [
    {
     "data": {
      "text/html": [
       "<div>\n",
       "<style scoped>\n",
       "    .dataframe tbody tr th:only-of-type {\n",
       "        vertical-align: middle;\n",
       "    }\n",
       "\n",
       "    .dataframe tbody tr th {\n",
       "        vertical-align: top;\n",
       "    }\n",
       "\n",
       "    .dataframe thead th {\n",
       "        text-align: right;\n",
       "    }\n",
       "</style>\n",
       "<table border=\"1\" class=\"dataframe\">\n",
       "  <thead>\n",
       "    <tr style=\"text-align: right;\">\n",
       "      <th></th>\n",
       "      <th>pixel1</th>\n",
       "      <th>pixel2</th>\n",
       "      <th>pixel3</th>\n",
       "      <th>pixel4</th>\n",
       "      <th>pixel5</th>\n",
       "      <th>pixel6</th>\n",
       "      <th>pixel7</th>\n",
       "      <th>pixel8</th>\n",
       "      <th>pixel9</th>\n",
       "      <th>pixel10</th>\n",
       "      <th>...</th>\n",
       "      <th>pixel775</th>\n",
       "      <th>pixel776</th>\n",
       "      <th>pixel777</th>\n",
       "      <th>pixel778</th>\n",
       "      <th>pixel779</th>\n",
       "      <th>pixel780</th>\n",
       "      <th>pixel781</th>\n",
       "      <th>pixel782</th>\n",
       "      <th>pixel783</th>\n",
       "      <th>pixel784</th>\n",
       "    </tr>\n",
       "  </thead>\n",
       "  <tbody>\n",
       "    <tr>\n",
       "      <th>48572</th>\n",
       "      <td>0.0</td>\n",
       "      <td>0.0</td>\n",
       "      <td>0.0</td>\n",
       "      <td>0.0</td>\n",
       "      <td>0.0</td>\n",
       "      <td>0.0</td>\n",
       "      <td>0.0</td>\n",
       "      <td>0.0</td>\n",
       "      <td>0.000000</td>\n",
       "      <td>0.0</td>\n",
       "      <td>...</td>\n",
       "      <td>0.000000</td>\n",
       "      <td>0.000000</td>\n",
       "      <td>0.000000</td>\n",
       "      <td>0.000000</td>\n",
       "      <td>0.000000</td>\n",
       "      <td>0.000000</td>\n",
       "      <td>0.000000</td>\n",
       "      <td>0.0</td>\n",
       "      <td>0.0</td>\n",
       "      <td>0.0</td>\n",
       "    </tr>\n",
       "    <tr>\n",
       "      <th>38696</th>\n",
       "      <td>0.0</td>\n",
       "      <td>0.0</td>\n",
       "      <td>0.0</td>\n",
       "      <td>0.0</td>\n",
       "      <td>0.0</td>\n",
       "      <td>0.0</td>\n",
       "      <td>0.0</td>\n",
       "      <td>0.0</td>\n",
       "      <td>0.000000</td>\n",
       "      <td>0.0</td>\n",
       "      <td>...</td>\n",
       "      <td>0.000000</td>\n",
       "      <td>0.000000</td>\n",
       "      <td>0.000000</td>\n",
       "      <td>0.000000</td>\n",
       "      <td>0.000000</td>\n",
       "      <td>0.000000</td>\n",
       "      <td>0.000000</td>\n",
       "      <td>0.0</td>\n",
       "      <td>0.0</td>\n",
       "      <td>0.0</td>\n",
       "    </tr>\n",
       "    <tr>\n",
       "      <th>13611</th>\n",
       "      <td>0.0</td>\n",
       "      <td>0.0</td>\n",
       "      <td>0.0</td>\n",
       "      <td>0.0</td>\n",
       "      <td>0.0</td>\n",
       "      <td>0.0</td>\n",
       "      <td>0.0</td>\n",
       "      <td>0.0</td>\n",
       "      <td>0.000000</td>\n",
       "      <td>0.0</td>\n",
       "      <td>...</td>\n",
       "      <td>0.000000</td>\n",
       "      <td>0.000000</td>\n",
       "      <td>0.000000</td>\n",
       "      <td>0.000000</td>\n",
       "      <td>0.000000</td>\n",
       "      <td>0.000000</td>\n",
       "      <td>0.000000</td>\n",
       "      <td>0.0</td>\n",
       "      <td>0.0</td>\n",
       "      <td>0.0</td>\n",
       "    </tr>\n",
       "    <tr>\n",
       "      <th>35213</th>\n",
       "      <td>0.0</td>\n",
       "      <td>0.0</td>\n",
       "      <td>0.0</td>\n",
       "      <td>0.0</td>\n",
       "      <td>0.0</td>\n",
       "      <td>0.0</td>\n",
       "      <td>0.0</td>\n",
       "      <td>0.0</td>\n",
       "      <td>0.000000</td>\n",
       "      <td>0.0</td>\n",
       "      <td>...</td>\n",
       "      <td>0.000000</td>\n",
       "      <td>0.000000</td>\n",
       "      <td>0.000000</td>\n",
       "      <td>0.000000</td>\n",
       "      <td>0.000000</td>\n",
       "      <td>0.000000</td>\n",
       "      <td>0.000000</td>\n",
       "      <td>0.0</td>\n",
       "      <td>0.0</td>\n",
       "      <td>0.0</td>\n",
       "    </tr>\n",
       "    <tr>\n",
       "      <th>31766</th>\n",
       "      <td>0.0</td>\n",
       "      <td>0.0</td>\n",
       "      <td>0.0</td>\n",
       "      <td>0.0</td>\n",
       "      <td>0.0</td>\n",
       "      <td>0.0</td>\n",
       "      <td>0.0</td>\n",
       "      <td>0.0</td>\n",
       "      <td>0.003922</td>\n",
       "      <td>0.0</td>\n",
       "      <td>...</td>\n",
       "      <td>0.000000</td>\n",
       "      <td>0.000000</td>\n",
       "      <td>0.003922</td>\n",
       "      <td>0.000000</td>\n",
       "      <td>0.043137</td>\n",
       "      <td>0.145098</td>\n",
       "      <td>0.023529</td>\n",
       "      <td>0.0</td>\n",
       "      <td>0.0</td>\n",
       "      <td>0.0</td>\n",
       "    </tr>\n",
       "    <tr>\n",
       "      <th>57477</th>\n",
       "      <td>0.0</td>\n",
       "      <td>0.0</td>\n",
       "      <td>0.0</td>\n",
       "      <td>0.0</td>\n",
       "      <td>0.0</td>\n",
       "      <td>0.0</td>\n",
       "      <td>0.0</td>\n",
       "      <td>0.0</td>\n",
       "      <td>0.000000</td>\n",
       "      <td>0.0</td>\n",
       "      <td>...</td>\n",
       "      <td>0.321569</td>\n",
       "      <td>0.113725</td>\n",
       "      <td>0.000000</td>\n",
       "      <td>0.000000</td>\n",
       "      <td>0.000000</td>\n",
       "      <td>0.000000</td>\n",
       "      <td>0.000000</td>\n",
       "      <td>0.0</td>\n",
       "      <td>0.0</td>\n",
       "      <td>0.0</td>\n",
       "    </tr>\n",
       "    <tr>\n",
       "      <th>9165</th>\n",
       "      <td>0.0</td>\n",
       "      <td>0.0</td>\n",
       "      <td>0.0</td>\n",
       "      <td>0.0</td>\n",
       "      <td>0.0</td>\n",
       "      <td>0.0</td>\n",
       "      <td>0.0</td>\n",
       "      <td>0.0</td>\n",
       "      <td>0.000000</td>\n",
       "      <td>0.0</td>\n",
       "      <td>...</td>\n",
       "      <td>0.458824</td>\n",
       "      <td>0.282353</td>\n",
       "      <td>0.000000</td>\n",
       "      <td>0.000000</td>\n",
       "      <td>0.000000</td>\n",
       "      <td>0.000000</td>\n",
       "      <td>0.000000</td>\n",
       "      <td>0.0</td>\n",
       "      <td>0.0</td>\n",
       "      <td>0.0</td>\n",
       "    </tr>\n",
       "    <tr>\n",
       "      <th>21399</th>\n",
       "      <td>0.0</td>\n",
       "      <td>0.0</td>\n",
       "      <td>0.0</td>\n",
       "      <td>0.0</td>\n",
       "      <td>0.0</td>\n",
       "      <td>0.0</td>\n",
       "      <td>0.0</td>\n",
       "      <td>0.0</td>\n",
       "      <td>0.000000</td>\n",
       "      <td>0.0</td>\n",
       "      <td>...</td>\n",
       "      <td>0.000000</td>\n",
       "      <td>0.000000</td>\n",
       "      <td>0.000000</td>\n",
       "      <td>0.000000</td>\n",
       "      <td>0.000000</td>\n",
       "      <td>0.000000</td>\n",
       "      <td>0.000000</td>\n",
       "      <td>0.0</td>\n",
       "      <td>0.0</td>\n",
       "      <td>0.0</td>\n",
       "    </tr>\n",
       "    <tr>\n",
       "      <th>44113</th>\n",
       "      <td>0.0</td>\n",
       "      <td>0.0</td>\n",
       "      <td>0.0</td>\n",
       "      <td>0.0</td>\n",
       "      <td>0.0</td>\n",
       "      <td>0.0</td>\n",
       "      <td>0.0</td>\n",
       "      <td>0.0</td>\n",
       "      <td>0.000000</td>\n",
       "      <td>0.0</td>\n",
       "      <td>...</td>\n",
       "      <td>0.000000</td>\n",
       "      <td>0.000000</td>\n",
       "      <td>0.768627</td>\n",
       "      <td>0.960784</td>\n",
       "      <td>0.803922</td>\n",
       "      <td>0.000000</td>\n",
       "      <td>0.000000</td>\n",
       "      <td>0.0</td>\n",
       "      <td>0.0</td>\n",
       "      <td>0.0</td>\n",
       "    </tr>\n",
       "    <tr>\n",
       "      <th>55436</th>\n",
       "      <td>0.0</td>\n",
       "      <td>0.0</td>\n",
       "      <td>0.0</td>\n",
       "      <td>0.0</td>\n",
       "      <td>0.0</td>\n",
       "      <td>0.0</td>\n",
       "      <td>0.0</td>\n",
       "      <td>0.0</td>\n",
       "      <td>0.000000</td>\n",
       "      <td>0.0</td>\n",
       "      <td>...</td>\n",
       "      <td>0.000000</td>\n",
       "      <td>0.000000</td>\n",
       "      <td>0.000000</td>\n",
       "      <td>0.000000</td>\n",
       "      <td>0.000000</td>\n",
       "      <td>0.000000</td>\n",
       "      <td>0.000000</td>\n",
       "      <td>0.0</td>\n",
       "      <td>0.0</td>\n",
       "      <td>0.0</td>\n",
       "    </tr>\n",
       "  </tbody>\n",
       "</table>\n",
       "<p>10 rows × 784 columns</p>\n",
       "</div>"
      ],
      "text/plain": [
       "       pixel1  pixel2  pixel3  pixel4  pixel5  pixel6  pixel7  pixel8  \\\n",
       "48572     0.0     0.0     0.0     0.0     0.0     0.0     0.0     0.0   \n",
       "38696     0.0     0.0     0.0     0.0     0.0     0.0     0.0     0.0   \n",
       "13611     0.0     0.0     0.0     0.0     0.0     0.0     0.0     0.0   \n",
       "35213     0.0     0.0     0.0     0.0     0.0     0.0     0.0     0.0   \n",
       "31766     0.0     0.0     0.0     0.0     0.0     0.0     0.0     0.0   \n",
       "57477     0.0     0.0     0.0     0.0     0.0     0.0     0.0     0.0   \n",
       "9165      0.0     0.0     0.0     0.0     0.0     0.0     0.0     0.0   \n",
       "21399     0.0     0.0     0.0     0.0     0.0     0.0     0.0     0.0   \n",
       "44113     0.0     0.0     0.0     0.0     0.0     0.0     0.0     0.0   \n",
       "55436     0.0     0.0     0.0     0.0     0.0     0.0     0.0     0.0   \n",
       "\n",
       "         pixel9  pixel10  ...  pixel775  pixel776  pixel777  pixel778  \\\n",
       "48572  0.000000      0.0  ...  0.000000  0.000000  0.000000  0.000000   \n",
       "38696  0.000000      0.0  ...  0.000000  0.000000  0.000000  0.000000   \n",
       "13611  0.000000      0.0  ...  0.000000  0.000000  0.000000  0.000000   \n",
       "35213  0.000000      0.0  ...  0.000000  0.000000  0.000000  0.000000   \n",
       "31766  0.003922      0.0  ...  0.000000  0.000000  0.003922  0.000000   \n",
       "57477  0.000000      0.0  ...  0.321569  0.113725  0.000000  0.000000   \n",
       "9165   0.000000      0.0  ...  0.458824  0.282353  0.000000  0.000000   \n",
       "21399  0.000000      0.0  ...  0.000000  0.000000  0.000000  0.000000   \n",
       "44113  0.000000      0.0  ...  0.000000  0.000000  0.768627  0.960784   \n",
       "55436  0.000000      0.0  ...  0.000000  0.000000  0.000000  0.000000   \n",
       "\n",
       "       pixel779  pixel780  pixel781  pixel782  pixel783  pixel784  \n",
       "48572  0.000000  0.000000  0.000000       0.0       0.0       0.0  \n",
       "38696  0.000000  0.000000  0.000000       0.0       0.0       0.0  \n",
       "13611  0.000000  0.000000  0.000000       0.0       0.0       0.0  \n",
       "35213  0.000000  0.000000  0.000000       0.0       0.0       0.0  \n",
       "31766  0.043137  0.145098  0.023529       0.0       0.0       0.0  \n",
       "57477  0.000000  0.000000  0.000000       0.0       0.0       0.0  \n",
       "9165   0.000000  0.000000  0.000000       0.0       0.0       0.0  \n",
       "21399  0.000000  0.000000  0.000000       0.0       0.0       0.0  \n",
       "44113  0.803922  0.000000  0.000000       0.0       0.0       0.0  \n",
       "55436  0.000000  0.000000  0.000000       0.0       0.0       0.0  \n",
       "\n",
       "[10 rows x 784 columns]"
      ]
     },
     "execution_count": 6,
     "metadata": {},
     "output_type": "execute_result"
    }
   ],
   "source": [
    "X_train.head(10)"
   ]
  },
  {
   "cell_type": "code",
   "execution_count": 7,
   "metadata": {},
   "outputs": [
    {
     "data": {
      "text/plain": [
       "(48000,)"
      ]
     },
     "execution_count": 7,
     "metadata": {},
     "output_type": "execute_result"
    }
   ],
   "source": [
    "y_train.shape"
   ]
  },
  {
   "cell_type": "code",
   "execution_count": 8,
   "metadata": {},
   "outputs": [
    {
     "data": {
      "text/plain": [
       "(12000,)"
      ]
     },
     "execution_count": 8,
     "metadata": {},
     "output_type": "execute_result"
    }
   ],
   "source": [
    "y_val.shape"
   ]
  },
  {
   "cell_type": "markdown",
   "metadata": {},
   "source": [
    "## Treinando"
   ]
  },
  {
   "cell_type": "markdown",
   "metadata": {},
   "source": [
    " -> sparse_categorical\n",
    " -> Sem usar dropout, overfitting muito rápido\n",
    "     -> Adicionamos dropout e diminuimos as camadas "
   ]
  },
  {
   "cell_type": "markdown",
   "metadata": {},
   "source": [
    "## Tentativa 1"
   ]
  },
  {
   "cell_type": "code",
   "execution_count": 69,
   "metadata": {},
   "outputs": [
    {
     "name": "stdout",
     "output_type": "stream",
     "text": [
      "Train on 48000 samples, validate on 12000 samples\n",
      "Epoch 1/10\n",
      "48000/48000 [==============================] - 4s 78us/step - loss: 0.5184 - accuracy: 0.8155 - val_loss: 0.4094 - val_accuracy: 0.8528\n",
      "Epoch 2/10\n",
      "48000/48000 [==============================] - 4s 75us/step - loss: 0.3861 - accuracy: 0.8597 - val_loss: 0.3569 - val_accuracy: 0.8711\n",
      "Epoch 3/10\n",
      "48000/48000 [==============================] - 4s 75us/step - loss: 0.3464 - accuracy: 0.8743 - val_loss: 0.3436 - val_accuracy: 0.8723\n",
      "Epoch 4/10\n",
      "48000/48000 [==============================] - 4s 77us/step - loss: 0.3222 - accuracy: 0.8814 - val_loss: 0.3292 - val_accuracy: 0.8784\n",
      "Epoch 5/10\n",
      "48000/48000 [==============================] - 4s 77us/step - loss: 0.3028 - accuracy: 0.8891 - val_loss: 0.3260 - val_accuracy: 0.8826\n",
      "Epoch 6/10\n",
      "48000/48000 [==============================] - 4s 77us/step - loss: 0.2896 - accuracy: 0.8930 - val_loss: 0.3272 - val_accuracy: 0.8827\n",
      "Epoch 7/10\n",
      "48000/48000 [==============================] - 4s 81us/step - loss: 0.2752 - accuracy: 0.8976 - val_loss: 0.3405 - val_accuracy: 0.8783\n",
      "Epoch 8/10\n",
      "48000/48000 [==============================] - 4s 81us/step - loss: 0.2637 - accuracy: 0.9027 - val_loss: 0.3327 - val_accuracy: 0.8801\n",
      "Epoch 9/10\n",
      "48000/48000 [==============================] - 4s 80us/step - loss: 0.2508 - accuracy: 0.9073 - val_loss: 0.3584 - val_accuracy: 0.8705\n",
      "Epoch 10/10\n",
      "48000/48000 [==============================] - 4s 80us/step - loss: 0.2444 - accuracy: 0.9084 - val_loss: 0.3304 - val_accuracy: 0.8870\n"
     ]
    }
   ],
   "source": [
    "model = keras.Sequential([\n",
    "    keras.layers.Dense(128, activation='relu'),\n",
    "    keras.layers.Dense(64, activation='relu'),\n",
    "    keras.layers.Dense(10, activation='softmax')\n",
    "])\n",
    "\n",
    "model.compile(optimizer='adam', loss='sparse_categorical_crossentropy',metrics=['accuracy'])\n",
    "train_history3 = model.fit(np.array(X_train),np.array(y_train),validation_data=(X_val, y_val),epochs=10)"
   ]
  },
  {
   "cell_type": "code",
   "execution_count": 71,
   "metadata": {},
   "outputs": [
    {
     "data": {
      "image/png": "[encoded data removed]",
      "text/plain": [
       "<Figure size 432x288 with 1 Axes>"
      ]
     },
     "metadata": {
      "needs_background": "light"
     },
     "output_type": "display_data"
    }
   ],
   "source": [
    "loss = train_history3.history['loss']\n",
    "val_loss = train_history3.history['val_loss']\n",
    "plt.plot(loss)\n",
    "plt.plot(val_loss)\n",
    "plt.legend(['loss', 'val_loss'])\n",
    "plt.show()"
   ]
  },
  {
   "cell_type": "markdown",
   "metadata": {},
   "source": [
    "## Tentativa 2"
   ]
  },
  {
   "cell_type": "code",
   "execution_count": 43,
   "metadata": {},
   "outputs": [],
   "source": [
    "initializer = keras.initializers.RandomUniform(minval=-0.05, maxval=0.05, seed=346)"
   ]
  },
  {
   "cell_type": "code",
   "execution_count": 44,
   "metadata": {},
   "outputs": [],
   "source": [
    "model = keras.Sequential([\n",
    "    keras.layers.Dense(128, activation='relu',kernel_initializer=initializer, bias_initializer='ones'),\n",
    "    keras.layers.Dropout(0.5),\n",
    "    keras.layers.Dense(64, activation='relu',kernel_initializer=initializer, bias_initializer='ones'),\n",
    "    keras.layers.Dropout(0.2),\n",
    "    keras.layers.Dense(10, activation='softmax',kernel_initializer=initializer, bias_initializer='ones')\n",
    "])\n",
    "\n",
    "model.compile(optimizer='adam', loss='sparse_categorical_crossentropy',metrics=['accuracy'])"
   ]
  },
  {
   "cell_type": "code",
   "execution_count": 45,
   "metadata": {},
   "outputs": [
    {
     "name": "stdout",
     "output_type": "stream",
     "text": [
      "Train on 48000 samples, validate on 12000 samples\n",
      "Epoch 1/20\n",
      "48000/48000 [==============================] - 4s 90us/step - loss: 0.6817 - accuracy: 0.7488 - val_loss: 0.4550 - val_accuracy: 0.8267\n",
      "Epoch 2/20\n",
      "48000/48000 [==============================] - 4s 86us/step - loss: 0.5004 - accuracy: 0.8192 - val_loss: 0.4159 - val_accuracy: 0.8506\n",
      "Epoch 3/20\n",
      "48000/48000 [==============================] - 4s 83us/step - loss: 0.4596 - accuracy: 0.8325 - val_loss: 0.3926 - val_accuracy: 0.8572\n",
      "Epoch 4/20\n",
      "48000/48000 [==============================] - 4s 83us/step - loss: 0.4370 - accuracy: 0.8414 - val_loss: 0.3729 - val_accuracy: 0.8604\n",
      "Epoch 5/20\n",
      "48000/48000 [==============================] - 4s 83us/step - loss: 0.4234 - accuracy: 0.8468 - val_loss: 0.3634 - val_accuracy: 0.8624\n",
      "Epoch 6/20\n",
      "48000/48000 [==============================] - 4s 83us/step - loss: 0.4107 - accuracy: 0.8505 - val_loss: 0.3548 - val_accuracy: 0.8713\n",
      "Epoch 7/20\n",
      "48000/48000 [==============================] - 4s 83us/step - loss: 0.3982 - accuracy: 0.8562 - val_loss: 0.3450 - val_accuracy: 0.8719\n",
      "Epoch 8/20\n",
      "48000/48000 [==============================] - 4s 83us/step - loss: 0.3914 - accuracy: 0.8581 - val_loss: 0.3783 - val_accuracy: 0.8589\n",
      "Epoch 9/20\n",
      "48000/48000 [==============================] - 4s 84us/step - loss: 0.3874 - accuracy: 0.8583 - val_loss: 0.3377 - val_accuracy: 0.8742\n",
      "Epoch 10/20\n",
      "48000/48000 [==============================] - 4s 84us/step - loss: 0.3781 - accuracy: 0.8628 - val_loss: 0.3312 - val_accuracy: 0.8775\n",
      "Epoch 11/20\n",
      "48000/48000 [==============================] - 4s 84us/step - loss: 0.3749 - accuracy: 0.8632 - val_loss: 0.3380 - val_accuracy: 0.8750\n",
      "Epoch 12/20\n",
      "48000/48000 [==============================] - 4s 84us/step - loss: 0.3686 - accuracy: 0.8651 - val_loss: 0.3355 - val_accuracy: 0.8741\n",
      "Epoch 13/20\n",
      "48000/48000 [==============================] - 4s 87us/step - loss: 0.3656 - accuracy: 0.8661 - val_loss: 0.3371 - val_accuracy: 0.8724\n",
      "Epoch 14/20\n",
      "48000/48000 [==============================] - 4s 89us/step - loss: 0.3636 - accuracy: 0.8678 - val_loss: 0.3306 - val_accuracy: 0.8792\n",
      "Epoch 15/20\n",
      "48000/48000 [==============================] - 4s 86us/step - loss: 0.3608 - accuracy: 0.8690 - val_loss: 0.3330 - val_accuracy: 0.8769\n",
      "Epoch 16/20\n",
      "48000/48000 [==============================] - 4s 86us/step - loss: 0.3546 - accuracy: 0.8706 - val_loss: 0.3309 - val_accuracy: 0.8733\n",
      "Epoch 17/20\n",
      "48000/48000 [==============================] - 4s 86us/step - loss: 0.3529 - accuracy: 0.8709 - val_loss: 0.3175 - val_accuracy: 0.8856\n",
      "Epoch 18/20\n",
      "48000/48000 [==============================] - 4s 88us/step - loss: 0.3484 - accuracy: 0.8714 - val_loss: 0.3217 - val_accuracy: 0.8798\n",
      "Epoch 19/20\n",
      "48000/48000 [==============================] - 4s 87us/step - loss: 0.3473 - accuracy: 0.8718 - val_loss: 0.3253 - val_accuracy: 0.8799\n",
      "Epoch 20/20\n",
      "48000/48000 [==============================] - 4s 90us/step - loss: 0.3420 - accuracy: 0.8744 - val_loss: 0.3254 - val_accuracy: 0.8802\n"
     ]
    }
   ],
   "source": [
    "train_history2 = model.fit(np.array(X_train),np.array(y_train),validation_data=(X_val, y_val),epochs=20)"
   ]
  },
  {
   "cell_type": "code",
   "execution_count": 46,
   "metadata": {},
   "outputs": [
    {
     "data": {
      "image/png": "[encoded data removed]",
      "text/plain": [
       "<Figure size 432x288 with 1 Axes>"
      ]
     },
     "metadata": {
      "needs_background": "light"
     },
     "output_type": "display_data"
    }
   ],
   "source": [
    "loss = train_history2.history['loss']\n",
    "val_loss = train_history2.history['val_loss']\n",
    "plt.plot(loss)\n",
    "plt.plot(val_loss)\n",
    "plt.legend(['loss', 'val_loss'])\n",
    "plt.show()"
   ]
  },
  {
   "cell_type": "markdown",
   "metadata": {},
   "source": [
    "## Aplicando PCA"
   ]
  },
  {
   "cell_type": "code",
   "execution_count": 47,
   "metadata": {},
   "outputs": [],
   "source": [
    "from sklearn.decomposition import PCA"
   ]
  },
  {
   "cell_type": "markdown",
   "metadata": {},
   "source": [
    "### 64 componentes"
   ]
  },
  {
   "cell_type": "code",
   "execution_count": 48,
   "metadata": {},
   "outputs": [],
   "source": [
    "pca = PCA(n_components=64)\n",
    "pca.fit(X_train)\n",
    "newX_train = pca.transform(X_train)\n",
    "newX_val = pca.transform(X_val)"
   ]
  },
  {
   "cell_type": "code",
   "execution_count": 49,
   "metadata": {},
   "outputs": [
    {
     "data": {
      "text/plain": [
       "array([0.2898411 , 0.17740469, 0.06014269, 0.04988386, 0.038573  ,\n",
       "       0.03455608, 0.02352776, 0.0190694 , 0.01344913, 0.0130614 ,\n",
       "       0.00990559, 0.00910351, 0.00763416, 0.0065899 , 0.00610855,\n",
       "       0.00590688, 0.00554203, 0.00529725, 0.00463077, 0.00455368,\n",
       "       0.00431895, 0.00407812, 0.00383489, 0.00376273, 0.00364112,\n",
       "       0.00350273, 0.00333314, 0.00319524, 0.00310191, 0.00296527,\n",
       "       0.00276032, 0.00265654, 0.00264357, 0.00255114, 0.00249119,\n",
       "       0.00239354, 0.00230545, 0.00223688, 0.00220139, 0.00210758,\n",
       "       0.00201101, 0.00196957, 0.00194242, 0.00183282, 0.00175565,\n",
       "       0.00171596, 0.00167254, 0.00165266, 0.00161725, 0.00156174,\n",
       "       0.00154091, 0.00151085, 0.00147512, 0.00143028, 0.00137836,\n",
       "       0.0013607 , 0.00130852, 0.0012875 , 0.00126629, 0.00124412,\n",
       "       0.00121904, 0.00120499, 0.0011759 , 0.00114644])"
      ]
     },
     "execution_count": 49,
     "metadata": {},
     "output_type": "execute_result"
    }
   ],
   "source": [
    "variancesPerFeature = pca.explained_variance_ratio_\n",
    "variancesPerFeature"
   ]
  },
  {
   "cell_type": "code",
   "execution_count": 50,
   "metadata": {},
   "outputs": [
    {
     "data": {
      "text/plain": [
       "0.8811437434168179"
      ]
     },
     "execution_count": 50,
     "metadata": {},
     "output_type": "execute_result"
    }
   ],
   "source": [
    "variance = np.sum(variancesPerFeature)\n",
    "variance"
   ]
  },
  {
   "cell_type": "code",
   "execution_count": 56,
   "metadata": {},
   "outputs": [
    {
     "name": "stdout",
     "output_type": "stream",
     "text": [
      "Train on 48000 samples, validate on 12000 samples\n",
      "Epoch 1/300\n",
      "48000/48000 [==============================] - 0s 5us/step - loss: 2.0887 - accuracy: 0.2657 - val_loss: 1.5191 - val_accuracy: 0.5542\n",
      "Epoch 2/300\n",
      "48000/48000 [==============================] - 0s 3us/step - loss: 1.3484 - accuracy: 0.5741 - val_loss: 1.0247 - val_accuracy: 0.7285\n",
      "Epoch 3/300\n",
      "48000/48000 [==============================] - 0s 3us/step - loss: 1.0022 - accuracy: 0.6883 - val_loss: 0.7879 - val_accuracy: 0.7762\n",
      "Epoch 4/300\n",
      "48000/48000 [==============================] - 0s 3us/step - loss: 0.8337 - accuracy: 0.7316 - val_loss: 0.6693 - val_accuracy: 0.7953\n",
      "Epoch 5/300\n",
      "48000/48000 [==============================] - 0s 3us/step - loss: 0.7395 - accuracy: 0.7540 - val_loss: 0.6023 - val_accuracy: 0.8059\n",
      "Epoch 6/300\n",
      "48000/48000 [==============================] - 0s 3us/step - loss: 0.6835 - accuracy: 0.7673 - val_loss: 0.5606 - val_accuracy: 0.8136\n",
      "Epoch 7/300\n",
      "48000/48000 [==============================] - 0s 3us/step - loss: 0.6403 - accuracy: 0.7798 - val_loss: 0.5325 - val_accuracy: 0.8184\n",
      "Epoch 8/300\n",
      "48000/48000 [==============================] - 0s 3us/step - loss: 0.6129 - accuracy: 0.7869 - val_loss: 0.5128 - val_accuracy: 0.8220\n",
      "Epoch 9/300\n",
      "48000/48000 [==============================] - 0s 3us/step - loss: 0.5939 - accuracy: 0.7921 - val_loss: 0.4987 - val_accuracy: 0.8247\n",
      "Epoch 10/300\n",
      "48000/48000 [==============================] - 0s 3us/step - loss: 0.5729 - accuracy: 0.8001 - val_loss: 0.4879 - val_accuracy: 0.8263\n",
      "Epoch 11/300\n",
      "48000/48000 [==============================] - 0s 3us/step - loss: 0.5609 - accuracy: 0.8042 - val_loss: 0.4785 - val_accuracy: 0.8293\n",
      "Epoch 12/300\n",
      "48000/48000 [==============================] - 0s 3us/step - loss: 0.5482 - accuracy: 0.8067 - val_loss: 0.4711 - val_accuracy: 0.8307\n",
      "Epoch 13/300\n",
      "48000/48000 [==============================] - 0s 3us/step - loss: 0.5350 - accuracy: 0.8125 - val_loss: 0.4643 - val_accuracy: 0.8328\n",
      "Epoch 14/300\n",
      "48000/48000 [==============================] - 0s 3us/step - loss: 0.5274 - accuracy: 0.8136 - val_loss: 0.4588 - val_accuracy: 0.8332\n",
      "Epoch 15/300\n",
      "48000/48000 [==============================] - 0s 3us/step - loss: 0.5222 - accuracy: 0.8155 - val_loss: 0.4539 - val_accuracy: 0.8356\n",
      "Epoch 16/300\n",
      "48000/48000 [==============================] - 0s 3us/step - loss: 0.5141 - accuracy: 0.8181 - val_loss: 0.4493 - val_accuracy: 0.8368\n",
      "Epoch 17/300\n",
      "48000/48000 [==============================] - 0s 3us/step - loss: 0.5090 - accuracy: 0.8185 - val_loss: 0.4455 - val_accuracy: 0.8383\n",
      "Epoch 18/300\n",
      "48000/48000 [==============================] - 0s 3us/step - loss: 0.5018 - accuracy: 0.8221 - val_loss: 0.4417 - val_accuracy: 0.8404\n",
      "Epoch 19/300\n",
      "48000/48000 [==============================] - 0s 3us/step - loss: 0.5001 - accuracy: 0.8220 - val_loss: 0.4384 - val_accuracy: 0.8409\n",
      "Epoch 20/300\n",
      "48000/48000 [==============================] - 0s 4us/step - loss: 0.4926 - accuracy: 0.8252 - val_loss: 0.4357 - val_accuracy: 0.8424\n",
      "Epoch 21/300\n",
      "48000/48000 [==============================] - 0s 4us/step - loss: 0.4893 - accuracy: 0.8251 - val_loss: 0.4329 - val_accuracy: 0.8434\n",
      "Epoch 22/300\n",
      "48000/48000 [==============================] - 0s 3us/step - loss: 0.4862 - accuracy: 0.8270 - val_loss: 0.4302 - val_accuracy: 0.8431\n",
      "Epoch 23/300\n",
      "48000/48000 [==============================] - 0s 4us/step - loss: 0.4809 - accuracy: 0.8299 - val_loss: 0.4273 - val_accuracy: 0.8439\n",
      "Epoch 24/300\n",
      "48000/48000 [==============================] - 0s 4us/step - loss: 0.4766 - accuracy: 0.8294 - val_loss: 0.4250 - val_accuracy: 0.8456\n",
      "Epoch 25/300\n",
      "48000/48000 [==============================] - 0s 4us/step - loss: 0.4739 - accuracy: 0.8307 - val_loss: 0.4229 - val_accuracy: 0.8469\n",
      "Epoch 26/300\n",
      "48000/48000 [==============================] - 0s 4us/step - loss: 0.4718 - accuracy: 0.8327 - val_loss: 0.4207 - val_accuracy: 0.8477\n",
      "Epoch 27/300\n",
      "48000/48000 [==============================] - 0s 4us/step - loss: 0.4697 - accuracy: 0.8319 - val_loss: 0.4188 - val_accuracy: 0.8482\n",
      "Epoch 28/300\n",
      "48000/48000 [==============================] - 0s 3us/step - loss: 0.4650 - accuracy: 0.8358 - val_loss: 0.4173 - val_accuracy: 0.8487\n",
      "Epoch 29/300\n",
      "48000/48000 [==============================] - 0s 3us/step - loss: 0.4630 - accuracy: 0.8360 - val_loss: 0.4149 - val_accuracy: 0.8492\n",
      "Epoch 30/300\n",
      "48000/48000 [==============================] - 0s 3us/step - loss: 0.4625 - accuracy: 0.8360 - val_loss: 0.4138 - val_accuracy: 0.8507\n",
      "Epoch 31/300\n",
      "48000/48000 [==============================] - 0s 4us/step - loss: 0.4587 - accuracy: 0.8353 - val_loss: 0.4118 - val_accuracy: 0.8508\n",
      "Epoch 32/300\n",
      "48000/48000 [==============================] - 0s 4us/step - loss: 0.4534 - accuracy: 0.8375 - val_loss: 0.4102 - val_accuracy: 0.8521\n",
      "Epoch 33/300\n",
      "48000/48000 [==============================] - 0s 3us/step - loss: 0.4554 - accuracy: 0.8369 - val_loss: 0.4085 - val_accuracy: 0.8522\n",
      "Epoch 34/300\n",
      "48000/48000 [==============================] - 0s 3us/step - loss: 0.4483 - accuracy: 0.8399 - val_loss: 0.4073 - val_accuracy: 0.8535\n",
      "Epoch 35/300\n",
      "48000/48000 [==============================] - 0s 3us/step - loss: 0.4470 - accuracy: 0.8411 - val_loss: 0.4064 - val_accuracy: 0.8536\n",
      "Epoch 36/300\n",
      "48000/48000 [==============================] - 0s 4us/step - loss: 0.4447 - accuracy: 0.8413 - val_loss: 0.4045 - val_accuracy: 0.8558\n",
      "Epoch 37/300\n",
      "48000/48000 [==============================] - 0s 3us/step - loss: 0.4446 - accuracy: 0.8414 - val_loss: 0.4030 - val_accuracy: 0.8557\n",
      "Epoch 38/300\n",
      "48000/48000 [==============================] - 0s 3us/step - loss: 0.4430 - accuracy: 0.8410 - val_loss: 0.4021 - val_accuracy: 0.8567\n",
      "Epoch 39/300\n",
      "48000/48000 [==============================] - 0s 2us/step - loss: 0.4410 - accuracy: 0.8428 - val_loss: 0.4008 - val_accuracy: 0.8570\n",
      "Epoch 40/300\n",
      "48000/48000 [==============================] - 0s 2us/step - loss: 0.4363 - accuracy: 0.8447 - val_loss: 0.3996 - val_accuracy: 0.8560\n",
      "Epoch 41/300\n",
      "48000/48000 [==============================] - 0s 3us/step - loss: 0.4395 - accuracy: 0.8436 - val_loss: 0.3988 - val_accuracy: 0.8578\n",
      "Epoch 42/300\n",
      "48000/48000 [==============================] - 0s 3us/step - loss: 0.4366 - accuracy: 0.8444 - val_loss: 0.3978 - val_accuracy: 0.8574\n",
      "Epoch 43/300\n",
      "48000/48000 [==============================] - 0s 3us/step - loss: 0.4333 - accuracy: 0.8467 - val_loss: 0.3969 - val_accuracy: 0.8577\n",
      "Epoch 44/300\n",
      "48000/48000 [==============================] - 0s 3us/step - loss: 0.4315 - accuracy: 0.8454 - val_loss: 0.3960 - val_accuracy: 0.8581\n",
      "Epoch 45/300\n",
      "48000/48000 [==============================] - 0s 3us/step - loss: 0.4349 - accuracy: 0.8453 - val_loss: 0.3950 - val_accuracy: 0.8594\n",
      "Epoch 46/300\n",
      "48000/48000 [==============================] - 0s 3us/step - loss: 0.4320 - accuracy: 0.8456 - val_loss: 0.3942 - val_accuracy: 0.8583\n",
      "Epoch 47/300\n",
      "48000/48000 [==============================] - 0s 2us/step - loss: 0.4290 - accuracy: 0.8470 - val_loss: 0.3931 - val_accuracy: 0.8596\n",
      "Epoch 48/300\n",
      "48000/48000 [==============================] - 0s 3us/step - loss: 0.4283 - accuracy: 0.8488 - val_loss: 0.3927 - val_accuracy: 0.8602\n",
      "Epoch 49/300\n",
      "48000/48000 [==============================] - 0s 3us/step - loss: 0.4265 - accuracy: 0.8479 - val_loss: 0.3915 - val_accuracy: 0.8603\n",
      "Epoch 50/300\n",
      "48000/48000 [==============================] - 0s 3us/step - loss: 0.4275 - accuracy: 0.8475 - val_loss: 0.3911 - val_accuracy: 0.8600\n",
      "Epoch 51/300\n",
      "48000/48000 [==============================] - 0s 2us/step - loss: 0.4285 - accuracy: 0.8466 - val_loss: 0.3903 - val_accuracy: 0.8605\n",
      "Epoch 52/300\n",
      "48000/48000 [==============================] - 0s 2us/step - loss: 0.4239 - accuracy: 0.8492 - val_loss: 0.3898 - val_accuracy: 0.8601\n",
      "Epoch 53/300\n",
      "48000/48000 [==============================] - 0s 3us/step - loss: 0.4206 - accuracy: 0.8489 - val_loss: 0.3891 - val_accuracy: 0.8600\n",
      "Epoch 54/300\n",
      "48000/48000 [==============================] - 0s 3us/step - loss: 0.4225 - accuracy: 0.8485 - val_loss: 0.3888 - val_accuracy: 0.8605\n",
      "Epoch 55/300\n",
      "48000/48000 [==============================] - 0s 3us/step - loss: 0.4210 - accuracy: 0.8504 - val_loss: 0.3879 - val_accuracy: 0.8608\n",
      "Epoch 56/300\n"
     ]
    },
    {
     "name": "stdout",
     "output_type": "stream",
     "text": [
      "48000/48000 [==============================] - 0s 3us/step - loss: 0.4198 - accuracy: 0.8505 - val_loss: 0.3871 - val_accuracy: 0.8606\n",
      "Epoch 57/300\n",
      "48000/48000 [==============================] - 0s 3us/step - loss: 0.4191 - accuracy: 0.8497 - val_loss: 0.3865 - val_accuracy: 0.8603\n",
      "Epoch 58/300\n",
      "48000/48000 [==============================] - 0s 3us/step - loss: 0.4179 - accuracy: 0.8501 - val_loss: 0.3857 - val_accuracy: 0.8615\n",
      "Epoch 59/300\n",
      "48000/48000 [==============================] - 0s 3us/step - loss: 0.4160 - accuracy: 0.8522 - val_loss: 0.3848 - val_accuracy: 0.8618\n",
      "Epoch 60/300\n",
      "48000/48000 [==============================] - 0s 3us/step - loss: 0.4172 - accuracy: 0.8507 - val_loss: 0.3845 - val_accuracy: 0.8604\n",
      "Epoch 61/300\n",
      "48000/48000 [==============================] - 0s 3us/step - loss: 0.4180 - accuracy: 0.8505 - val_loss: 0.3843 - val_accuracy: 0.8620\n",
      "Epoch 62/300\n",
      "48000/48000 [==============================] - 0s 3us/step - loss: 0.4155 - accuracy: 0.8508 - val_loss: 0.3839 - val_accuracy: 0.8615\n",
      "Epoch 63/300\n",
      "48000/48000 [==============================] - 0s 4us/step - loss: 0.4141 - accuracy: 0.8525 - val_loss: 0.3839 - val_accuracy: 0.8623\n",
      "Epoch 64/300\n",
      "48000/48000 [==============================] - 0s 4us/step - loss: 0.4146 - accuracy: 0.8530 - val_loss: 0.3832 - val_accuracy: 0.8625\n",
      "Epoch 65/300\n",
      "48000/48000 [==============================] - 0s 3us/step - loss: 0.4132 - accuracy: 0.8519 - val_loss: 0.3824 - val_accuracy: 0.8635\n",
      "Epoch 66/300\n",
      "48000/48000 [==============================] - 0s 3us/step - loss: 0.4124 - accuracy: 0.8539 - val_loss: 0.3821 - val_accuracy: 0.8641\n",
      "Epoch 67/300\n",
      "48000/48000 [==============================] - 0s 4us/step - loss: 0.4132 - accuracy: 0.8534 - val_loss: 0.3812 - val_accuracy: 0.8633\n",
      "Epoch 68/300\n",
      "48000/48000 [==============================] - 0s 4us/step - loss: 0.4102 - accuracy: 0.8528 - val_loss: 0.3810 - val_accuracy: 0.8636\n",
      "Epoch 69/300\n",
      "48000/48000 [==============================] - 0s 4us/step - loss: 0.4120 - accuracy: 0.8530 - val_loss: 0.3809 - val_accuracy: 0.8638\n",
      "Epoch 70/300\n",
      "48000/48000 [==============================] - 0s 3us/step - loss: 0.4099 - accuracy: 0.8524 - val_loss: 0.3801 - val_accuracy: 0.8633\n",
      "Epoch 71/300\n",
      "48000/48000 [==============================] - 0s 2us/step - loss: 0.4105 - accuracy: 0.8534 - val_loss: 0.3799 - val_accuracy: 0.8637\n",
      "Epoch 72/300\n",
      "48000/48000 [==============================] - 0s 3us/step - loss: 0.4083 - accuracy: 0.8542 - val_loss: 0.3796 - val_accuracy: 0.8636\n",
      "Epoch 73/300\n",
      "48000/48000 [==============================] - 0s 2us/step - loss: 0.4084 - accuracy: 0.8527 - val_loss: 0.3796 - val_accuracy: 0.8645\n",
      "Epoch 74/300\n",
      "48000/48000 [==============================] - 0s 3us/step - loss: 0.4118 - accuracy: 0.8523 - val_loss: 0.3793 - val_accuracy: 0.8650\n",
      "Epoch 75/300\n",
      "48000/48000 [==============================] - 0s 3us/step - loss: 0.4059 - accuracy: 0.8558 - val_loss: 0.3786 - val_accuracy: 0.8645\n",
      "Epoch 76/300\n",
      "48000/48000 [==============================] - 0s 3us/step - loss: 0.4060 - accuracy: 0.8537 - val_loss: 0.3781 - val_accuracy: 0.8644\n",
      "Epoch 77/300\n",
      "48000/48000 [==============================] - 0s 4us/step - loss: 0.4058 - accuracy: 0.8539 - val_loss: 0.3778 - val_accuracy: 0.8649\n",
      "Epoch 78/300\n",
      "48000/48000 [==============================] - 0s 3us/step - loss: 0.4056 - accuracy: 0.8547 - val_loss: 0.3774 - val_accuracy: 0.8645\n",
      "Epoch 79/300\n",
      "48000/48000 [==============================] - 0s 3us/step - loss: 0.4054 - accuracy: 0.8553 - val_loss: 0.3767 - val_accuracy: 0.8653\n",
      "Epoch 80/300\n",
      "48000/48000 [==============================] - 0s 3us/step - loss: 0.4032 - accuracy: 0.8554 - val_loss: 0.3768 - val_accuracy: 0.8648\n",
      "Epoch 81/300\n",
      "48000/48000 [==============================] - 0s 3us/step - loss: 0.4046 - accuracy: 0.8538 - val_loss: 0.3764 - val_accuracy: 0.8653\n",
      "Epoch 82/300\n",
      "48000/48000 [==============================] - 0s 3us/step - loss: 0.4045 - accuracy: 0.8542 - val_loss: 0.3762 - val_accuracy: 0.8653\n",
      "Epoch 83/300\n",
      "48000/48000 [==============================] - 0s 3us/step - loss: 0.4030 - accuracy: 0.8550 - val_loss: 0.3762 - val_accuracy: 0.8668\n",
      "Epoch 84/300\n",
      "48000/48000 [==============================] - 0s 3us/step - loss: 0.4031 - accuracy: 0.8544 - val_loss: 0.3756 - val_accuracy: 0.8653\n",
      "Epoch 85/300\n",
      "48000/48000 [==============================] - 0s 3us/step - loss: 0.4023 - accuracy: 0.8549 - val_loss: 0.3753 - val_accuracy: 0.8646\n",
      "Epoch 86/300\n",
      "48000/48000 [==============================] - 0s 3us/step - loss: 0.3997 - accuracy: 0.8559 - val_loss: 0.3750 - val_accuracy: 0.8650\n",
      "Epoch 87/300\n",
      "48000/48000 [==============================] - 0s 3us/step - loss: 0.4006 - accuracy: 0.8563 - val_loss: 0.3749 - val_accuracy: 0.8656\n",
      "Epoch 88/300\n",
      "48000/48000 [==============================] - 0s 3us/step - loss: 0.4003 - accuracy: 0.8560 - val_loss: 0.3744 - val_accuracy: 0.8660\n",
      "Epoch 89/300\n",
      "48000/48000 [==============================] - 0s 3us/step - loss: 0.4012 - accuracy: 0.8545 - val_loss: 0.3739 - val_accuracy: 0.8659\n",
      "Epoch 90/300\n",
      "48000/48000 [==============================] - 0s 3us/step - loss: 0.3987 - accuracy: 0.8570 - val_loss: 0.3736 - val_accuracy: 0.8665\n",
      "Epoch 91/300\n",
      "48000/48000 [==============================] - 0s 3us/step - loss: 0.4001 - accuracy: 0.8558 - val_loss: 0.3740 - val_accuracy: 0.8657\n",
      "Epoch 92/300\n",
      "48000/48000 [==============================] - 0s 3us/step - loss: 0.3983 - accuracy: 0.8571 - val_loss: 0.3729 - val_accuracy: 0.8658\n",
      "Epoch 93/300\n",
      "48000/48000 [==============================] - 0s 3us/step - loss: 0.3980 - accuracy: 0.8576 - val_loss: 0.3729 - val_accuracy: 0.8671\n",
      "Epoch 94/300\n",
      "48000/48000 [==============================] - 0s 3us/step - loss: 0.3964 - accuracy: 0.8566 - val_loss: 0.3732 - val_accuracy: 0.8665\n",
      "Epoch 95/300\n",
      "48000/48000 [==============================] - 0s 3us/step - loss: 0.3977 - accuracy: 0.8561 - val_loss: 0.3724 - val_accuracy: 0.8666\n",
      "Epoch 96/300\n",
      "48000/48000 [==============================] - 0s 3us/step - loss: 0.3992 - accuracy: 0.8574 - val_loss: 0.3722 - val_accuracy: 0.8670\n",
      "Epoch 97/300\n",
      "48000/48000 [==============================] - 0s 3us/step - loss: 0.3959 - accuracy: 0.8579 - val_loss: 0.3712 - val_accuracy: 0.8660\n",
      "Epoch 98/300\n",
      "48000/48000 [==============================] - 0s 3us/step - loss: 0.3980 - accuracy: 0.8561 - val_loss: 0.3718 - val_accuracy: 0.8657\n",
      "Epoch 99/300\n",
      "48000/48000 [==============================] - 0s 3us/step - loss: 0.3970 - accuracy: 0.8582 - val_loss: 0.3713 - val_accuracy: 0.8666\n",
      "Epoch 100/300\n",
      "48000/48000 [==============================] - 0s 3us/step - loss: 0.3943 - accuracy: 0.8579 - val_loss: 0.3713 - val_accuracy: 0.8671\n",
      "Epoch 101/300\n",
      "48000/48000 [==============================] - 0s 3us/step - loss: 0.3989 - accuracy: 0.8570 - val_loss: 0.3711 - val_accuracy: 0.8656\n",
      "Epoch 102/300\n",
      "48000/48000 [==============================] - 0s 3us/step - loss: 0.3953 - accuracy: 0.8570 - val_loss: 0.3705 - val_accuracy: 0.8668\n",
      "Epoch 103/300\n",
      "48000/48000 [==============================] - 0s 3us/step - loss: 0.3938 - accuracy: 0.8578 - val_loss: 0.3712 - val_accuracy: 0.8668\n",
      "Epoch 104/300\n",
      "48000/48000 [==============================] - 0s 3us/step - loss: 0.3971 - accuracy: 0.8574 - val_loss: 0.3704 - val_accuracy: 0.8668\n",
      "Epoch 105/300\n",
      "48000/48000 [==============================] - 0s 3us/step - loss: 0.3940 - accuracy: 0.8588 - val_loss: 0.3701 - val_accuracy: 0.8671\n",
      "Epoch 106/300\n",
      "48000/48000 [==============================] - 0s 3us/step - loss: 0.3951 - accuracy: 0.8568 - val_loss: 0.3705 - val_accuracy: 0.8668\n",
      "Epoch 107/300\n",
      "48000/48000 [==============================] - 0s 3us/step - loss: 0.3932 - accuracy: 0.8571 - val_loss: 0.3699 - val_accuracy: 0.8676\n",
      "Epoch 108/300\n",
      "48000/48000 [==============================] - 0s 3us/step - loss: 0.3944 - accuracy: 0.8584 - val_loss: 0.3700 - val_accuracy: 0.8663\n",
      "Epoch 109/300\n",
      "48000/48000 [==============================] - 0s 3us/step - loss: 0.3930 - accuracy: 0.8576 - val_loss: 0.3702 - val_accuracy: 0.8671\n",
      "Epoch 110/300\n",
      "48000/48000 [==============================] - 0s 3us/step - loss: 0.3973 - accuracy: 0.8574 - val_loss: 0.3700 - val_accuracy: 0.8673\n",
      "Epoch 111/300\n"
     ]
    },
    {
     "name": "stdout",
     "output_type": "stream",
     "text": [
      "48000/48000 [==============================] - 0s 3us/step - loss: 0.3922 - accuracy: 0.8587 - val_loss: 0.3701 - val_accuracy: 0.8670\n",
      "Epoch 112/300\n",
      "48000/48000 [==============================] - 0s 2us/step - loss: 0.3916 - accuracy: 0.8591 - val_loss: 0.3695 - val_accuracy: 0.8670\n",
      "Epoch 113/300\n",
      "48000/48000 [==============================] - 0s 3us/step - loss: 0.3890 - accuracy: 0.8596 - val_loss: 0.3693 - val_accuracy: 0.8678\n",
      "Epoch 114/300\n",
      "48000/48000 [==============================] - 0s 3us/step - loss: 0.3938 - accuracy: 0.8590 - val_loss: 0.3693 - val_accuracy: 0.8676\n",
      "Epoch 115/300\n",
      "48000/48000 [==============================] - 0s 3us/step - loss: 0.3936 - accuracy: 0.8579 - val_loss: 0.3702 - val_accuracy: 0.8674\n",
      "Epoch 116/300\n",
      "48000/48000 [==============================] - 0s 3us/step - loss: 0.3926 - accuracy: 0.8585 - val_loss: 0.3694 - val_accuracy: 0.8677\n",
      "Epoch 117/300\n",
      "48000/48000 [==============================] - 0s 2us/step - loss: 0.3888 - accuracy: 0.8602 - val_loss: 0.3693 - val_accuracy: 0.8683\n",
      "Epoch 118/300\n",
      "48000/48000 [==============================] - 0s 3us/step - loss: 0.3896 - accuracy: 0.8589 - val_loss: 0.3689 - val_accuracy: 0.8677\n",
      "Epoch 119/300\n",
      "48000/48000 [==============================] - 0s 3us/step - loss: 0.3912 - accuracy: 0.8579 - val_loss: 0.3688 - val_accuracy: 0.8673\n",
      "Epoch 120/300\n",
      "48000/48000 [==============================] - 0s 3us/step - loss: 0.3905 - accuracy: 0.8577 - val_loss: 0.3692 - val_accuracy: 0.8667\n",
      "Epoch 121/300\n",
      "48000/48000 [==============================] - 0s 3us/step - loss: 0.3886 - accuracy: 0.8593 - val_loss: 0.3684 - val_accuracy: 0.8687\n",
      "Epoch 122/300\n",
      "48000/48000 [==============================] - 0s 3us/step - loss: 0.3906 - accuracy: 0.8586 - val_loss: 0.3681 - val_accuracy: 0.8673\n",
      "Epoch 123/300\n",
      "48000/48000 [==============================] - 0s 3us/step - loss: 0.3912 - accuracy: 0.8602 - val_loss: 0.3682 - val_accuracy: 0.8670\n",
      "Epoch 124/300\n",
      "48000/48000 [==============================] - 0s 2us/step - loss: 0.3896 - accuracy: 0.8581 - val_loss: 0.3684 - val_accuracy: 0.8673\n",
      "Epoch 125/300\n",
      "48000/48000 [==============================] - 0s 3us/step - loss: 0.3881 - accuracy: 0.8596 - val_loss: 0.3680 - val_accuracy: 0.8678\n",
      "Epoch 126/300\n",
      "48000/48000 [==============================] - 0s 3us/step - loss: 0.3873 - accuracy: 0.8610 - val_loss: 0.3680 - val_accuracy: 0.8672\n",
      "Epoch 127/300\n",
      "48000/48000 [==============================] - 0s 3us/step - loss: 0.3902 - accuracy: 0.8596 - val_loss: 0.3682 - val_accuracy: 0.8677\n",
      "Epoch 128/300\n",
      "48000/48000 [==============================] - 0s 3us/step - loss: 0.3873 - accuracy: 0.8582 - val_loss: 0.3683 - val_accuracy: 0.8673\n",
      "Epoch 129/300\n",
      "48000/48000 [==============================] - 0s 3us/step - loss: 0.3858 - accuracy: 0.8608 - val_loss: 0.3677 - val_accuracy: 0.8677\n",
      "Epoch 130/300\n",
      "48000/48000 [==============================] - 0s 3us/step - loss: 0.3852 - accuracy: 0.8621 - val_loss: 0.3680 - val_accuracy: 0.8683\n",
      "Epoch 131/300\n",
      "48000/48000 [==============================] - 0s 3us/step - loss: 0.3869 - accuracy: 0.8599 - val_loss: 0.3671 - val_accuracy: 0.8681\n",
      "Epoch 132/300\n",
      "48000/48000 [==============================] - 0s 3us/step - loss: 0.3878 - accuracy: 0.8589 - val_loss: 0.3673 - val_accuracy: 0.8677\n",
      "Epoch 133/300\n",
      "48000/48000 [==============================] - 0s 3us/step - loss: 0.3880 - accuracy: 0.8603 - val_loss: 0.3669 - val_accuracy: 0.8689\n",
      "Epoch 134/300\n",
      "48000/48000 [==============================] - 0s 3us/step - loss: 0.3860 - accuracy: 0.8596 - val_loss: 0.3670 - val_accuracy: 0.8675\n",
      "Epoch 135/300\n",
      "48000/48000 [==============================] - 0s 3us/step - loss: 0.3874 - accuracy: 0.8609 - val_loss: 0.3667 - val_accuracy: 0.8685\n",
      "Epoch 136/300\n",
      "48000/48000 [==============================] - 0s 3us/step - loss: 0.3863 - accuracy: 0.8599 - val_loss: 0.3667 - val_accuracy: 0.8689\n",
      "Epoch 137/300\n",
      "48000/48000 [==============================] - 0s 3us/step - loss: 0.3854 - accuracy: 0.8617 - val_loss: 0.3664 - val_accuracy: 0.8691\n",
      "Epoch 138/300\n",
      "48000/48000 [==============================] - 0s 3us/step - loss: 0.3874 - accuracy: 0.8582 - val_loss: 0.3674 - val_accuracy: 0.8691\n",
      "Epoch 139/300\n",
      "48000/48000 [==============================] - 0s 3us/step - loss: 0.3866 - accuracy: 0.8607 - val_loss: 0.3663 - val_accuracy: 0.8687\n",
      "Epoch 140/300\n",
      "48000/48000 [==============================] - 0s 3us/step - loss: 0.3834 - accuracy: 0.8609 - val_loss: 0.3659 - val_accuracy: 0.8686\n",
      "Epoch 141/300\n",
      "48000/48000 [==============================] - 0s 3us/step - loss: 0.3847 - accuracy: 0.8600 - val_loss: 0.3663 - val_accuracy: 0.8683\n",
      "Epoch 142/300\n",
      "48000/48000 [==============================] - 0s 3us/step - loss: 0.3830 - accuracy: 0.8611 - val_loss: 0.3665 - val_accuracy: 0.8683\n",
      "Epoch 143/300\n",
      "48000/48000 [==============================] - 0s 3us/step - loss: 0.3817 - accuracy: 0.8637 - val_loss: 0.3657 - val_accuracy: 0.8695\n",
      "Epoch 144/300\n",
      "48000/48000 [==============================] - 0s 3us/step - loss: 0.3842 - accuracy: 0.8618 - val_loss: 0.3660 - val_accuracy: 0.8687\n",
      "Epoch 145/300\n",
      "48000/48000 [==============================] - 0s 3us/step - loss: 0.3836 - accuracy: 0.8621 - val_loss: 0.3656 - val_accuracy: 0.8687\n",
      "Epoch 146/300\n",
      "48000/48000 [==============================] - 0s 3us/step - loss: 0.3837 - accuracy: 0.8600 - val_loss: 0.3656 - val_accuracy: 0.8687\n",
      "Epoch 147/300\n",
      "48000/48000 [==============================] - 0s 3us/step - loss: 0.3835 - accuracy: 0.8624 - val_loss: 0.3656 - val_accuracy: 0.8690\n",
      "Epoch 148/300\n",
      "48000/48000 [==============================] - 0s 3us/step - loss: 0.3830 - accuracy: 0.8605 - val_loss: 0.3652 - val_accuracy: 0.8679\n",
      "Epoch 149/300\n",
      "48000/48000 [==============================] - 0s 3us/step - loss: 0.3821 - accuracy: 0.8611 - val_loss: 0.3651 - val_accuracy: 0.8689\n",
      "Epoch 150/300\n",
      "48000/48000 [==============================] - 0s 3us/step - loss: 0.3818 - accuracy: 0.8616 - val_loss: 0.3655 - val_accuracy: 0.8688\n",
      "Epoch 151/300\n",
      "48000/48000 [==============================] - 0s 3us/step - loss: 0.3835 - accuracy: 0.8619 - val_loss: 0.3653 - val_accuracy: 0.8694\n",
      "Epoch 152/300\n",
      "48000/48000 [==============================] - 0s 3us/step - loss: 0.3817 - accuracy: 0.8626 - val_loss: 0.3649 - val_accuracy: 0.8688\n",
      "Epoch 153/300\n",
      "48000/48000 [==============================] - 0s 3us/step - loss: 0.3833 - accuracy: 0.8608 - val_loss: 0.3654 - val_accuracy: 0.8690\n",
      "Epoch 154/300\n",
      "48000/48000 [==============================] - 0s 3us/step - loss: 0.3811 - accuracy: 0.8632 - val_loss: 0.3642 - val_accuracy: 0.8694\n",
      "Epoch 155/300\n",
      "48000/48000 [==============================] - 0s 3us/step - loss: 0.3834 - accuracy: 0.8616 - val_loss: 0.3649 - val_accuracy: 0.8692\n",
      "Epoch 156/300\n",
      "48000/48000 [==============================] - 0s 3us/step - loss: 0.3828 - accuracy: 0.8605 - val_loss: 0.3645 - val_accuracy: 0.8691\n",
      "Epoch 157/300\n",
      "48000/48000 [==============================] - 0s 3us/step - loss: 0.3815 - accuracy: 0.8618 - val_loss: 0.3644 - val_accuracy: 0.8696\n",
      "Epoch 158/300\n",
      "48000/48000 [==============================] - 0s 3us/step - loss: 0.3814 - accuracy: 0.8625 - val_loss: 0.3649 - val_accuracy: 0.8688\n",
      "Epoch 159/300\n",
      "48000/48000 [==============================] - 0s 3us/step - loss: 0.3832 - accuracy: 0.8627 - val_loss: 0.3653 - val_accuracy: 0.8682\n",
      "Epoch 160/300\n",
      "48000/48000 [==============================] - 0s 3us/step - loss: 0.3828 - accuracy: 0.8604 - val_loss: 0.3651 - val_accuracy: 0.8687\n",
      "Epoch 161/300\n",
      "48000/48000 [==============================] - 0s 3us/step - loss: 0.3792 - accuracy: 0.8626 - val_loss: 0.3645 - val_accuracy: 0.8689\n",
      "Epoch 162/300\n",
      "48000/48000 [==============================] - 0s 3us/step - loss: 0.3811 - accuracy: 0.8622 - val_loss: 0.3645 - val_accuracy: 0.8698\n",
      "Epoch 163/300\n",
      "48000/48000 [==============================] - 0s 3us/step - loss: 0.3794 - accuracy: 0.8633 - val_loss: 0.3637 - val_accuracy: 0.8693\n",
      "Epoch 164/300\n",
      "48000/48000 [==============================] - 0s 3us/step - loss: 0.3809 - accuracy: 0.8620 - val_loss: 0.3638 - val_accuracy: 0.8691\n",
      "Epoch 165/300\n",
      "48000/48000 [==============================] - 0s 3us/step - loss: 0.3796 - accuracy: 0.8624 - val_loss: 0.3639 - val_accuracy: 0.8699\n",
      "Epoch 166/300\n"
     ]
    },
    {
     "name": "stdout",
     "output_type": "stream",
     "text": [
      "48000/48000 [==============================] - 0s 4us/step - loss: 0.3785 - accuracy: 0.8627 - val_loss: 0.3646 - val_accuracy: 0.8688\n",
      "Epoch 167/300\n",
      "48000/48000 [==============================] - 0s 3us/step - loss: 0.3810 - accuracy: 0.8618 - val_loss: 0.3643 - val_accuracy: 0.8688\n",
      "Epoch 168/300\n",
      "48000/48000 [==============================] - 0s 3us/step - loss: 0.3777 - accuracy: 0.8636 - val_loss: 0.3637 - val_accuracy: 0.8693\n",
      "Epoch 169/300\n",
      "48000/48000 [==============================] - 0s 3us/step - loss: 0.3794 - accuracy: 0.8629 - val_loss: 0.3629 - val_accuracy: 0.8699\n",
      "Epoch 170/300\n",
      "48000/48000 [==============================] - 0s 3us/step - loss: 0.3789 - accuracy: 0.8629 - val_loss: 0.3640 - val_accuracy: 0.8695\n",
      "Epoch 171/300\n",
      "48000/48000 [==============================] - 0s 3us/step - loss: 0.3790 - accuracy: 0.8625 - val_loss: 0.3635 - val_accuracy: 0.8697\n",
      "Epoch 172/300\n",
      "48000/48000 [==============================] - 0s 3us/step - loss: 0.3777 - accuracy: 0.8639 - val_loss: 0.3630 - val_accuracy: 0.8703\n",
      "Epoch 173/300\n",
      "48000/48000 [==============================] - 0s 3us/step - loss: 0.3775 - accuracy: 0.8626 - val_loss: 0.3630 - val_accuracy: 0.8700\n",
      "Epoch 174/300\n",
      "48000/48000 [==============================] - 0s 3us/step - loss: 0.3793 - accuracy: 0.8626 - val_loss: 0.3627 - val_accuracy: 0.8694\n",
      "Epoch 175/300\n",
      "48000/48000 [==============================] - 0s 3us/step - loss: 0.3785 - accuracy: 0.8624 - val_loss: 0.3627 - val_accuracy: 0.8693\n",
      "Epoch 176/300\n",
      "48000/48000 [==============================] - 0s 3us/step - loss: 0.3802 - accuracy: 0.8618 - val_loss: 0.3628 - val_accuracy: 0.8695\n",
      "Epoch 177/300\n",
      "48000/48000 [==============================] - 0s 3us/step - loss: 0.3793 - accuracy: 0.8622 - val_loss: 0.3628 - val_accuracy: 0.8694\n",
      "Epoch 178/300\n",
      "48000/48000 [==============================] - 0s 3us/step - loss: 0.3799 - accuracy: 0.8614 - val_loss: 0.3631 - val_accuracy: 0.8693\n",
      "Epoch 179/300\n",
      "48000/48000 [==============================] - 0s 3us/step - loss: 0.3755 - accuracy: 0.8637 - val_loss: 0.3626 - val_accuracy: 0.8702\n",
      "Epoch 180/300\n",
      "48000/48000 [==============================] - 0s 3us/step - loss: 0.3781 - accuracy: 0.8637 - val_loss: 0.3629 - val_accuracy: 0.8700\n",
      "Epoch 181/300\n",
      "48000/48000 [==============================] - 0s 3us/step - loss: 0.3798 - accuracy: 0.8632 - val_loss: 0.3630 - val_accuracy: 0.8698\n",
      "Epoch 182/300\n",
      "48000/48000 [==============================] - 0s 3us/step - loss: 0.3773 - accuracy: 0.8624 - val_loss: 0.3629 - val_accuracy: 0.8698\n",
      "Epoch 183/300\n",
      "48000/48000 [==============================] - 0s 3us/step - loss: 0.3749 - accuracy: 0.8640 - val_loss: 0.3631 - val_accuracy: 0.8692\n",
      "Epoch 184/300\n",
      "48000/48000 [==============================] - 0s 3us/step - loss: 0.3787 - accuracy: 0.8625 - val_loss: 0.3634 - val_accuracy: 0.8690\n",
      "Epoch 185/300\n",
      "48000/48000 [==============================] - 0s 3us/step - loss: 0.3765 - accuracy: 0.8626 - val_loss: 0.3636 - val_accuracy: 0.8689\n",
      "Epoch 186/300\n",
      "48000/48000 [==============================] - 0s 3us/step - loss: 0.3784 - accuracy: 0.8631 - val_loss: 0.3633 - val_accuracy: 0.8688\n",
      "Epoch 187/300\n",
      "48000/48000 [==============================] - 0s 2us/step - loss: 0.3755 - accuracy: 0.8655 - val_loss: 0.3625 - val_accuracy: 0.8699\n",
      "Epoch 188/300\n",
      "48000/48000 [==============================] - 0s 3us/step - loss: 0.3767 - accuracy: 0.8632 - val_loss: 0.3627 - val_accuracy: 0.8701\n",
      "Epoch 189/300\n",
      "48000/48000 [==============================] - 0s 3us/step - loss: 0.3795 - accuracy: 0.8614 - val_loss: 0.3621 - val_accuracy: 0.8689\n",
      "Epoch 190/300\n",
      "48000/48000 [==============================] - 0s 3us/step - loss: 0.3764 - accuracy: 0.8633 - val_loss: 0.3627 - val_accuracy: 0.8691\n",
      "Epoch 191/300\n",
      "48000/48000 [==============================] - 0s 3us/step - loss: 0.3757 - accuracy: 0.8637 - val_loss: 0.3627 - val_accuracy: 0.8689\n",
      "Epoch 192/300\n",
      "48000/48000 [==============================] - 0s 3us/step - loss: 0.3749 - accuracy: 0.8645 - val_loss: 0.3626 - val_accuracy: 0.8697\n",
      "Epoch 193/300\n",
      "48000/48000 [==============================] - 0s 3us/step - loss: 0.3754 - accuracy: 0.8645 - val_loss: 0.3622 - val_accuracy: 0.8702\n",
      "Epoch 194/300\n",
      "48000/48000 [==============================] - 0s 3us/step - loss: 0.3751 - accuracy: 0.8629 - val_loss: 0.3618 - val_accuracy: 0.8702\n",
      "Epoch 195/300\n",
      "48000/48000 [==============================] - 0s 3us/step - loss: 0.3765 - accuracy: 0.8643 - val_loss: 0.3622 - val_accuracy: 0.8703\n",
      "Epoch 196/300\n",
      "48000/48000 [==============================] - 0s 3us/step - loss: 0.3742 - accuracy: 0.8644 - val_loss: 0.3622 - val_accuracy: 0.8696\n",
      "Epoch 197/300\n",
      "48000/48000 [==============================] - 0s 3us/step - loss: 0.3750 - accuracy: 0.8629 - val_loss: 0.3626 - val_accuracy: 0.8707\n",
      "Epoch 198/300\n",
      "48000/48000 [==============================] - 0s 3us/step - loss: 0.3749 - accuracy: 0.8641 - val_loss: 0.3625 - val_accuracy: 0.8707\n",
      "Epoch 199/300\n",
      "48000/48000 [==============================] - 0s 3us/step - loss: 0.3768 - accuracy: 0.8644 - val_loss: 0.3622 - val_accuracy: 0.8700\n",
      "Epoch 200/300\n",
      "48000/48000 [==============================] - 0s 3us/step - loss: 0.3726 - accuracy: 0.8649 - val_loss: 0.3625 - val_accuracy: 0.8710\n",
      "Epoch 201/300\n",
      "48000/48000 [==============================] - 0s 3us/step - loss: 0.3748 - accuracy: 0.8650 - val_loss: 0.3624 - val_accuracy: 0.8692\n",
      "Epoch 202/300\n",
      "48000/48000 [==============================] - 0s 3us/step - loss: 0.3735 - accuracy: 0.8641 - val_loss: 0.3628 - val_accuracy: 0.8698\n",
      "Epoch 203/300\n",
      "48000/48000 [==============================] - 0s 3us/step - loss: 0.3752 - accuracy: 0.8624 - val_loss: 0.3624 - val_accuracy: 0.8702\n",
      "Epoch 204/300\n",
      "48000/48000 [==============================] - 0s 2us/step - loss: 0.3769 - accuracy: 0.8632 - val_loss: 0.3619 - val_accuracy: 0.8690\n",
      "Epoch 205/300\n",
      "48000/48000 [==============================] - 0s 3us/step - loss: 0.3745 - accuracy: 0.8656 - val_loss: 0.3622 - val_accuracy: 0.8697\n",
      "Epoch 206/300\n",
      "48000/48000 [==============================] - 0s 3us/step - loss: 0.3766 - accuracy: 0.8634 - val_loss: 0.3618 - val_accuracy: 0.8697\n",
      "Epoch 207/300\n",
      "48000/48000 [==============================] - 0s 3us/step - loss: 0.3733 - accuracy: 0.8649 - val_loss: 0.3624 - val_accuracy: 0.8687\n",
      "Epoch 208/300\n",
      "48000/48000 [==============================] - 0s 3us/step - loss: 0.3718 - accuracy: 0.8661 - val_loss: 0.3615 - val_accuracy: 0.8690\n",
      "Epoch 209/300\n",
      "48000/48000 [==============================] - 0s 3us/step - loss: 0.3764 - accuracy: 0.8640 - val_loss: 0.3615 - val_accuracy: 0.8695\n",
      "Epoch 210/300\n",
      "48000/48000 [==============================] - 0s 3us/step - loss: 0.3731 - accuracy: 0.8647 - val_loss: 0.3621 - val_accuracy: 0.8694\n",
      "Epoch 211/300\n",
      "48000/48000 [==============================] - 0s 3us/step - loss: 0.3739 - accuracy: 0.8652 - val_loss: 0.3621 - val_accuracy: 0.8680\n",
      "Epoch 212/300\n",
      "48000/48000 [==============================] - 0s 3us/step - loss: 0.3747 - accuracy: 0.8651 - val_loss: 0.3618 - val_accuracy: 0.8693\n",
      "Epoch 213/300\n",
      "48000/48000 [==============================] - 0s 3us/step - loss: 0.3762 - accuracy: 0.8637 - val_loss: 0.3622 - val_accuracy: 0.8696\n",
      "Epoch 214/300\n",
      "48000/48000 [==============================] - 0s 3us/step - loss: 0.3749 - accuracy: 0.8639 - val_loss: 0.3623 - val_accuracy: 0.8700\n",
      "Epoch 215/300\n",
      "48000/48000 [==============================] - 0s 3us/step - loss: 0.3736 - accuracy: 0.8646 - val_loss: 0.3625 - val_accuracy: 0.8706\n",
      "Epoch 216/300\n",
      "48000/48000 [==============================] - 0s 3us/step - loss: 0.3732 - accuracy: 0.8649 - val_loss: 0.3619 - val_accuracy: 0.8693\n",
      "Epoch 217/300\n",
      "48000/48000 [==============================] - 0s 3us/step - loss: 0.3747 - accuracy: 0.8654 - val_loss: 0.3622 - val_accuracy: 0.8696\n",
      "Epoch 218/300\n",
      "48000/48000 [==============================] - 0s 3us/step - loss: 0.3735 - accuracy: 0.8625 - val_loss: 0.3623 - val_accuracy: 0.8701\n",
      "Epoch 219/300\n",
      "48000/48000 [==============================] - 0s 3us/step - loss: 0.3727 - accuracy: 0.8640 - val_loss: 0.3618 - val_accuracy: 0.8699\n",
      "Epoch 220/300\n",
      "48000/48000 [==============================] - 0s 3us/step - loss: 0.3740 - accuracy: 0.8647 - val_loss: 0.3613 - val_accuracy: 0.8692\n",
      "Epoch 221/300\n"
     ]
    },
    {
     "name": "stdout",
     "output_type": "stream",
     "text": [
      "48000/48000 [==============================] - 0s 3us/step - loss: 0.3717 - accuracy: 0.8657 - val_loss: 0.3610 - val_accuracy: 0.8692\n",
      "Epoch 222/300\n",
      "48000/48000 [==============================] - 0s 2us/step - loss: 0.3735 - accuracy: 0.8648 - val_loss: 0.3620 - val_accuracy: 0.8692\n",
      "Epoch 223/300\n",
      "48000/48000 [==============================] - 0s 2us/step - loss: 0.3707 - accuracy: 0.8655 - val_loss: 0.3614 - val_accuracy: 0.8699\n",
      "Epoch 224/300\n",
      "48000/48000 [==============================] - 0s 2us/step - loss: 0.3721 - accuracy: 0.8641 - val_loss: 0.3618 - val_accuracy: 0.8702\n",
      "Epoch 225/300\n",
      "48000/48000 [==============================] - 0s 2us/step - loss: 0.3737 - accuracy: 0.8656 - val_loss: 0.3617 - val_accuracy: 0.8694\n",
      "Epoch 226/300\n",
      "48000/48000 [==============================] - 0s 2us/step - loss: 0.3722 - accuracy: 0.8650 - val_loss: 0.3613 - val_accuracy: 0.8687\n",
      "Epoch 227/300\n",
      "48000/48000 [==============================] - 0s 2us/step - loss: 0.3700 - accuracy: 0.8662 - val_loss: 0.3615 - val_accuracy: 0.8705\n",
      "Epoch 228/300\n",
      "48000/48000 [==============================] - 0s 2us/step - loss: 0.3710 - accuracy: 0.8660 - val_loss: 0.3612 - val_accuracy: 0.8692\n",
      "Epoch 229/300\n",
      "48000/48000 [==============================] - 0s 2us/step - loss: 0.3704 - accuracy: 0.8654 - val_loss: 0.3609 - val_accuracy: 0.8695\n",
      "Epoch 230/300\n",
      "48000/48000 [==============================] - 0s 2us/step - loss: 0.3723 - accuracy: 0.8653 - val_loss: 0.3611 - val_accuracy: 0.8706\n",
      "Epoch 231/300\n",
      "48000/48000 [==============================] - 0s 2us/step - loss: 0.3732 - accuracy: 0.8646 - val_loss: 0.3613 - val_accuracy: 0.8699\n",
      "Epoch 232/300\n",
      "48000/48000 [==============================] - 0s 2us/step - loss: 0.3719 - accuracy: 0.8644 - val_loss: 0.3613 - val_accuracy: 0.8702\n",
      "Epoch 233/300\n",
      "48000/48000 [==============================] - 0s 2us/step - loss: 0.3717 - accuracy: 0.8667 - val_loss: 0.3619 - val_accuracy: 0.8697\n",
      "Epoch 234/300\n",
      "48000/48000 [==============================] - 0s 2us/step - loss: 0.3690 - accuracy: 0.8658 - val_loss: 0.3615 - val_accuracy: 0.8693\n",
      "Epoch 235/300\n",
      "48000/48000 [==============================] - 0s 2us/step - loss: 0.3723 - accuracy: 0.8659 - val_loss: 0.3611 - val_accuracy: 0.8702\n",
      "Epoch 236/300\n",
      "48000/48000 [==============================] - 0s 2us/step - loss: 0.3702 - accuracy: 0.8647 - val_loss: 0.3617 - val_accuracy: 0.8702\n",
      "Epoch 237/300\n",
      "48000/48000 [==============================] - 0s 2us/step - loss: 0.3692 - accuracy: 0.8657 - val_loss: 0.3615 - val_accuracy: 0.8690\n",
      "Epoch 238/300\n",
      "48000/48000 [==============================] - 0s 2us/step - loss: 0.3703 - accuracy: 0.8653 - val_loss: 0.3614 - val_accuracy: 0.8704\n",
      "Epoch 239/300\n",
      "48000/48000 [==============================] - 0s 2us/step - loss: 0.3711 - accuracy: 0.8660 - val_loss: 0.3619 - val_accuracy: 0.8689\n",
      "Epoch 240/300\n",
      "48000/48000 [==============================] - 0s 2us/step - loss: 0.3713 - accuracy: 0.8654 - val_loss: 0.3622 - val_accuracy: 0.8690\n",
      "Epoch 241/300\n",
      "48000/48000 [==============================] - 0s 2us/step - loss: 0.3702 - accuracy: 0.8649 - val_loss: 0.3615 - val_accuracy: 0.8701\n",
      "Epoch 242/300\n",
      "48000/48000 [==============================] - 0s 2us/step - loss: 0.3687 - accuracy: 0.8672 - val_loss: 0.3612 - val_accuracy: 0.8681\n",
      "Epoch 243/300\n",
      "48000/48000 [==============================] - 0s 2us/step - loss: 0.3725 - accuracy: 0.8659 - val_loss: 0.3609 - val_accuracy: 0.8700\n",
      "Epoch 244/300\n",
      "48000/48000 [==============================] - 0s 2us/step - loss: 0.3701 - accuracy: 0.8653 - val_loss: 0.3614 - val_accuracy: 0.8678\n",
      "Epoch 245/300\n",
      "48000/48000 [==============================] - 0s 2us/step - loss: 0.3701 - accuracy: 0.8661 - val_loss: 0.3617 - val_accuracy: 0.8686\n",
      "Epoch 246/300\n",
      "48000/48000 [==============================] - 0s 2us/step - loss: 0.3708 - accuracy: 0.8660 - val_loss: 0.3613 - val_accuracy: 0.8702\n",
      "Epoch 247/300\n",
      "48000/48000 [==============================] - 0s 2us/step - loss: 0.3702 - accuracy: 0.8661 - val_loss: 0.3615 - val_accuracy: 0.8692\n",
      "Epoch 248/300\n",
      "48000/48000 [==============================] - 0s 3us/step - loss: 0.3694 - accuracy: 0.8675 - val_loss: 0.3613 - val_accuracy: 0.8693\n",
      "Epoch 249/300\n",
      "48000/48000 [==============================] - 0s 2us/step - loss: 0.3703 - accuracy: 0.8656 - val_loss: 0.3610 - val_accuracy: 0.8702\n",
      "Epoch 250/300\n",
      "48000/48000 [==============================] - 0s 2us/step - loss: 0.3712 - accuracy: 0.8656 - val_loss: 0.3616 - val_accuracy: 0.8704\n",
      "Epoch 251/300\n",
      "48000/48000 [==============================] - 0s 2us/step - loss: 0.3690 - accuracy: 0.8661 - val_loss: 0.3608 - val_accuracy: 0.8702\n",
      "Epoch 252/300\n",
      "48000/48000 [==============================] - 0s 2us/step - loss: 0.3692 - accuracy: 0.8651 - val_loss: 0.3607 - val_accuracy: 0.8697\n",
      "Epoch 253/300\n",
      "48000/48000 [==============================] - 0s 2us/step - loss: 0.3687 - accuracy: 0.8660 - val_loss: 0.3610 - val_accuracy: 0.8702\n",
      "Epoch 254/300\n",
      "48000/48000 [==============================] - 0s 2us/step - loss: 0.3687 - accuracy: 0.8660 - val_loss: 0.3601 - val_accuracy: 0.8715\n",
      "Epoch 255/300\n",
      "48000/48000 [==============================] - 0s 3us/step - loss: 0.3698 - accuracy: 0.8657 - val_loss: 0.3614 - val_accuracy: 0.8703\n",
      "Epoch 256/300\n",
      "48000/48000 [==============================] - 0s 2us/step - loss: 0.3702 - accuracy: 0.8655 - val_loss: 0.3613 - val_accuracy: 0.8689\n",
      "Epoch 257/300\n",
      "48000/48000 [==============================] - 0s 2us/step - loss: 0.3694 - accuracy: 0.8664 - val_loss: 0.3602 - val_accuracy: 0.8705\n",
      "Epoch 258/300\n",
      "48000/48000 [==============================] - 0s 2us/step - loss: 0.3686 - accuracy: 0.8670 - val_loss: 0.3604 - val_accuracy: 0.8692\n",
      "Epoch 259/300\n",
      "48000/48000 [==============================] - 0s 3us/step - loss: 0.3706 - accuracy: 0.8654 - val_loss: 0.3606 - val_accuracy: 0.8695\n",
      "Epoch 260/300\n",
      "48000/48000 [==============================] - 0s 2us/step - loss: 0.3692 - accuracy: 0.8653 - val_loss: 0.3609 - val_accuracy: 0.8693\n",
      "Epoch 261/300\n",
      "48000/48000 [==============================] - 0s 2us/step - loss: 0.3685 - accuracy: 0.8662 - val_loss: 0.3614 - val_accuracy: 0.8690\n",
      "Epoch 262/300\n",
      "48000/48000 [==============================] - 0s 2us/step - loss: 0.3683 - accuracy: 0.8669 - val_loss: 0.3608 - val_accuracy: 0.8712\n",
      "Epoch 263/300\n",
      "48000/48000 [==============================] - 0s 2us/step - loss: 0.3705 - accuracy: 0.8659 - val_loss: 0.3611 - val_accuracy: 0.8703\n",
      "Epoch 264/300\n",
      "48000/48000 [==============================] - 0s 2us/step - loss: 0.3702 - accuracy: 0.8663 - val_loss: 0.3610 - val_accuracy: 0.8701\n",
      "Epoch 265/300\n",
      "48000/48000 [==============================] - 0s 2us/step - loss: 0.3661 - accuracy: 0.8666 - val_loss: 0.3613 - val_accuracy: 0.8692\n",
      "Epoch 266/300\n",
      "48000/48000 [==============================] - 0s 2us/step - loss: 0.3657 - accuracy: 0.8671 - val_loss: 0.3613 - val_accuracy: 0.8699\n",
      "Epoch 267/300\n",
      "48000/48000 [==============================] - 0s 2us/step - loss: 0.3669 - accuracy: 0.8676 - val_loss: 0.3602 - val_accuracy: 0.8712\n",
      "Epoch 268/300\n",
      "48000/48000 [==============================] - 0s 2us/step - loss: 0.3699 - accuracy: 0.8646 - val_loss: 0.3609 - val_accuracy: 0.8704\n",
      "Epoch 269/300\n",
      "48000/48000 [==============================] - 0s 2us/step - loss: 0.3670 - accuracy: 0.8687 - val_loss: 0.3608 - val_accuracy: 0.8705\n",
      "Epoch 270/300\n",
      "48000/48000 [==============================] - 0s 2us/step - loss: 0.3695 - accuracy: 0.8671 - val_loss: 0.3616 - val_accuracy: 0.8717\n",
      "Epoch 271/300\n",
      "48000/48000 [==============================] - 0s 2us/step - loss: 0.3668 - accuracy: 0.8679 - val_loss: 0.3611 - val_accuracy: 0.8715\n",
      "Epoch 272/300\n",
      "48000/48000 [==============================] - 0s 2us/step - loss: 0.3671 - accuracy: 0.8655 - val_loss: 0.3616 - val_accuracy: 0.8709\n",
      "Epoch 273/300\n",
      "48000/48000 [==============================] - 0s 2us/step - loss: 0.3677 - accuracy: 0.8685 - val_loss: 0.3612 - val_accuracy: 0.8702\n",
      "Epoch 274/300\n",
      "48000/48000 [==============================] - 0s 2us/step - loss: 0.3683 - accuracy: 0.8651 - val_loss: 0.3607 - val_accuracy: 0.8718\n",
      "Epoch 275/300\n",
      "48000/48000 [==============================] - 0s 2us/step - loss: 0.3678 - accuracy: 0.8654 - val_loss: 0.3606 - val_accuracy: 0.8712\n",
      "Epoch 276/300\n"
     ]
    },
    {
     "name": "stdout",
     "output_type": "stream",
     "text": [
      "48000/48000 [==============================] - 0s 2us/step - loss: 0.3665 - accuracy: 0.8678 - val_loss: 0.3600 - val_accuracy: 0.8709\n",
      "Epoch 277/300\n",
      "48000/48000 [==============================] - 0s 2us/step - loss: 0.3675 - accuracy: 0.8675 - val_loss: 0.3606 - val_accuracy: 0.8708\n",
      "Epoch 278/300\n",
      "48000/48000 [==============================] - 0s 2us/step - loss: 0.3682 - accuracy: 0.8667 - val_loss: 0.3608 - val_accuracy: 0.8712\n",
      "Epoch 279/300\n",
      "48000/48000 [==============================] - 0s 2us/step - loss: 0.3652 - accuracy: 0.8676 - val_loss: 0.3600 - val_accuracy: 0.8702\n",
      "Epoch 280/300\n",
      "48000/48000 [==============================] - 0s 2us/step - loss: 0.3665 - accuracy: 0.8657 - val_loss: 0.3602 - val_accuracy: 0.8716\n",
      "Epoch 281/300\n",
      "48000/48000 [==============================] - 0s 2us/step - loss: 0.3674 - accuracy: 0.8668 - val_loss: 0.3602 - val_accuracy: 0.8720\n",
      "Epoch 282/300\n",
      "48000/48000 [==============================] - 0s 2us/step - loss: 0.3671 - accuracy: 0.8677 - val_loss: 0.3611 - val_accuracy: 0.8722\n",
      "Epoch 283/300\n",
      "48000/48000 [==============================] - 0s 2us/step - loss: 0.3672 - accuracy: 0.8681 - val_loss: 0.3605 - val_accuracy: 0.8716\n",
      "Epoch 284/300\n",
      "48000/48000 [==============================] - 0s 2us/step - loss: 0.3666 - accuracy: 0.8665 - val_loss: 0.3602 - val_accuracy: 0.8712\n",
      "Epoch 285/300\n",
      "48000/48000 [==============================] - 0s 2us/step - loss: 0.3685 - accuracy: 0.8665 - val_loss: 0.3604 - val_accuracy: 0.8712\n",
      "Epoch 286/300\n",
      "48000/48000 [==============================] - 0s 2us/step - loss: 0.3675 - accuracy: 0.8674 - val_loss: 0.3608 - val_accuracy: 0.8707\n",
      "Epoch 287/300\n",
      "48000/48000 [==============================] - 0s 2us/step - loss: 0.3695 - accuracy: 0.8652 - val_loss: 0.3609 - val_accuracy: 0.8723\n",
      "Epoch 288/300\n",
      "48000/48000 [==============================] - 0s 2us/step - loss: 0.3683 - accuracy: 0.8678 - val_loss: 0.3603 - val_accuracy: 0.8716\n",
      "Epoch 289/300\n",
      "48000/48000 [==============================] - 0s 2us/step - loss: 0.3668 - accuracy: 0.8673 - val_loss: 0.3602 - val_accuracy: 0.8721\n",
      "Epoch 290/300\n",
      "48000/48000 [==============================] - 0s 2us/step - loss: 0.3678 - accuracy: 0.8671 - val_loss: 0.3605 - val_accuracy: 0.8722\n",
      "Epoch 291/300\n",
      "48000/48000 [==============================] - 0s 3us/step - loss: 0.3688 - accuracy: 0.8662 - val_loss: 0.3605 - val_accuracy: 0.8718\n",
      "Epoch 292/300\n",
      "48000/48000 [==============================] - 0s 3us/step - loss: 0.3684 - accuracy: 0.8676 - val_loss: 0.3608 - val_accuracy: 0.8708\n",
      "Epoch 293/300\n",
      "48000/48000 [==============================] - 0s 3us/step - loss: 0.3699 - accuracy: 0.8660 - val_loss: 0.3607 - val_accuracy: 0.8713\n",
      "Epoch 294/300\n",
      "48000/48000 [==============================] - 0s 3us/step - loss: 0.3668 - accuracy: 0.8659 - val_loss: 0.3606 - val_accuracy: 0.8712\n",
      "Epoch 295/300\n",
      "48000/48000 [==============================] - 0s 3us/step - loss: 0.3672 - accuracy: 0.8662 - val_loss: 0.3606 - val_accuracy: 0.8713\n",
      "Epoch 296/300\n",
      "48000/48000 [==============================] - 0s 3us/step - loss: 0.3681 - accuracy: 0.8648 - val_loss: 0.3601 - val_accuracy: 0.8720\n",
      "Epoch 297/300\n",
      "48000/48000 [==============================] - 0s 3us/step - loss: 0.3692 - accuracy: 0.8654 - val_loss: 0.3609 - val_accuracy: 0.8707\n",
      "Epoch 298/300\n",
      "48000/48000 [==============================] - 0s 3us/step - loss: 0.3659 - accuracy: 0.8664 - val_loss: 0.3609 - val_accuracy: 0.8711\n",
      "Epoch 299/300\n",
      "48000/48000 [==============================] - 0s 3us/step - loss: 0.3684 - accuracy: 0.8667 - val_loss: 0.3604 - val_accuracy: 0.8718\n",
      "Epoch 300/300\n",
      "48000/48000 [==============================] - 0s 3us/step - loss: 0.3689 - accuracy: 0.8671 - val_loss: 0.3607 - val_accuracy: 0.8727\n"
     ]
    }
   ],
   "source": [
    "model = keras.Sequential([\n",
    "    keras.layers.Dense(32, activation='relu'),\n",
    "    keras.layers.Dropout(0.2),\n",
    "    keras.layers.Dense(10, activation='softmax')\n",
    "])\n",
    "\n",
    "model.compile(optimizer='adam', loss='sparse_categorical_crossentropy',metrics=['accuracy'])\n",
    "train_history_pca = model.fit(np.array(newX_train),np.array(y_train),validation_data=(newX_val, y_val),epochs=300,batch_size=1000)"
   ]
  },
  {
   "cell_type": "code",
   "execution_count": 58,
   "metadata": {
    "scrolled": true
   },
   "outputs": [
    {
     "data": {
      "image/png": "[encoded data removed]",
      "text/plain": [
       "<Figure size 432x288 with 1 Axes>"
      ]
     },
     "metadata": {
      "needs_background": "light"
     },
     "output_type": "display_data"
    }
   ],
   "source": [
    "loss = train_history_pca.history['loss']\n",
    "val_loss = train_history_pca.history['val_loss']\n",
    "plt.plot(loss)\n",
    "plt.plot(val_loss)\n",
    "plt.legend(['loss', 'val_loss'])\n",
    "plt.show()"
   ]
  },
  {
   "cell_type": "markdown",
   "metadata": {},
   "source": [
    "### 15 componentes"
   ]
  },
  {
   "cell_type": "code",
   "execution_count": 60,
   "metadata": {},
   "outputs": [],
   "source": [
    "pca = PCA(n_components=15)\n",
    "pca.fit(X_train)\n",
    "newX_train = pca.transform(X_train)\n",
    "newX_val = pca.transform(X_val)"
   ]
  },
  {
   "cell_type": "code",
   "execution_count": 61,
   "metadata": {},
   "outputs": [
    {
     "data": {
      "text/plain": [
       "array([0.2898411 , 0.17740469, 0.06014269, 0.04988386, 0.038573  ,\n",
       "       0.03455608, 0.02352776, 0.0190694 , 0.01344913, 0.0130614 ,\n",
       "       0.00990559, 0.00910351, 0.00763407, 0.00658964, 0.00610811])"
      ]
     },
     "execution_count": 61,
     "metadata": {},
     "output_type": "execute_result"
    }
   ],
   "source": [
    "variancesPerFeature = pca.explained_variance_ratio_\n",
    "variancesPerFeature"
   ]
  },
  {
   "cell_type": "code",
   "execution_count": 62,
   "metadata": {},
   "outputs": [
    {
     "data": {
      "text/plain": [
       "0.7588500258750605"
      ]
     },
     "execution_count": 62,
     "metadata": {},
     "output_type": "execute_result"
    }
   ],
   "source": [
    "variance = np.sum(variancesPerFeature)\n",
    "variance"
   ]
  },
  {
   "cell_type": "code",
   "execution_count": 63,
   "metadata": {},
   "outputs": [
    {
     "name": "stdout",
     "output_type": "stream",
     "text": [
      "Train on 48000 samples, validate on 12000 samples\n",
      "Epoch 1/50\n",
      "48000/48000 [==============================] - 0s 5us/step - loss: 2.7152 - accuracy: 0.1249 - val_loss: 2.2038 - val_accuracy: 0.1869\n",
      "Epoch 2/50\n",
      "48000/48000 [==============================] - 0s 2us/step - loss: 2.1073 - accuracy: 0.2651 - val_loss: 1.7683 - val_accuracy: 0.4035\n",
      "Epoch 3/50\n",
      "48000/48000 [==============================] - 0s 2us/step - loss: 1.7616 - accuracy: 0.3833 - val_loss: 1.4934 - val_accuracy: 0.5233\n",
      "Epoch 4/50\n",
      "48000/48000 [==============================] - 0s 2us/step - loss: 1.5341 - accuracy: 0.4783 - val_loss: 1.2975 - val_accuracy: 0.5985\n",
      "Epoch 5/50\n",
      "48000/48000 [==============================] - 0s 2us/step - loss: 1.3699 - accuracy: 0.5384 - val_loss: 1.1545 - val_accuracy: 0.6359\n",
      "Epoch 6/50\n",
      "48000/48000 [==============================] - 0s 2us/step - loss: 1.2628 - accuracy: 0.5680 - val_loss: 1.0441 - val_accuracy: 0.6661\n",
      "Epoch 7/50\n",
      "48000/48000 [==============================] - 0s 2us/step - loss: 1.1606 - accuracy: 0.6085 - val_loss: 0.9485 - val_accuracy: 0.7025\n",
      "Epoch 8/50\n",
      "48000/48000 [==============================] - 0s 3us/step - loss: 1.0801 - accuracy: 0.6353 - val_loss: 0.8710 - val_accuracy: 0.7193\n",
      "Epoch 9/50\n",
      "48000/48000 [==============================] - 0s 3us/step - loss: 1.0201 - accuracy: 0.6461 - val_loss: 0.8130 - val_accuracy: 0.7300\n",
      "Epoch 10/50\n",
      "48000/48000 [==============================] - 0s 2us/step - loss: 0.9705 - accuracy: 0.6578 - val_loss: 0.7723 - val_accuracy: 0.7366\n",
      "Epoch 11/50\n",
      "48000/48000 [==============================] - 0s 3us/step - loss: 0.9369 - accuracy: 0.6639 - val_loss: 0.7432 - val_accuracy: 0.7395\n",
      "Epoch 12/50\n",
      "48000/48000 [==============================] - 0s 3us/step - loss: 0.9104 - accuracy: 0.6677 - val_loss: 0.7213 - val_accuracy: 0.7437\n",
      "Epoch 13/50\n",
      "48000/48000 [==============================] - 0s 2us/step - loss: 0.8860 - accuracy: 0.6760 - val_loss: 0.7041 - val_accuracy: 0.7463\n",
      "Epoch 14/50\n",
      "48000/48000 [==============================] - 0s 3us/step - loss: 0.8663 - accuracy: 0.6816 - val_loss: 0.6905 - val_accuracy: 0.7494\n",
      "Epoch 15/50\n",
      "48000/48000 [==============================] - 0s 2us/step - loss: 0.8517 - accuracy: 0.6827 - val_loss: 0.6788 - val_accuracy: 0.7514\n",
      "Epoch 16/50\n",
      "48000/48000 [==============================] - 0s 3us/step - loss: 0.8396 - accuracy: 0.6894 - val_loss: 0.6703 - val_accuracy: 0.7527\n",
      "Epoch 17/50\n",
      "48000/48000 [==============================] - 0s 3us/step - loss: 0.8269 - accuracy: 0.6939 - val_loss: 0.6624 - val_accuracy: 0.7552\n",
      "Epoch 18/50\n",
      "48000/48000 [==============================] - 0s 2us/step - loss: 0.8224 - accuracy: 0.6959 - val_loss: 0.6556 - val_accuracy: 0.7575\n",
      "Epoch 19/50\n",
      "48000/48000 [==============================] - 0s 3us/step - loss: 0.8130 - accuracy: 0.7024 - val_loss: 0.6502 - val_accuracy: 0.7592\n",
      "Epoch 20/50\n",
      "48000/48000 [==============================] - 0s 2us/step - loss: 0.8062 - accuracy: 0.7023 - val_loss: 0.6451 - val_accuracy: 0.7610\n",
      "Epoch 21/50\n",
      "48000/48000 [==============================] - 0s 2us/step - loss: 0.8015 - accuracy: 0.7038 - val_loss: 0.6404 - val_accuracy: 0.7624\n",
      "Epoch 22/50\n",
      "48000/48000 [==============================] - 0s 2us/step - loss: 0.7938 - accuracy: 0.7065 - val_loss: 0.6364 - val_accuracy: 0.7617\n",
      "Epoch 23/50\n",
      "48000/48000 [==============================] - 0s 2us/step - loss: 0.7878 - accuracy: 0.7106 - val_loss: 0.6328 - val_accuracy: 0.7629\n",
      "Epoch 24/50\n",
      "48000/48000 [==============================] - 0s 3us/step - loss: 0.7868 - accuracy: 0.7099 - val_loss: 0.6294 - val_accuracy: 0.7648\n",
      "Epoch 25/50\n",
      "48000/48000 [==============================] - 0s 2us/step - loss: 0.7818 - accuracy: 0.7135 - val_loss: 0.6262 - val_accuracy: 0.7656\n",
      "Epoch 26/50\n",
      "48000/48000 [==============================] - 0s 3us/step - loss: 0.7719 - accuracy: 0.7149 - val_loss: 0.6230 - val_accuracy: 0.7673\n",
      "Epoch 27/50\n",
      "48000/48000 [==============================] - 0s 3us/step - loss: 0.7724 - accuracy: 0.7136 - val_loss: 0.6208 - val_accuracy: 0.7692\n",
      "Epoch 28/50\n",
      "48000/48000 [==============================] - 0s 2us/step - loss: 0.7708 - accuracy: 0.7156 - val_loss: 0.6183 - val_accuracy: 0.7700\n",
      "Epoch 29/50\n",
      "48000/48000 [==============================] - 0s 2us/step - loss: 0.7643 - accuracy: 0.7168 - val_loss: 0.6168 - val_accuracy: 0.7703\n",
      "Epoch 30/50\n",
      "48000/48000 [==============================] - 0s 3us/step - loss: 0.7638 - accuracy: 0.7185 - val_loss: 0.6143 - val_accuracy: 0.7710\n",
      "Epoch 31/50\n",
      "48000/48000 [==============================] - 0s 2us/step - loss: 0.7553 - accuracy: 0.7186 - val_loss: 0.6123 - val_accuracy: 0.7725\n",
      "Epoch 32/50\n",
      "48000/48000 [==============================] - 0s 2us/step - loss: 0.7584 - accuracy: 0.7200 - val_loss: 0.6104 - val_accuracy: 0.7722\n",
      "Epoch 33/50\n",
      "48000/48000 [==============================] - 0s 3us/step - loss: 0.7526 - accuracy: 0.7206 - val_loss: 0.6090 - val_accuracy: 0.7717\n",
      "Epoch 34/50\n",
      "48000/48000 [==============================] - 0s 3us/step - loss: 0.7492 - accuracy: 0.7225 - val_loss: 0.6072 - val_accuracy: 0.7734\n",
      "Epoch 35/50\n",
      "48000/48000 [==============================] - 0s 3us/step - loss: 0.7482 - accuracy: 0.7221 - val_loss: 0.6052 - val_accuracy: 0.7734\n",
      "Epoch 36/50\n",
      "48000/48000 [==============================] - 0s 3us/step - loss: 0.7466 - accuracy: 0.7220 - val_loss: 0.6041 - val_accuracy: 0.7734\n",
      "Epoch 37/50\n",
      "48000/48000 [==============================] - 0s 3us/step - loss: 0.7426 - accuracy: 0.7245 - val_loss: 0.6024 - val_accuracy: 0.7736\n",
      "Epoch 38/50\n",
      "48000/48000 [==============================] - 0s 3us/step - loss: 0.7411 - accuracy: 0.7241 - val_loss: 0.6014 - val_accuracy: 0.7757\n",
      "Epoch 39/50\n",
      "48000/48000 [==============================] - 0s 2us/step - loss: 0.7355 - accuracy: 0.7271 - val_loss: 0.5999 - val_accuracy: 0.7746\n",
      "Epoch 40/50\n",
      "48000/48000 [==============================] - 0s 2us/step - loss: 0.7346 - accuracy: 0.7258 - val_loss: 0.5988 - val_accuracy: 0.7753\n",
      "Epoch 41/50\n",
      "48000/48000 [==============================] - 0s 3us/step - loss: 0.7356 - accuracy: 0.7270 - val_loss: 0.5977 - val_accuracy: 0.7757\n",
      "Epoch 42/50\n",
      "48000/48000 [==============================] - 0s 3us/step - loss: 0.7355 - accuracy: 0.7264 - val_loss: 0.5966 - val_accuracy: 0.7767\n",
      "Epoch 43/50\n",
      "48000/48000 [==============================] - 0s 3us/step - loss: 0.7317 - accuracy: 0.7292 - val_loss: 0.5957 - val_accuracy: 0.7765\n",
      "Epoch 44/50\n",
      "48000/48000 [==============================] - 0s 3us/step - loss: 0.7288 - accuracy: 0.7286 - val_loss: 0.5944 - val_accuracy: 0.7778\n",
      "Epoch 45/50\n",
      "48000/48000 [==============================] - 0s 3us/step - loss: 0.7291 - accuracy: 0.7285 - val_loss: 0.5939 - val_accuracy: 0.7776\n",
      "Epoch 46/50\n",
      "48000/48000 [==============================] - 0s 2us/step - loss: 0.7312 - accuracy: 0.7266 - val_loss: 0.5931 - val_accuracy: 0.7783\n",
      "Epoch 47/50\n",
      "48000/48000 [==============================] - 0s 2us/step - loss: 0.7277 - accuracy: 0.7284 - val_loss: 0.5918 - val_accuracy: 0.7771\n",
      "Epoch 48/50\n",
      "48000/48000 [==============================] - 0s 2us/step - loss: 0.7284 - accuracy: 0.7279 - val_loss: 0.5910 - val_accuracy: 0.7770\n",
      "Epoch 49/50\n",
      "48000/48000 [==============================] - 0s 2us/step - loss: 0.7242 - accuracy: 0.7288 - val_loss: 0.5901 - val_accuracy: 0.7791\n",
      "Epoch 50/50\n",
      "48000/48000 [==============================] - 0s 3us/step - loss: 0.7246 - accuracy: 0.7299 - val_loss: 0.5896 - val_accuracy: 0.7791\n"
     ]
    }
   ],
   "source": [
    "model = keras.Sequential([\n",
    "    keras.layers.Dense(12, activation='relu'),\n",
    "    keras.layers.Dropout(0.2),\n",
    "    keras.layers.Dense(10, activation='softmax')\n",
    "])\n",
    "\n",
    "model.compile(optimizer='adam', loss='sparse_categorical_crossentropy',metrics=['accuracy'])\n",
    "train_history_pca = model.fit(np.array(newX_train),np.array(y_train),validation_data=(newX_val, y_val),epochs=50,batch_size=1000)"
   ]
  },
  {
   "cell_type": "code",
   "execution_count": 64,
   "metadata": {},
   "outputs": [
    {
     "data": {
      "image/png": "[encoded data removed]",
      "text/plain": [
       "<Figure size 432x288 with 1 Axes>"
      ]
     },
     "metadata": {
      "needs_background": "light"
     },
     "output_type": "display_data"
    }
   ],
   "source": [
    "loss = train_history_pca.history['loss']\n",
    "val_loss = train_history_pca.history['val_loss']\n",
    "plt.plot(loss)\n",
    "plt.plot(val_loss)\n",
    "plt.legend(['loss', 'val_loss'])\n",
    "plt.show()"
   ]
  },
  {
   "cell_type": "markdown",
   "metadata": {},
   "source": [
    "### 128 Componentes"
   ]
  },
  {
   "cell_type": "code",
   "execution_count": 65,
   "metadata": {},
   "outputs": [],
   "source": [
    "pca = PCA(n_components=128)\n",
    "pca.fit(X_train)\n",
    "newX_train = pca.transform(X_train)\n",
    "newX_val = pca.transform(X_val)"
   ]
  },
  {
   "cell_type": "code",
   "execution_count": 66,
   "metadata": {},
   "outputs": [
    {
     "data": {
      "text/plain": [
       "array([0.2898411 , 0.17740469, 0.06014269, 0.04988386, 0.038573  ,\n",
       "       0.03455608, 0.02352776, 0.0190694 , 0.01344913, 0.0130614 ,\n",
       "       0.00990559, 0.00910351, 0.00763416, 0.0065899 , 0.00610855,\n",
       "       0.00590688, 0.00554203, 0.00529725, 0.00463077, 0.00455368,\n",
       "       0.00431895, 0.00407812, 0.00383489, 0.00376273, 0.00364112,\n",
       "       0.00350273, 0.00333314, 0.00319524, 0.00310191, 0.00296527,\n",
       "       0.00276032, 0.00265654, 0.00264357, 0.00255114, 0.00249119,\n",
       "       0.00239356, 0.00230545, 0.00223689, 0.0022014 , 0.0021076 ,\n",
       "       0.00201102, 0.00196958, 0.00194251, 0.0018329 , 0.00175575,\n",
       "       0.00171609, 0.00167287, 0.00165302, 0.00161781, 0.00156227,\n",
       "       0.00154178, 0.00151259, 0.00147691, 0.00143158, 0.00138061,\n",
       "       0.00137085, 0.00131084, 0.00129362, 0.00127233, 0.00126095,\n",
       "       0.00122854, 0.00120756, 0.00118727, 0.00116214, 0.00115392,\n",
       "       0.00112162, 0.00111083, 0.00109214, 0.00106647, 0.00103918,\n",
       "       0.00103816, 0.00101868, 0.00097091, 0.00094978, 0.00093771,\n",
       "       0.0009324 , 0.00093141, 0.00090952, 0.00089283, 0.00087331,\n",
       "       0.00085598, 0.0008409 , 0.00082344, 0.00081919, 0.00081399,\n",
       "       0.00079742, 0.00077941, 0.00076714, 0.0007602 , 0.00075079,\n",
       "       0.00074872, 0.00073784, 0.00072116, 0.00071951, 0.00071218,\n",
       "       0.00070163, 0.00068686, 0.0006791 , 0.00067199, 0.00066041,\n",
       "       0.00065358, 0.00063889, 0.0006336 , 0.00062073, 0.00061696,\n",
       "       0.00060536, 0.0006012 , 0.00058596, 0.00058165, 0.00058005,\n",
       "       0.00056813, 0.00055979, 0.00055022, 0.00053585, 0.00053179,\n",
       "       0.00052691, 0.00051844, 0.0005144 , 0.00050339, 0.00049468,\n",
       "       0.00048838, 0.00048338, 0.00047497, 0.00047364, 0.00046254,\n",
       "       0.00045608, 0.00045194, 0.00044677])"
      ]
     },
     "execution_count": 66,
     "metadata": {},
     "output_type": "execute_result"
    }
   ],
   "source": [
    "variancesPerFeature = pca.explained_variance_ratio_\n",
    "variancesPerFeature"
   ]
  },
  {
   "cell_type": "code",
   "execution_count": 67,
   "metadata": {},
   "outputs": [
    {
     "data": {
      "text/plain": [
       "0.9274805690058738"
      ]
     },
     "execution_count": 67,
     "metadata": {},
     "output_type": "execute_result"
    }
   ],
   "source": [
    "variance = np.sum(variancesPerFeature)\n",
    "variance"
   ]
  },
  {
   "cell_type": "code",
   "execution_count": 68,
   "metadata": {},
   "outputs": [
    {
     "name": "stdout",
     "output_type": "stream",
     "text": [
      "Train on 48000 samples, validate on 12000 samples\n",
      "Epoch 1/100\n",
      "48000/48000 [==============================] - 0s 9us/step - loss: 1.8223 - accuracy: 0.3970 - val_loss: 1.1585 - val_accuracy: 0.7042\n",
      "Epoch 2/100\n",
      "48000/48000 [==============================] - 0s 5us/step - loss: 0.9616 - accuracy: 0.7046 - val_loss: 0.6353 - val_accuracy: 0.7934\n",
      "Epoch 3/100\n",
      "48000/48000 [==============================] - 0s 5us/step - loss: 0.6754 - accuracy: 0.7748 - val_loss: 0.5055 - val_accuracy: 0.8232\n",
      "Epoch 4/100\n",
      "48000/48000 [==============================] - 0s 5us/step - loss: 0.5782 - accuracy: 0.8000 - val_loss: 0.4573 - val_accuracy: 0.8382\n",
      "Epoch 5/100\n",
      "48000/48000 [==============================] - 0s 5us/step - loss: 0.5323 - accuracy: 0.8153 - val_loss: 0.4326 - val_accuracy: 0.8459\n",
      "Epoch 6/100\n",
      "48000/48000 [==============================] - 0s 5us/step - loss: 0.4997 - accuracy: 0.8248 - val_loss: 0.4158 - val_accuracy: 0.8507\n",
      "Epoch 7/100\n",
      "48000/48000 [==============================] - 0s 5us/step - loss: 0.4774 - accuracy: 0.8323 - val_loss: 0.4040 - val_accuracy: 0.8537\n",
      "Epoch 8/100\n",
      "48000/48000 [==============================] - 0s 5us/step - loss: 0.4620 - accuracy: 0.8364 - val_loss: 0.3941 - val_accuracy: 0.8554\n",
      "Epoch 9/100\n",
      "48000/48000 [==============================] - 0s 5us/step - loss: 0.4511 - accuracy: 0.8406 - val_loss: 0.3866 - val_accuracy: 0.8568\n",
      "Epoch 10/100\n",
      "48000/48000 [==============================] - 0s 5us/step - loss: 0.4378 - accuracy: 0.8433 - val_loss: 0.3806 - val_accuracy: 0.8581\n",
      "Epoch 11/100\n",
      "48000/48000 [==============================] - 0s 6us/step - loss: 0.4306 - accuracy: 0.8476 - val_loss: 0.3754 - val_accuracy: 0.8612\n",
      "Epoch 12/100\n",
      "48000/48000 [==============================] - 0s 5us/step - loss: 0.4218 - accuracy: 0.8504 - val_loss: 0.3703 - val_accuracy: 0.8627\n",
      "Epoch 13/100\n",
      "48000/48000 [==============================] - 0s 5us/step - loss: 0.4154 - accuracy: 0.8508 - val_loss: 0.3662 - val_accuracy: 0.8638\n",
      "Epoch 14/100\n",
      "48000/48000 [==============================] - 0s 7us/step - loss: 0.4080 - accuracy: 0.8545 - val_loss: 0.3617 - val_accuracy: 0.8667\n",
      "Epoch 15/100\n",
      "48000/48000 [==============================] - 0s 6us/step - loss: 0.4011 - accuracy: 0.8570 - val_loss: 0.3584 - val_accuracy: 0.8666\n",
      "Epoch 16/100\n",
      "48000/48000 [==============================] - 0s 6us/step - loss: 0.3940 - accuracy: 0.8600 - val_loss: 0.3549 - val_accuracy: 0.8684\n",
      "Epoch 17/100\n",
      "48000/48000 [==============================] - 0s 5us/step - loss: 0.3900 - accuracy: 0.8593 - val_loss: 0.3522 - val_accuracy: 0.8702\n",
      "Epoch 18/100\n",
      "48000/48000 [==============================] - 0s 5us/step - loss: 0.3854 - accuracy: 0.8629 - val_loss: 0.3492 - val_accuracy: 0.8723\n",
      "Epoch 19/100\n",
      "48000/48000 [==============================] - 0s 5us/step - loss: 0.3798 - accuracy: 0.8634 - val_loss: 0.3469 - val_accuracy: 0.8717\n",
      "Epoch 20/100\n",
      "48000/48000 [==============================] - 0s 7us/step - loss: 0.3788 - accuracy: 0.8639 - val_loss: 0.3444 - val_accuracy: 0.8724\n",
      "Epoch 21/100\n",
      "48000/48000 [==============================] - 0s 5us/step - loss: 0.3744 - accuracy: 0.8658 - val_loss: 0.3434 - val_accuracy: 0.8737\n",
      "Epoch 22/100\n",
      "48000/48000 [==============================] - 0s 7us/step - loss: 0.3715 - accuracy: 0.8655 - val_loss: 0.3410 - val_accuracy: 0.8750\n",
      "Epoch 23/100\n",
      "48000/48000 [==============================] - 0s 6us/step - loss: 0.3628 - accuracy: 0.8696 - val_loss: 0.3395 - val_accuracy: 0.8753\n",
      "Epoch 24/100\n",
      "48000/48000 [==============================] - 0s 7us/step - loss: 0.3623 - accuracy: 0.8700 - val_loss: 0.3369 - val_accuracy: 0.8752\n",
      "Epoch 25/100\n",
      "48000/48000 [==============================] - 0s 5us/step - loss: 0.3612 - accuracy: 0.8704 - val_loss: 0.3359 - val_accuracy: 0.8773\n",
      "Epoch 26/100\n",
      "48000/48000 [==============================] - 0s 5us/step - loss: 0.3602 - accuracy: 0.8711 - val_loss: 0.3348 - val_accuracy: 0.8790\n",
      "Epoch 27/100\n",
      "48000/48000 [==============================] - 0s 5us/step - loss: 0.3553 - accuracy: 0.8730 - val_loss: 0.3332 - val_accuracy: 0.8789\n",
      "Epoch 28/100\n",
      "48000/48000 [==============================] - 0s 5us/step - loss: 0.3521 - accuracy: 0.8743 - val_loss: 0.3307 - val_accuracy: 0.8798\n",
      "Epoch 29/100\n",
      "48000/48000 [==============================] - 0s 5us/step - loss: 0.3489 - accuracy: 0.8746 - val_loss: 0.3293 - val_accuracy: 0.8806\n",
      "Epoch 30/100\n",
      "48000/48000 [==============================] - 0s 7us/step - loss: 0.3471 - accuracy: 0.8752 - val_loss: 0.3290 - val_accuracy: 0.8796\n",
      "Epoch 31/100\n",
      "48000/48000 [==============================] - 0s 5us/step - loss: 0.3460 - accuracy: 0.8759 - val_loss: 0.3272 - val_accuracy: 0.8800\n",
      "Epoch 32/100\n",
      "48000/48000 [==============================] - 0s 7us/step - loss: 0.3408 - accuracy: 0.8760 - val_loss: 0.3267 - val_accuracy: 0.8809\n",
      "Epoch 33/100\n",
      "48000/48000 [==============================] - 0s 7us/step - loss: 0.3396 - accuracy: 0.8785 - val_loss: 0.3263 - val_accuracy: 0.8809\n",
      "Epoch 34/100\n",
      "48000/48000 [==============================] - 0s 5us/step - loss: 0.3350 - accuracy: 0.8797 - val_loss: 0.3255 - val_accuracy: 0.8814\n",
      "Epoch 35/100\n",
      "48000/48000 [==============================] - 0s 5us/step - loss: 0.3332 - accuracy: 0.8805 - val_loss: 0.3243 - val_accuracy: 0.8817\n",
      "Epoch 36/100\n",
      "48000/48000 [==============================] - 0s 5us/step - loss: 0.3318 - accuracy: 0.8791 - val_loss: 0.3240 - val_accuracy: 0.8815\n",
      "Epoch 37/100\n",
      "48000/48000 [==============================] - 0s 5us/step - loss: 0.3280 - accuracy: 0.8817 - val_loss: 0.3223 - val_accuracy: 0.8821\n",
      "Epoch 38/100\n",
      "48000/48000 [==============================] - 0s 5us/step - loss: 0.3292 - accuracy: 0.8816 - val_loss: 0.3219 - val_accuracy: 0.8824\n",
      "Epoch 39/100\n",
      "48000/48000 [==============================] - 0s 5us/step - loss: 0.3302 - accuracy: 0.8814 - val_loss: 0.3213 - val_accuracy: 0.8829\n",
      "Epoch 40/100\n",
      "48000/48000 [==============================] - 0s 5us/step - loss: 0.3276 - accuracy: 0.8816 - val_loss: 0.3218 - val_accuracy: 0.8836\n",
      "Epoch 41/100\n",
      "48000/48000 [==============================] - 0s 5us/step - loss: 0.3255 - accuracy: 0.8829 - val_loss: 0.3205 - val_accuracy: 0.8846\n",
      "Epoch 42/100\n",
      "48000/48000 [==============================] - 0s 5us/step - loss: 0.3251 - accuracy: 0.8829 - val_loss: 0.3197 - val_accuracy: 0.8841\n",
      "Epoch 43/100\n",
      "48000/48000 [==============================] - 0s 5us/step - loss: 0.3205 - accuracy: 0.8831 - val_loss: 0.3185 - val_accuracy: 0.8836\n",
      "Epoch 44/100\n",
      "48000/48000 [==============================] - 0s 5us/step - loss: 0.3213 - accuracy: 0.8840 - val_loss: 0.3182 - val_accuracy: 0.8836\n",
      "Epoch 45/100\n",
      "48000/48000 [==============================] - 0s 5us/step - loss: 0.3186 - accuracy: 0.8856 - val_loss: 0.3173 - val_accuracy: 0.8843\n",
      "Epoch 46/100\n",
      "48000/48000 [==============================] - 0s 7us/step - loss: 0.3162 - accuracy: 0.8855 - val_loss: 0.3165 - val_accuracy: 0.8852\n",
      "Epoch 47/100\n",
      "48000/48000 [==============================] - 0s 5us/step - loss: 0.3158 - accuracy: 0.8849 - val_loss: 0.3169 - val_accuracy: 0.8842\n",
      "Epoch 48/100\n",
      "48000/48000 [==============================] - 0s 5us/step - loss: 0.3139 - accuracy: 0.8850 - val_loss: 0.3158 - val_accuracy: 0.8852\n",
      "Epoch 49/100\n",
      "48000/48000 [==============================] - 0s 5us/step - loss: 0.3122 - accuracy: 0.8868 - val_loss: 0.3159 - val_accuracy: 0.8865\n",
      "Epoch 50/100\n",
      "48000/48000 [==============================] - 0s 5us/step - loss: 0.3114 - accuracy: 0.8857 - val_loss: 0.3154 - val_accuracy: 0.8856\n",
      "Epoch 51/100\n",
      "48000/48000 [==============================] - 0s 5us/step - loss: 0.3106 - accuracy: 0.8863 - val_loss: 0.3141 - val_accuracy: 0.8857\n",
      "Epoch 52/100\n",
      "48000/48000 [==============================] - 0s 5us/step - loss: 0.3099 - accuracy: 0.8872 - val_loss: 0.3143 - val_accuracy: 0.8852\n",
      "Epoch 53/100\n",
      "48000/48000 [==============================] - 0s 5us/step - loss: 0.3074 - accuracy: 0.8885 - val_loss: 0.3149 - val_accuracy: 0.8858\n",
      "Epoch 54/100\n",
      "48000/48000 [==============================] - 0s 5us/step - loss: 0.3088 - accuracy: 0.8889 - val_loss: 0.3139 - val_accuracy: 0.8857\n",
      "Epoch 55/100\n",
      "48000/48000 [==============================] - 0s 5us/step - loss: 0.3065 - accuracy: 0.8883 - val_loss: 0.3128 - val_accuracy: 0.8863\n",
      "Epoch 56/100\n"
     ]
    },
    {
     "name": "stdout",
     "output_type": "stream",
     "text": [
      "48000/48000 [==============================] - 0s 5us/step - loss: 0.3044 - accuracy: 0.8892 - val_loss: 0.3137 - val_accuracy: 0.8868\n",
      "Epoch 57/100\n",
      "48000/48000 [==============================] - 0s 4us/step - loss: 0.3030 - accuracy: 0.8897 - val_loss: 0.3131 - val_accuracy: 0.8867\n",
      "Epoch 58/100\n",
      "48000/48000 [==============================] - 0s 4us/step - loss: 0.3043 - accuracy: 0.8907 - val_loss: 0.3125 - val_accuracy: 0.8866\n",
      "Epoch 59/100\n",
      "48000/48000 [==============================] - 0s 4us/step - loss: 0.3027 - accuracy: 0.8902 - val_loss: 0.3121 - val_accuracy: 0.8860\n",
      "Epoch 60/100\n",
      "48000/48000 [==============================] - 0s 4us/step - loss: 0.3019 - accuracy: 0.8892 - val_loss: 0.3127 - val_accuracy: 0.8869\n",
      "Epoch 61/100\n",
      "48000/48000 [==============================] - 0s 4us/step - loss: 0.3011 - accuracy: 0.8917 - val_loss: 0.3119 - val_accuracy: 0.8874\n",
      "Epoch 62/100\n",
      "48000/48000 [==============================] - 0s 4us/step - loss: 0.2988 - accuracy: 0.8907 - val_loss: 0.3120 - val_accuracy: 0.8871\n",
      "Epoch 63/100\n",
      "48000/48000 [==============================] - 0s 4us/step - loss: 0.2972 - accuracy: 0.8919 - val_loss: 0.3118 - val_accuracy: 0.8870\n",
      "Epoch 64/100\n",
      "48000/48000 [==============================] - 0s 5us/step - loss: 0.2959 - accuracy: 0.8917 - val_loss: 0.3114 - val_accuracy: 0.8866\n",
      "Epoch 65/100\n",
      "48000/48000 [==============================] - 0s 4us/step - loss: 0.2949 - accuracy: 0.8909 - val_loss: 0.3123 - val_accuracy: 0.8873\n",
      "Epoch 66/100\n",
      "48000/48000 [==============================] - 0s 4us/step - loss: 0.2943 - accuracy: 0.8925 - val_loss: 0.3101 - val_accuracy: 0.8868\n",
      "Epoch 67/100\n",
      "48000/48000 [==============================] - 0s 4us/step - loss: 0.2958 - accuracy: 0.8925 - val_loss: 0.3106 - val_accuracy: 0.8863\n",
      "Epoch 68/100\n",
      "48000/48000 [==============================] - 0s 4us/step - loss: 0.2938 - accuracy: 0.8925 - val_loss: 0.3106 - val_accuracy: 0.8873\n",
      "Epoch 69/100\n",
      "48000/48000 [==============================] - 0s 4us/step - loss: 0.2922 - accuracy: 0.8946 - val_loss: 0.3115 - val_accuracy: 0.8883\n",
      "Epoch 70/100\n",
      "48000/48000 [==============================] - 0s 4us/step - loss: 0.2911 - accuracy: 0.8938 - val_loss: 0.3105 - val_accuracy: 0.8868\n",
      "Epoch 71/100\n",
      "48000/48000 [==============================] - 0s 4us/step - loss: 0.2919 - accuracy: 0.8935 - val_loss: 0.3112 - val_accuracy: 0.8865\n",
      "Epoch 72/100\n",
      "48000/48000 [==============================] - 0s 4us/step - loss: 0.2916 - accuracy: 0.8937 - val_loss: 0.3097 - val_accuracy: 0.8868\n",
      "Epoch 73/100\n",
      "48000/48000 [==============================] - 0s 6us/step - loss: 0.2892 - accuracy: 0.8942 - val_loss: 0.3097 - val_accuracy: 0.8896\n",
      "Epoch 74/100\n",
      "48000/48000 [==============================] - 0s 6us/step - loss: 0.2872 - accuracy: 0.8949 - val_loss: 0.3098 - val_accuracy: 0.8884\n",
      "Epoch 75/100\n",
      "48000/48000 [==============================] - 0s 6us/step - loss: 0.2869 - accuracy: 0.8942 - val_loss: 0.3099 - val_accuracy: 0.8883\n",
      "Epoch 76/100\n",
      "48000/48000 [==============================] - 0s 6us/step - loss: 0.2836 - accuracy: 0.8970 - val_loss: 0.3090 - val_accuracy: 0.8882\n",
      "Epoch 77/100\n",
      "48000/48000 [==============================] - 0s 6us/step - loss: 0.2858 - accuracy: 0.8951 - val_loss: 0.3088 - val_accuracy: 0.8893\n",
      "Epoch 78/100\n",
      "48000/48000 [==============================] - 0s 6us/step - loss: 0.2848 - accuracy: 0.8954 - val_loss: 0.3095 - val_accuracy: 0.8889\n",
      "Epoch 79/100\n",
      "48000/48000 [==============================] - 0s 5us/step - loss: 0.2859 - accuracy: 0.8968 - val_loss: 0.3093 - val_accuracy: 0.8883\n",
      "Epoch 80/100\n",
      "48000/48000 [==============================] - 0s 5us/step - loss: 0.2834 - accuracy: 0.8960 - val_loss: 0.3096 - val_accuracy: 0.8871\n",
      "Epoch 81/100\n",
      "48000/48000 [==============================] - 0s 6us/step - loss: 0.2831 - accuracy: 0.8964 - val_loss: 0.3086 - val_accuracy: 0.8865\n",
      "Epoch 82/100\n",
      "48000/48000 [==============================] - 0s 5us/step - loss: 0.2820 - accuracy: 0.8967 - val_loss: 0.3098 - val_accuracy: 0.8882\n",
      "Epoch 83/100\n",
      "48000/48000 [==============================] - 0s 7us/step - loss: 0.2820 - accuracy: 0.8967 - val_loss: 0.3087 - val_accuracy: 0.8873\n",
      "Epoch 84/100\n",
      "48000/48000 [==============================] - 0s 5us/step - loss: 0.2793 - accuracy: 0.8981 - val_loss: 0.3093 - val_accuracy: 0.8878\n",
      "Epoch 85/100\n",
      "48000/48000 [==============================] - 0s 5us/step - loss: 0.2820 - accuracy: 0.8963 - val_loss: 0.3090 - val_accuracy: 0.8888\n",
      "Epoch 86/100\n",
      "48000/48000 [==============================] - 0s 6us/step - loss: 0.2822 - accuracy: 0.8969 - val_loss: 0.3091 - val_accuracy: 0.8897\n",
      "Epoch 87/100\n",
      "48000/48000 [==============================] - 0s 5us/step - loss: 0.2833 - accuracy: 0.8969 - val_loss: 0.3090 - val_accuracy: 0.8874\n",
      "Epoch 88/100\n",
      "48000/48000 [==============================] - 0s 6us/step - loss: 0.2766 - accuracy: 0.8982 - val_loss: 0.3093 - val_accuracy: 0.8896\n",
      "Epoch 89/100\n",
      "48000/48000 [==============================] - 0s 6us/step - loss: 0.2791 - accuracy: 0.8979 - val_loss: 0.3089 - val_accuracy: 0.8880\n",
      "Epoch 90/100\n",
      "48000/48000 [==============================] - 0s 6us/step - loss: 0.2763 - accuracy: 0.8990 - val_loss: 0.3090 - val_accuracy: 0.8892\n",
      "Epoch 91/100\n",
      "48000/48000 [==============================] - 0s 6us/step - loss: 0.2777 - accuracy: 0.8973 - val_loss: 0.3095 - val_accuracy: 0.8881\n",
      "Epoch 92/100\n",
      "48000/48000 [==============================] - 0s 6us/step - loss: 0.2764 - accuracy: 0.8988 - val_loss: 0.3094 - val_accuracy: 0.8893\n",
      "Epoch 93/100\n",
      "48000/48000 [==============================] - 0s 6us/step - loss: 0.2740 - accuracy: 0.8999 - val_loss: 0.3095 - val_accuracy: 0.8892\n",
      "Epoch 94/100\n",
      "48000/48000 [==============================] - 0s 6us/step - loss: 0.2776 - accuracy: 0.8974 - val_loss: 0.3087 - val_accuracy: 0.8900\n",
      "Epoch 95/100\n",
      "48000/48000 [==============================] - 0s 6us/step - loss: 0.2760 - accuracy: 0.8998 - val_loss: 0.3092 - val_accuracy: 0.8898\n",
      "Epoch 96/100\n",
      "48000/48000 [==============================] - 0s 5us/step - loss: 0.2734 - accuracy: 0.8991 - val_loss: 0.3096 - val_accuracy: 0.8879\n",
      "Epoch 97/100\n",
      "48000/48000 [==============================] - 0s 5us/step - loss: 0.2711 - accuracy: 0.9020 - val_loss: 0.3110 - val_accuracy: 0.8877\n",
      "Epoch 98/100\n",
      "48000/48000 [==============================] - 0s 6us/step - loss: 0.2707 - accuracy: 0.8991 - val_loss: 0.3100 - val_accuracy: 0.8885\n",
      "Epoch 99/100\n",
      "48000/48000 [==============================] - 0s 6us/step - loss: 0.2719 - accuracy: 0.8995 - val_loss: 0.3106 - val_accuracy: 0.8894\n",
      "Epoch 100/100\n",
      "48000/48000 [==============================] - 0s 5us/step - loss: 0.2746 - accuracy: 0.8993 - val_loss: 0.3096 - val_accuracy: 0.8886\n"
     ]
    }
   ],
   "source": [
    "model = keras.Sequential([\n",
    "    keras.layers.Dense(64, activation='relu'),\n",
    "    keras.layers.Dropout(0.2),\n",
    "    keras.layers.Dense(32, activation='relu'),\n",
    "    keras.layers.Dropout(0.1),\n",
    "    keras.layers.Dense(10, activation='softmax')\n",
    "])\n",
    "\n",
    "model.compile(optimizer='adam', loss='sparse_categorical_crossentropy',metrics=['accuracy'])\n",
    "train_history_pca = model.fit(np.array(newX_train),np.array(y_train),validation_data=(newX_val, y_val),epochs=100,batch_size=1000)"
   ]
  },
  {
   "cell_type": "code",
   "execution_count": 69,
   "metadata": {
    "scrolled": false
   },
   "outputs": [
    {
     "data": {
      "image/png": "[encoded data removed]",
      "text/plain": [
       "<Figure size 432x288 with 1 Axes>"
      ]
     },
     "metadata": {
      "needs_background": "light"
     },
     "output_type": "display_data"
    }
   ],
   "source": [
    "loss = train_history_pca.history['loss']\n",
    "val_loss = train_history_pca.history['val_loss']\n",
    "plt.plot(loss)\n",
    "plt.plot(val_loss)\n",
    "plt.legend(['loss', 'val_loss'])\n",
    "plt.show()"
   ]
  },
  {
   "cell_type": "markdown",
   "metadata": {},
   "source": [
    "### 200 componentes"
   ]
  },
  {
   "cell_type": "code",
   "execution_count": 70,
   "metadata": {},
   "outputs": [],
   "source": [
    "pca = PCA(n_components=200)\n",
    "pca.fit(X_train)\n",
    "newX_train = pca.transform(X_train)\n",
    "newX_val = pca.transform(X_val)"
   ]
  },
  {
   "cell_type": "code",
   "execution_count": 71,
   "metadata": {},
   "outputs": [
    {
     "data": {
      "text/plain": [
       "array([2.89841096e-01, 1.77404691e-01, 6.01426915e-02, 4.98838565e-02,\n",
       "       3.85730003e-02, 3.45560772e-02, 2.35277642e-02, 1.90694009e-02,\n",
       "       1.34491273e-02, 1.30613965e-02, 9.90559286e-03, 9.10351081e-03,\n",
       "       7.63416358e-03, 6.58989905e-03, 6.10854684e-03, 5.90687586e-03,\n",
       "       5.54202974e-03, 5.29724977e-03, 4.63077083e-03, 4.55367785e-03,\n",
       "       4.31895074e-03, 4.07811882e-03, 3.83488737e-03, 3.76272950e-03,\n",
       "       3.64111798e-03, 3.50272738e-03, 3.33313878e-03, 3.19523949e-03,\n",
       "       3.10191004e-03, 2.96527230e-03, 2.76032239e-03, 2.65653769e-03,\n",
       "       2.64357276e-03, 2.55113661e-03, 2.49119531e-03, 2.39356066e-03,\n",
       "       2.30545320e-03, 2.23688662e-03, 2.20140068e-03, 2.10760067e-03,\n",
       "       2.01102302e-03, 1.96957714e-03, 1.94250844e-03, 1.83290301e-03,\n",
       "       1.75575816e-03, 1.71609754e-03, 1.67287114e-03, 1.65302721e-03,\n",
       "       1.61782250e-03, 1.56227207e-03, 1.54179392e-03, 1.51260661e-03,\n",
       "       1.47692667e-03, 1.43161772e-03, 1.38066917e-03, 1.37089025e-03,\n",
       "       1.31088573e-03, 1.29370694e-03, 1.27239569e-03, 1.26102194e-03,\n",
       "       1.22868559e-03, 1.20762828e-03, 1.18733693e-03, 1.16227088e-03,\n",
       "       1.15413806e-03, 1.12174118e-03, 1.11105180e-03, 1.09230399e-03,\n",
       "       1.06666474e-03, 1.03950489e-03, 1.03835688e-03, 1.01900204e-03,\n",
       "       9.71499382e-04, 9.50293196e-04, 9.38025164e-04, 9.32907602e-04,\n",
       "       9.31678106e-04, 9.10145059e-04, 8.94122466e-04, 8.75153254e-04,\n",
       "       8.56855789e-04, 8.42635076e-04, 8.25477344e-04, 8.20410054e-04,\n",
       "       8.14884327e-04, 7.99448431e-04, 7.80369522e-04, 7.68561672e-04,\n",
       "       7.61040917e-04, 7.52427113e-04, 7.51095850e-04, 7.39600939e-04,\n",
       "       7.24302087e-04, 7.22481012e-04, 7.14474142e-04, 7.03814268e-04,\n",
       "       6.89632589e-04, 6.81721210e-04, 6.75964491e-04, 6.62716280e-04,\n",
       "       6.56462195e-04, 6.44703667e-04, 6.39249676e-04, 6.28822971e-04,\n",
       "       6.24068541e-04, 6.16998474e-04, 6.07692454e-04, 5.97085927e-04,\n",
       "       5.91262829e-04, 5.86415974e-04, 5.78852962e-04, 5.74318071e-04,\n",
       "       5.61355305e-04, 5.53870059e-04, 5.52697315e-04, 5.43327615e-04,\n",
       "       5.35673091e-04, 5.33982597e-04, 5.28414705e-04, 5.22620443e-04,\n",
       "       5.20074809e-04, 5.08481975e-04, 5.02549572e-04, 4.96287292e-04,\n",
       "       4.91119803e-04, 4.85860254e-04, 4.80688910e-04, 4.77009738e-04,\n",
       "       4.75429942e-04, 4.71311424e-04, 4.66661838e-04, 4.61494053e-04,\n",
       "       4.58367646e-04, 4.53291677e-04, 4.47429096e-04, 4.44535656e-04,\n",
       "       4.40426894e-04, 4.37382715e-04, 4.33486133e-04, 4.30111161e-04,\n",
       "       4.26737688e-04, 4.26123492e-04, 4.19705166e-04, 4.14935405e-04,\n",
       "       4.10587427e-04, 4.05159206e-04, 4.00875854e-04, 3.96673574e-04,\n",
       "       3.91251373e-04, 3.87290129e-04, 3.85965004e-04, 3.79607639e-04,\n",
       "       3.77658903e-04, 3.77429510e-04, 3.71507702e-04, 3.68838003e-04,\n",
       "       3.65480254e-04, 3.62677985e-04, 3.60949956e-04, 3.57350110e-04,\n",
       "       3.55354462e-04, 3.54159275e-04, 3.46754603e-04, 3.45888244e-04,\n",
       "       3.42538189e-04, 3.38814759e-04, 3.38285252e-04, 3.27858988e-04,\n",
       "       3.26354264e-04, 3.25964311e-04, 3.22601461e-04, 3.21629722e-04,\n",
       "       3.19814919e-04, 3.17006055e-04, 3.11726400e-04, 3.11651360e-04,\n",
       "       3.05835134e-04, 3.03625542e-04, 3.02610617e-04, 3.01049821e-04,\n",
       "       2.98971808e-04, 2.95611804e-04, 2.93876207e-04, 2.88551974e-04,\n",
       "       2.87426982e-04, 2.84518821e-04, 2.79926887e-04, 2.79304558e-04,\n",
       "       2.77325887e-04, 2.76421437e-04, 2.73273934e-04, 2.67570568e-04,\n",
       "       2.65806423e-04, 2.65195740e-04, 2.62480388e-04, 2.58534763e-04,\n",
       "       2.56680937e-04, 2.53786657e-04, 2.50094793e-04, 2.48174563e-04])"
      ]
     },
     "execution_count": 71,
     "metadata": {},
     "output_type": "execute_result"
    }
   ],
   "source": [
    "variancesPerFeature = pca.explained_variance_ratio_\n",
    "variancesPerFeature"
   ]
  },
  {
   "cell_type": "code",
   "execution_count": 72,
   "metadata": {},
   "outputs": [
    {
     "data": {
      "text/plain": [
       "0.9531997136548462"
      ]
     },
     "execution_count": 72,
     "metadata": {},
     "output_type": "execute_result"
    }
   ],
   "source": [
    "variance = np.sum(variancesPerFeature)\n",
    "variance"
   ]
  },
  {
   "cell_type": "code",
   "execution_count": 75,
   "metadata": {},
   "outputs": [
    {
     "name": "stdout",
     "output_type": "stream",
     "text": [
      "Train on 48000 samples, validate on 12000 samples\n",
      "Epoch 1/60\n",
      "48000/48000 [==============================] - 1s 11us/step - loss: 1.5294 - accuracy: 0.4872 - val_loss: 0.7975 - val_accuracy: 0.7498\n",
      "Epoch 2/60\n",
      "48000/48000 [==============================] - 0s 8us/step - loss: 0.8228 - accuracy: 0.7194 - val_loss: 0.5327 - val_accuracy: 0.8079\n",
      "Epoch 3/60\n",
      "48000/48000 [==============================] - 0s 8us/step - loss: 0.6440 - accuracy: 0.7755 - val_loss: 0.4622 - val_accuracy: 0.8322\n",
      "Epoch 4/60\n",
      "48000/48000 [==============================] - 0s 10us/step - loss: 0.5699 - accuracy: 0.7990 - val_loss: 0.4306 - val_accuracy: 0.8428\n",
      "Epoch 5/60\n",
      "48000/48000 [==============================] - 0s 10us/step - loss: 0.5291 - accuracy: 0.8135 - val_loss: 0.4136 - val_accuracy: 0.8497\n",
      "Epoch 6/60\n",
      "48000/48000 [==============================] - 0s 10us/step - loss: 0.4994 - accuracy: 0.8245 - val_loss: 0.3970 - val_accuracy: 0.8567\n",
      "Epoch 7/60\n",
      "48000/48000 [==============================] - 0s 8us/step - loss: 0.4801 - accuracy: 0.8313 - val_loss: 0.3878 - val_accuracy: 0.8599\n",
      "Epoch 8/60\n",
      "48000/48000 [==============================] - 0s 7us/step - loss: 0.4633 - accuracy: 0.8365 - val_loss: 0.3797 - val_accuracy: 0.8612\n",
      "Epoch 9/60\n",
      "48000/48000 [==============================] - 0s 9us/step - loss: 0.4507 - accuracy: 0.8410 - val_loss: 0.3720 - val_accuracy: 0.8661\n",
      "Epoch 10/60\n",
      "48000/48000 [==============================] - 0s 9us/step - loss: 0.4399 - accuracy: 0.8446 - val_loss: 0.3663 - val_accuracy: 0.8673\n",
      "Epoch 11/60\n",
      "48000/48000 [==============================] - 0s 9us/step - loss: 0.4308 - accuracy: 0.8480 - val_loss: 0.3614 - val_accuracy: 0.8683\n",
      "Epoch 12/60\n",
      "48000/48000 [==============================] - 0s 9us/step - loss: 0.4193 - accuracy: 0.8527 - val_loss: 0.3570 - val_accuracy: 0.8682\n",
      "Epoch 13/60\n",
      "48000/48000 [==============================] - 0s 9us/step - loss: 0.4131 - accuracy: 0.8526 - val_loss: 0.3532 - val_accuracy: 0.8700\n",
      "Epoch 14/60\n",
      "48000/48000 [==============================] - 0s 8us/step - loss: 0.4040 - accuracy: 0.8567 - val_loss: 0.3497 - val_accuracy: 0.8720\n",
      "Epoch 15/60\n",
      "48000/48000 [==============================] - 0s 9us/step - loss: 0.3984 - accuracy: 0.8590 - val_loss: 0.3455 - val_accuracy: 0.8736\n",
      "Epoch 16/60\n",
      "48000/48000 [==============================] - 0s 8us/step - loss: 0.3957 - accuracy: 0.8611 - val_loss: 0.3430 - val_accuracy: 0.8748\n",
      "Epoch 17/60\n",
      "48000/48000 [==============================] - 0s 7us/step - loss: 0.3846 - accuracy: 0.8643 - val_loss: 0.3404 - val_accuracy: 0.8748\n",
      "Epoch 18/60\n",
      "48000/48000 [==============================] - 0s 8us/step - loss: 0.3835 - accuracy: 0.8642 - val_loss: 0.3376 - val_accuracy: 0.8760\n",
      "Epoch 19/60\n",
      "48000/48000 [==============================] - 0s 7us/step - loss: 0.3771 - accuracy: 0.8660 - val_loss: 0.3351 - val_accuracy: 0.8776\n",
      "Epoch 20/60\n",
      "48000/48000 [==============================] - 0s 8us/step - loss: 0.3723 - accuracy: 0.8687 - val_loss: 0.3336 - val_accuracy: 0.8776\n",
      "Epoch 21/60\n",
      "48000/48000 [==============================] - 0s 7us/step - loss: 0.3667 - accuracy: 0.8692 - val_loss: 0.3322 - val_accuracy: 0.8792\n",
      "Epoch 22/60\n",
      "48000/48000 [==============================] - 0s 8us/step - loss: 0.3631 - accuracy: 0.8703 - val_loss: 0.3301 - val_accuracy: 0.8800\n",
      "Epoch 23/60\n",
      "48000/48000 [==============================] - 0s 8us/step - loss: 0.3573 - accuracy: 0.8728 - val_loss: 0.3273 - val_accuracy: 0.8802\n",
      "Epoch 24/60\n",
      "48000/48000 [==============================] - 0s 7us/step - loss: 0.3513 - accuracy: 0.8746 - val_loss: 0.3261 - val_accuracy: 0.8802\n",
      "Epoch 25/60\n",
      "48000/48000 [==============================] - 0s 8us/step - loss: 0.3526 - accuracy: 0.8754 - val_loss: 0.3255 - val_accuracy: 0.8808\n",
      "Epoch 26/60\n",
      "48000/48000 [==============================] - 0s 8us/step - loss: 0.3476 - accuracy: 0.8756 - val_loss: 0.3231 - val_accuracy: 0.8823\n",
      "Epoch 27/60\n",
      "48000/48000 [==============================] - 0s 8us/step - loss: 0.3469 - accuracy: 0.8766 - val_loss: 0.3216 - val_accuracy: 0.8837\n",
      "Epoch 28/60\n",
      "48000/48000 [==============================] - 0s 8us/step - loss: 0.3449 - accuracy: 0.8765 - val_loss: 0.3202 - val_accuracy: 0.8834\n",
      "Epoch 29/60\n",
      "48000/48000 [==============================] - 0s 8us/step - loss: 0.3414 - accuracy: 0.8786 - val_loss: 0.3191 - val_accuracy: 0.8849\n",
      "Epoch 30/60\n",
      "48000/48000 [==============================] - 0s 8us/step - loss: 0.3362 - accuracy: 0.8804 - val_loss: 0.3187 - val_accuracy: 0.8853\n",
      "Epoch 31/60\n",
      "48000/48000 [==============================] - 0s 8us/step - loss: 0.3326 - accuracy: 0.8818 - val_loss: 0.3166 - val_accuracy: 0.8848\n",
      "Epoch 32/60\n",
      "48000/48000 [==============================] - 0s 8us/step - loss: 0.3311 - accuracy: 0.8798 - val_loss: 0.3156 - val_accuracy: 0.8856\n",
      "Epoch 33/60\n",
      "48000/48000 [==============================] - 0s 7us/step - loss: 0.3254 - accuracy: 0.8838 - val_loss: 0.3146 - val_accuracy: 0.8856\n",
      "Epoch 34/60\n",
      "48000/48000 [==============================] - 0s 8us/step - loss: 0.3255 - accuracy: 0.8841 - val_loss: 0.3140 - val_accuracy: 0.8863\n",
      "Epoch 35/60\n",
      "48000/48000 [==============================] - 0s 7us/step - loss: 0.3245 - accuracy: 0.8841 - val_loss: 0.3128 - val_accuracy: 0.8867\n",
      "Epoch 36/60\n",
      "48000/48000 [==============================] - 0s 8us/step - loss: 0.3254 - accuracy: 0.8836 - val_loss: 0.3115 - val_accuracy: 0.8868\n",
      "Epoch 37/60\n",
      "48000/48000 [==============================] - 0s 7us/step - loss: 0.3149 - accuracy: 0.8863 - val_loss: 0.3115 - val_accuracy: 0.8883\n",
      "Epoch 38/60\n",
      "48000/48000 [==============================] - 0s 7us/step - loss: 0.3168 - accuracy: 0.8865 - val_loss: 0.3106 - val_accuracy: 0.8867\n",
      "Epoch 39/60\n",
      "48000/48000 [==============================] - 0s 7us/step - loss: 0.3167 - accuracy: 0.8857 - val_loss: 0.3082 - val_accuracy: 0.8878\n",
      "Epoch 40/60\n",
      "48000/48000 [==============================] - 0s 7us/step - loss: 0.3126 - accuracy: 0.8878 - val_loss: 0.3075 - val_accuracy: 0.8878\n",
      "Epoch 41/60\n",
      "48000/48000 [==============================] - 0s 7us/step - loss: 0.3134 - accuracy: 0.8880 - val_loss: 0.3086 - val_accuracy: 0.8886\n",
      "Epoch 42/60\n",
      "48000/48000 [==============================] - 0s 7us/step - loss: 0.3088 - accuracy: 0.8900 - val_loss: 0.3059 - val_accuracy: 0.8895\n",
      "Epoch 43/60\n",
      "48000/48000 [==============================] - 0s 7us/step - loss: 0.3057 - accuracy: 0.8906 - val_loss: 0.3052 - val_accuracy: 0.8896\n",
      "Epoch 44/60\n",
      "48000/48000 [==============================] - 0s 7us/step - loss: 0.3059 - accuracy: 0.8896 - val_loss: 0.3052 - val_accuracy: 0.8898\n",
      "Epoch 45/60\n",
      "48000/48000 [==============================] - 0s 7us/step - loss: 0.3043 - accuracy: 0.8895 - val_loss: 0.3041 - val_accuracy: 0.8907\n",
      "Epoch 46/60\n",
      "48000/48000 [==============================] - 0s 8us/step - loss: 0.3002 - accuracy: 0.8920 - val_loss: 0.3031 - val_accuracy: 0.8912\n",
      "Epoch 47/60\n",
      "48000/48000 [==============================] - 0s 8us/step - loss: 0.3012 - accuracy: 0.8902 - val_loss: 0.3034 - val_accuracy: 0.8902\n",
      "Epoch 48/60\n",
      "48000/48000 [==============================] - 0s 7us/step - loss: 0.3004 - accuracy: 0.8907 - val_loss: 0.3040 - val_accuracy: 0.8903\n",
      "Epoch 49/60\n",
      "48000/48000 [==============================] - 0s 7us/step - loss: 0.2971 - accuracy: 0.8930 - val_loss: 0.3027 - val_accuracy: 0.8918\n",
      "Epoch 50/60\n",
      "48000/48000 [==============================] - 0s 7us/step - loss: 0.2964 - accuracy: 0.8929 - val_loss: 0.3032 - val_accuracy: 0.8916\n",
      "Epoch 51/60\n",
      "48000/48000 [==============================] - 0s 7us/step - loss: 0.2957 - accuracy: 0.8935 - val_loss: 0.3030 - val_accuracy: 0.8907\n",
      "Epoch 52/60\n",
      "48000/48000 [==============================] - 0s 7us/step - loss: 0.2935 - accuracy: 0.8931 - val_loss: 0.3051 - val_accuracy: 0.8905\n",
      "Epoch 53/60\n",
      "48000/48000 [==============================] - 0s 7us/step - loss: 0.2902 - accuracy: 0.8957 - val_loss: 0.3031 - val_accuracy: 0.8908\n",
      "Epoch 54/60\n",
      "48000/48000 [==============================] - 0s 7us/step - loss: 0.2924 - accuracy: 0.8936 - val_loss: 0.3026 - val_accuracy: 0.8913\n",
      "Epoch 55/60\n",
      "48000/48000 [==============================] - 0s 9us/step - loss: 0.2895 - accuracy: 0.8959 - val_loss: 0.3024 - val_accuracy: 0.8905\n",
      "Epoch 56/60\n"
     ]
    },
    {
     "name": "stdout",
     "output_type": "stream",
     "text": [
      "48000/48000 [==============================] - 0s 8us/step - loss: 0.2866 - accuracy: 0.8961 - val_loss: 0.3023 - val_accuracy: 0.8906\n",
      "Epoch 57/60\n",
      "48000/48000 [==============================] - 0s 10us/step - loss: 0.2851 - accuracy: 0.8964 - val_loss: 0.3028 - val_accuracy: 0.8923\n",
      "Epoch 58/60\n",
      "48000/48000 [==============================] - 0s 8us/step - loss: 0.2846 - accuracy: 0.8974 - val_loss: 0.3016 - val_accuracy: 0.8926\n",
      "Epoch 59/60\n",
      "48000/48000 [==============================] - 0s 7us/step - loss: 0.2866 - accuracy: 0.8966 - val_loss: 0.3003 - val_accuracy: 0.8921\n",
      "Epoch 60/60\n",
      "48000/48000 [==============================] - 0s 8us/step - loss: 0.2821 - accuracy: 0.8973 - val_loss: 0.3004 - val_accuracy: 0.8917\n"
     ]
    }
   ],
   "source": [
    "model = keras.Sequential([\n",
    "    keras.layers.Dense(128, activation='relu'),\n",
    "    keras.layers.Dropout(0.5),\n",
    "    keras.layers.Dense(64, activation='relu'),\n",
    "    keras.layers.Dropout(0.2),\n",
    "    keras.layers.Dense(10, activation='softmax')\n",
    "])\n",
    "\n",
    "model.compile(optimizer='adam', loss='sparse_categorical_crossentropy',metrics=['accuracy'])\n",
    "train_history_pca = model.fit(np.array(newX_train),np.array(y_train),validation_data=(newX_val, y_val),epochs=60,batch_size=1000)"
   ]
  },
  {
   "cell_type": "code",
   "execution_count": 76,
   "metadata": {
    "scrolled": true
   },
   "outputs": [
    {
     "data": {
      "image/png": "[encoded data removed]",
      "text/plain": [
       "<Figure size 432x288 with 1 Axes>"
      ]
     },
     "metadata": {
      "needs_background": "light"
     },
     "output_type": "display_data"
    }
   ],
   "source": [
    "loss = train_history_pca.history['loss']\n",
    "val_loss = train_history_pca.history['val_loss']\n",
    "plt.plot(loss)\n",
    "plt.plot(val_loss)\n",
    "plt.legend(['loss', 'val_loss'])\n",
    "plt.show()"
   ]
  },
  {
   "cell_type": "markdown",
   "metadata": {},
   "source": [
    "## Aplicando AutoEncoder"
   ]
  },
  {
   "cell_type": "markdown",
   "metadata": {},
   "source": [
    "## Autoencoder - Tentativa 1"
   ]
  },
  {
   "cell_type": "markdown",
   "metadata": {},
   "source": [
    "### Autoencoder 1"
   ]
  },
  {
   "cell_type": "code",
   "execution_count": 117,
   "metadata": {},
   "outputs": [],
   "source": [
    "initializer = keras.initializers.RandomUniform(minval=-0.5,maxval=0.05,seed=567)"
   ]
  },
  {
   "cell_type": "code",
   "execution_count": 118,
   "metadata": {},
   "outputs": [],
   "source": [
    "autoencoder_1 = keras.Sequential([\n",
    "    keras.layers.Dense(392, activation='relu', kernel_initializer=initializer, bias_initializer='ones'),\n",
    "    keras.layers.Dropout(0.2),\n",
    "    keras.layers.Dense(128, activation='relu', kernel_initializer=initializer, bias_initializer='ones'),\n",
    "    keras.layers.Dropout(0.2),\n",
    "    keras.layers.Dense(392, activation='relu', kernel_initializer=initializer, bias_initializer='ones'),\n",
    "    keras.layers.Dropout(0.2),\n",
    "    keras.layers.Dense(784, activation='sigmoid', kernel_initializer=initializer, bias_initializer='ones')\n",
    "])"
   ]
  },
  {
   "cell_type": "code",
   "execution_count": 119,
   "metadata": {},
   "outputs": [],
   "source": [
    "autoencoder_1.compile(optimizer='adam', loss='mean_squared_error',metrics=['accuracy'])"
   ]
  },
  {
   "cell_type": "code",
   "execution_count": 120,
   "metadata": {},
   "outputs": [
    {
     "name": "stdout",
     "output_type": "stream",
     "text": [
      "Train on 48000 samples, validate on 12000 samples\n",
      "Epoch 1/20\n",
      "48000/48000 [==============================] - 15s 309us/step - loss: 0.2135 - accuracy: 0.0015 - val_loss: 0.1367 - val_accuracy: 0.0012\n",
      "Epoch 2/20\n",
      "48000/48000 [==============================] - 14s 289us/step - loss: 0.1116 - accuracy: 0.0016 - val_loss: 0.0969 - val_accuracy: 0.0012\n",
      "Epoch 3/20\n",
      "48000/48000 [==============================] - 14s 297us/step - loss: 0.0928 - accuracy: 0.0016 - val_loss: 0.0893 - val_accuracy: 0.0012\n",
      "Epoch 4/20\n",
      "48000/48000 [==============================] - 14s 293us/step - loss: 0.0888 - accuracy: 0.0016 - val_loss: 0.0873 - val_accuracy: 0.0012\n",
      "Epoch 5/20\n",
      "48000/48000 [==============================] - 13s 280us/step - loss: 0.0876 - accuracy: 0.0016 - val_loss: 0.0867 - val_accuracy: 0.0012\n",
      "Epoch 6/20\n",
      "48000/48000 [==============================] - 14s 295us/step - loss: 0.0873 - accuracy: 0.0016 - val_loss: 0.0864 - val_accuracy: 0.0012\n",
      "Epoch 7/20\n",
      "48000/48000 [==============================] - 15s 304us/step - loss: 0.0871 - accuracy: 0.0016 - val_loss: 0.0864 - val_accuracy: 0.0012\n",
      "Epoch 8/20\n",
      "48000/48000 [==============================] - 15s 318us/step - loss: 0.0870 - accuracy: 0.0016 - val_loss: 0.0863 - val_accuracy: 0.0012\n",
      "Epoch 9/20\n",
      "48000/48000 [==============================] - 15s 308us/step - loss: 0.0870 - accuracy: 0.0016 - val_loss: 0.0863 - val_accuracy: 0.0012\n",
      "Epoch 10/20\n",
      "48000/48000 [==============================] - 12s 255us/step - loss: 0.0870 - accuracy: 0.0016 - val_loss: 0.0863 - val_accuracy: 0.0012\n",
      "Epoch 11/20\n",
      "48000/48000 [==============================] - 13s 266us/step - loss: 0.0870 - accuracy: 0.0016 - val_loss: 0.0863 - val_accuracy: 0.0012\n",
      "Epoch 12/20\n",
      "48000/48000 [==============================] - 14s 296us/step - loss: 0.0870 - accuracy: 0.0016 - val_loss: 0.0863 - val_accuracy: 0.0012\n",
      "Epoch 13/20\n",
      "48000/48000 [==============================] - 13s 278us/step - loss: 0.0870 - accuracy: 0.0016 - val_loss: 0.0863 - val_accuracy: 0.0012\n",
      "Epoch 14/20\n",
      "48000/48000 [==============================] - 14s 291us/step - loss: 0.0870 - accuracy: 0.0015 - val_loss: 0.0863 - val_accuracy: 0.0012\n",
      "Epoch 15/20\n",
      "48000/48000 [==============================] - 12s 243us/step - loss: 0.0870 - accuracy: 0.0015 - val_loss: 0.0863 - val_accuracy: 0.0012\n",
      "Epoch 16/20\n",
      "48000/48000 [==============================] - 12s 241us/step - loss: 0.0870 - accuracy: 0.0016 - val_loss: 0.0863 - val_accuracy: 0.0012\n",
      "Epoch 17/20\n",
      "48000/48000 [==============================] - 12s 245us/step - loss: 0.0870 - accuracy: 0.0016 - val_loss: 0.0863 - val_accuracy: 0.0012\n",
      "Epoch 18/20\n",
      "48000/48000 [==============================] - 12s 242us/step - loss: 0.0870 - accuracy: 0.0016 - val_loss: 0.0863 - val_accuracy: 0.0012\n",
      "Epoch 19/20\n",
      "48000/48000 [==============================] - 12s 251us/step - loss: 0.0870 - accuracy: 0.0016 - val_loss: 0.0863 - val_accuracy: 0.0012\n",
      "Epoch 20/20\n",
      "48000/48000 [==============================] - 12s 241us/step - loss: 0.0870 - accuracy: 0.0016 - val_loss: 0.0863 - val_accuracy: 0.0012\n"
     ]
    }
   ],
   "source": [
    "train_history_autoencoder_1 = autoencoder_1.fit(np.array(X_train),np.array(X_train),validation_data=(X_val, X_val),epochs=20)"
   ]
  },
  {
   "cell_type": "code",
   "execution_count": 121,
   "metadata": {
    "scrolled": true
   },
   "outputs": [
    {
     "data": {
      "image/png": "[encoded data removed]",
      "text/plain": [
       "<Figure size 432x288 with 1 Axes>"
      ]
     },
     "metadata": {
      "needs_background": "light"
     },
     "output_type": "display_data"
    }
   ],
   "source": [
    "loss = train_history_autoencoder_1.history['loss']\n",
    "val_loss = train_history_autoencoder_1.history['val_loss']\n",
    "plt.plot(loss)\n",
    "plt.plot(val_loss)\n",
    "plt.legend(['loss', 'val_loss'])\n",
    "plt.show()"
   ]
  },
  {
   "cell_type": "markdown",
   "metadata": {},
   "source": [
    "### Treinando com autoencoder 1"
   ]
  },
  {
   "cell_type": "code",
   "execution_count": 141,
   "metadata": {},
   "outputs": [],
   "source": [
    "from keras.models import Model\n",
    "from keras.models import Model\n",
    "from keras import regularizers\n",
    "from keras.layers import Input,Dense"
   ]
  },
  {
   "cell_type": "code",
   "execution_count": 125,
   "metadata": {},
   "outputs": [],
   "source": [
    "autoencoder_1.layers[0].trainable = False\n",
    "autoencoder_1.layers[1].trainable = False\n",
    "autoencoder_1.layers[2].trainable = False\n",
    "\n",
    "model = keras.Sequential([\n",
    "    autoencoder_1.layers[0],\n",
    "    autoencoder_1.layers[1],\n",
    "    autoencoder_1.layers[2],\n",
    "    keras.layers.Dense(64, activation='relu'),\n",
    "    keras.layers.Dropout(0.2),\n",
    "    keras.layers.Dense(10, activation='softmax')\n",
    "    ])"
   ]
  },
  {
   "cell_type": "code",
   "execution_count": 126,
   "metadata": {},
   "outputs": [
    {
     "name": "stdout",
     "output_type": "stream",
     "text": [
      "Train on 48000 samples, validate on 12000 samples\n",
      "Epoch 1/20\n",
      "48000/48000 [==============================] - 4s 88us/step - loss: 2.3057 - accuracy: 0.0991 - val_loss: 2.3027 - val_accuracy: 0.0951\n",
      "Epoch 2/20\n",
      "48000/48000 [==============================] - 4s 84us/step - loss: 2.3027 - accuracy: 0.0989 - val_loss: 2.3029 - val_accuracy: 0.1020\n",
      "Epoch 3/20\n",
      "48000/48000 [==============================] - 4s 85us/step - loss: 2.3028 - accuracy: 0.0999 - val_loss: 2.3029 - val_accuracy: 0.0988\n",
      "Epoch 4/20\n",
      "48000/48000 [==============================] - 4s 88us/step - loss: 2.3027 - accuracy: 0.0989 - val_loss: 2.3030 - val_accuracy: 0.0957\n",
      "Epoch 5/20\n",
      "48000/48000 [==============================] - 4s 91us/step - loss: 2.3027 - accuracy: 0.1009 - val_loss: 2.3031 - val_accuracy: 0.0951\n",
      "Epoch 6/20\n",
      "48000/48000 [==============================] - 4s 88us/step - loss: 2.3027 - accuracy: 0.0980 - val_loss: 2.3029 - val_accuracy: 0.0957\n",
      "Epoch 7/20\n",
      "48000/48000 [==============================] - 4s 90us/step - loss: 2.3028 - accuracy: 0.0989 - val_loss: 2.3028 - val_accuracy: 0.1036\n",
      "Epoch 8/20\n",
      "48000/48000 [==============================] - 4s 87us/step - loss: 2.3027 - accuracy: 0.0985 - val_loss: 2.3029 - val_accuracy: 0.0978\n",
      "Epoch 9/20\n",
      "48000/48000 [==============================] - 4s 84us/step - loss: 2.3027 - accuracy: 0.0988 - val_loss: 2.3028 - val_accuracy: 0.1000\n",
      "Epoch 10/20\n",
      "48000/48000 [==============================] - 4s 84us/step - loss: 2.3027 - accuracy: 0.0980 - val_loss: 2.3030 - val_accuracy: 0.0957\n",
      "Epoch 11/20\n",
      "48000/48000 [==============================] - 4s 78us/step - loss: 2.3027 - accuracy: 0.0985 - val_loss: 2.3030 - val_accuracy: 0.0988\n",
      "Epoch 12/20\n",
      "48000/48000 [==============================] - 4s 79us/step - loss: 2.3028 - accuracy: 0.0994 - val_loss: 2.3028 - val_accuracy: 0.0951\n",
      "Epoch 13/20\n",
      "48000/48000 [==============================] - 4s 79us/step - loss: 2.3027 - accuracy: 0.0999 - val_loss: 2.3029 - val_accuracy: 0.0978\n",
      "Epoch 14/20\n",
      "48000/48000 [==============================] - 4s 80us/step - loss: 2.3027 - accuracy: 0.0998 - val_loss: 2.3029 - val_accuracy: 0.0951\n",
      "Epoch 15/20\n",
      "48000/48000 [==============================] - 4s 79us/step - loss: 2.3027 - accuracy: 0.1019 - val_loss: 2.3028 - val_accuracy: 0.0957\n",
      "Epoch 16/20\n",
      "48000/48000 [==============================] - 4s 81us/step - loss: 2.3028 - accuracy: 0.1009 - val_loss: 2.3027 - val_accuracy: 0.0957\n",
      "Epoch 17/20\n",
      "48000/48000 [==============================] - 4s 82us/step - loss: 2.3028 - accuracy: 0.0988 - val_loss: 2.3028 - val_accuracy: 0.0988\n",
      "Epoch 18/20\n",
      "48000/48000 [==============================] - 4s 85us/step - loss: 2.3028 - accuracy: 0.0984 - val_loss: 2.3029 - val_accuracy: 0.0957\n",
      "Epoch 19/20\n",
      "48000/48000 [==============================] - 4s 88us/step - loss: 2.3027 - accuracy: 0.0988 - val_loss: 2.3026 - val_accuracy: 0.1020\n",
      "Epoch 20/20\n",
      "48000/48000 [==============================] - 4s 83us/step - loss: 2.3027 - accuracy: 0.1000 - val_loss: 2.3028 - val_accuracy: 0.0951\n"
     ]
    }
   ],
   "source": [
    "model.compile(optimizer='adam', loss='sparse_categorical_crossentropy',metrics=['accuracy'])\n",
    "train_history_autoencoder_1_in_data_set = model.fit(np.array(X_train),np.array(y_train),validation_data=(X_val, y_val),epochs=20)"
   ]
  },
  {
   "cell_type": "code",
   "execution_count": 127,
   "metadata": {
    "scrolled": true
   },
   "outputs": [
    {
     "data": {
      "image/png": "[encoded data removed]",
      "text/plain": [
       "<Figure size 432x288 with 1 Axes>"
      ]
     },
     "metadata": {
      "needs_background": "light"
     },
     "output_type": "display_data"
    }
   ],
   "source": [
    "loss = train_history_autoencoder_1_in_data_set.history['loss']\n",
    "val_loss = train_history_autoencoder_1_in_data_set.history['val_loss']\n",
    "plt.plot(loss)\n",
    "plt.plot(val_loss)\n",
    "plt.legend(['loss', 'val_loss'])\n",
    "plt.show()"
   ]
  },
  {
   "cell_type": "markdown",
   "metadata": {},
   "source": [
    "## Autoencoder - Tentativa 2"
   ]
  },
  {
   "cell_type": "code",
   "execution_count": 142,
   "metadata": {},
   "outputs": [],
   "source": [
    "initializer = keras.initializers.RandomUniform(minval=-0.5,maxval=0.05,seed=567)"
   ]
  },
  {
   "cell_type": "code",
   "execution_count": 169,
   "metadata": {},
   "outputs": [],
   "source": [
    "input_img = Input(shape=(784,))\n",
    "\n",
    "encoded = Dense(200, activation='relu',\n",
    "                activity_regularizer=regularizers.l1(10e-5))(input_img)\n",
    "decoded = Dense(784, activation='sigmoid')(encoded)\n",
    "\n",
    "autoencoder_2 = Model(input_img, decoded)"
   ]
  },
  {
   "cell_type": "code",
   "execution_count": 145,
   "metadata": {},
   "outputs": [],
   "source": [
    "autoencoder_2.compile(optimizer='adam', loss='binary_crossentropy')"
   ]
  },
  {
   "cell_type": "code",
   "execution_count": 147,
   "metadata": {},
   "outputs": [
    {
     "name": "stdout",
     "output_type": "stream",
     "text": [
      "Train on 48000 samples, validate on 12000 samples\n",
      "Epoch 1/10\n",
      "48000/48000 [==============================] - 9s 183us/step - loss: 0.3450 - val_loss: 0.3446\n",
      "Epoch 2/10\n",
      "48000/48000 [==============================] - 9s 189us/step - loss: 0.3444 - val_loss: 0.3449\n",
      "Epoch 3/10\n",
      "48000/48000 [==============================] - 9s 189us/step - loss: 0.3439 - val_loss: 0.3437\n",
      "Epoch 4/10\n",
      "48000/48000 [==============================] - 9s 191us/step - loss: 0.3434 - val_loss: 0.3430\n",
      "Epoch 5/10\n",
      "48000/48000 [==============================] - 10s 209us/step - loss: 0.3430 - val_loss: 0.3425\n",
      "Epoch 6/10\n",
      "48000/48000 [==============================] - 10s 202us/step - loss: 0.3427 - val_loss: 0.3426\n",
      "Epoch 7/10\n",
      "48000/48000 [==============================] - 9s 195us/step - loss: 0.3425 - val_loss: 0.3429\n",
      "Epoch 8/10\n",
      "48000/48000 [==============================] - 10s 205us/step - loss: 0.3422 - val_loss: 0.3442\n",
      "Epoch 9/10\n",
      "48000/48000 [==============================] - 10s 198us/step - loss: 0.3421 - val_loss: 0.3413\n",
      "Epoch 10/10\n",
      "48000/48000 [==============================] - 10s 200us/step - loss: 0.3419 - val_loss: 0.3414\n"
     ]
    }
   ],
   "source": [
    "train_history_autoencoder_2 = autoencoder_2.fit(np.array(X_train),np.array(X_train),validation_data=(X_val, X_val),epochs=10)"
   ]
  },
  {
   "cell_type": "code",
   "execution_count": 148,
   "metadata": {
    "scrolled": true
   },
   "outputs": [
    {
     "data": {
      "image/png": "[encoded data removed]",
      "text/plain": [
       "<Figure size 432x288 with 1 Axes>"
      ]
     },
     "metadata": {
      "needs_background": "light"
     },
     "output_type": "display_data"
    }
   ],
   "source": [
    "loss = train_history_autoencoder_2.history['loss']\n",
    "val_loss = train_history_autoencoder_2.history['val_loss']\n",
    "plt.plot(loss)\n",
    "plt.plot(val_loss)\n",
    "plt.legend(['loss', 'val_loss'])\n",
    "plt.show()"
   ]
  },
  {
   "cell_type": "markdown",
   "metadata": {},
   "source": [
    "### Treinando com autoencoder 2"
   ]
  },
  {
   "cell_type": "code",
   "execution_count": 162,
   "metadata": {},
   "outputs": [],
   "source": [
    "from keras.models import Model\n",
    "from keras.layers import Dropout"
   ]
  },
  {
   "cell_type": "code",
   "execution_count": 175,
   "metadata": {},
   "outputs": [
    {
     "name": "stderr",
     "output_type": "stream",
     "text": [
      "/anaconda3/lib/python3.7/site-packages/keras/engine/network.py:190: UserWarning: Model inputs must come from `keras.layers.Input` (thus holding past layer metadata), they cannot be the output of a previous non-Input layer. Here, a tensor specified as input to your model was not an Input tensor, it was generated by layer dense_113.\n",
      "Note that input tensors are instantiated via `tensor = keras.layers.Input(shape)`.\n",
      "The tensor that caused the issue was: dense_113/Relu:0\n",
      "  str(x.name))\n"
     ]
    },
    {
     "ename": "ValueError",
     "evalue": "Graph disconnected: cannot obtain value for tensor Tensor(\"input_6:0\", shape=(None, 784), dtype=float32) at layer \"input_6\". The following previous layers were accessed without issue: []",
     "output_type": "error",
     "traceback": [
      "\u001b[0;31m---------------------------------------------------------------------------\u001b[0m",
      "\u001b[0;31mValueError\u001b[0m                                Traceback (most recent call last)",
      "\u001b[0;32m<ipython-input-175-69da742489b7>\u001b[0m in \u001b[0;36m<module>\u001b[0;34m\u001b[0m\n\u001b[1;32m      7\u001b[0m \u001b[0mlayersModel\u001b[0m \u001b[0;34m=\u001b[0m \u001b[0mDense\u001b[0m\u001b[0;34m(\u001b[0m\u001b[0;36m10\u001b[0m\u001b[0;34m,\u001b[0m \u001b[0mactivation\u001b[0m\u001b[0;34m=\u001b[0m\u001b[0;34m'softmax'\u001b[0m\u001b[0;34m)\u001b[0m\u001b[0;34m(\u001b[0m\u001b[0mlayersModel\u001b[0m\u001b[0;34m)\u001b[0m\u001b[0;34m\u001b[0m\u001b[0;34m\u001b[0m\u001b[0m\n\u001b[1;32m      8\u001b[0m \u001b[0;34m\u001b[0m\u001b[0m\n\u001b[0;32m----> 9\u001b[0;31m \u001b[0mnewModel\u001b[0m \u001b[0;34m=\u001b[0m \u001b[0mModel\u001b[0m\u001b[0;34m(\u001b[0m\u001b[0minputs\u001b[0m\u001b[0;34m=\u001b[0m\u001b[0mencoded\u001b[0m\u001b[0;34m,\u001b[0m\u001b[0moutputs\u001b[0m\u001b[0;34m=\u001b[0m\u001b[0mlayersModel\u001b[0m\u001b[0;34m)\u001b[0m\u001b[0;34m\u001b[0m\u001b[0;34m\u001b[0m\u001b[0m\n\u001b[0m\u001b[1;32m     10\u001b[0m \u001b[0;34m\u001b[0m\u001b[0m\n\u001b[1;32m     11\u001b[0m \u001b[0;34m\u001b[0m\u001b[0m\n",
      "\u001b[0;32m/anaconda3/lib/python3.7/site-packages/keras/legacy/interfaces.py\u001b[0m in \u001b[0;36mwrapper\u001b[0;34m(*args, **kwargs)\u001b[0m\n\u001b[1;32m     89\u001b[0m                 warnings.warn('Update your `' + object_name + '` call to the ' +\n\u001b[1;32m     90\u001b[0m                               'Keras 2 API: ' + signature, stacklevel=2)\n\u001b[0;32m---> 91\u001b[0;31m             \u001b[0;32mreturn\u001b[0m \u001b[0mfunc\u001b[0m\u001b[0;34m(\u001b[0m\u001b[0;34m*\u001b[0m\u001b[0margs\u001b[0m\u001b[0;34m,\u001b[0m \u001b[0;34m**\u001b[0m\u001b[0mkwargs\u001b[0m\u001b[0;34m)\u001b[0m\u001b[0;34m\u001b[0m\u001b[0;34m\u001b[0m\u001b[0m\n\u001b[0m\u001b[1;32m     92\u001b[0m         \u001b[0mwrapper\u001b[0m\u001b[0;34m.\u001b[0m\u001b[0m_original_function\u001b[0m \u001b[0;34m=\u001b[0m \u001b[0mfunc\u001b[0m\u001b[0;34m\u001b[0m\u001b[0;34m\u001b[0m\u001b[0m\n\u001b[1;32m     93\u001b[0m         \u001b[0;32mreturn\u001b[0m \u001b[0mwrapper\u001b[0m\u001b[0;34m\u001b[0m\u001b[0;34m\u001b[0m\u001b[0m\n",
      "\u001b[0;32m/anaconda3/lib/python3.7/site-packages/keras/engine/network.py\u001b[0m in \u001b[0;36m__init__\u001b[0;34m(self, *args, **kwargs)\u001b[0m\n\u001b[1;32m     92\u001b[0m                 'inputs' in kwargs and 'outputs' in kwargs):\n\u001b[1;32m     93\u001b[0m             \u001b[0;31m# Graph network\u001b[0m\u001b[0;34m\u001b[0m\u001b[0;34m\u001b[0m\u001b[0;34m\u001b[0m\u001b[0m\n\u001b[0;32m---> 94\u001b[0;31m             \u001b[0mself\u001b[0m\u001b[0;34m.\u001b[0m\u001b[0m_init_graph_network\u001b[0m\u001b[0;34m(\u001b[0m\u001b[0;34m*\u001b[0m\u001b[0margs\u001b[0m\u001b[0;34m,\u001b[0m \u001b[0;34m**\u001b[0m\u001b[0mkwargs\u001b[0m\u001b[0;34m)\u001b[0m\u001b[0;34m\u001b[0m\u001b[0;34m\u001b[0m\u001b[0m\n\u001b[0m\u001b[1;32m     95\u001b[0m         \u001b[0;32melse\u001b[0m\u001b[0;34m:\u001b[0m\u001b[0;34m\u001b[0m\u001b[0;34m\u001b[0m\u001b[0m\n\u001b[1;32m     96\u001b[0m             \u001b[0;31m# Subclassed network\u001b[0m\u001b[0;34m\u001b[0m\u001b[0;34m\u001b[0m\u001b[0;34m\u001b[0m\u001b[0m\n",
      "\u001b[0;32m/anaconda3/lib/python3.7/site-packages/keras/engine/network.py\u001b[0m in \u001b[0;36m_init_graph_network\u001b[0;34m(self, inputs, outputs, name, **kwargs)\u001b[0m\n\u001b[1;32m    239\u001b[0m         \u001b[0;31m# Keep track of the network's nodes and layers.\u001b[0m\u001b[0;34m\u001b[0m\u001b[0;34m\u001b[0m\u001b[0;34m\u001b[0m\u001b[0m\n\u001b[1;32m    240\u001b[0m         nodes, nodes_by_depth, layers, layers_by_depth = _map_graph_network(\n\u001b[0;32m--> 241\u001b[0;31m             self.inputs, self.outputs)\n\u001b[0m\u001b[1;32m    242\u001b[0m         \u001b[0mself\u001b[0m\u001b[0;34m.\u001b[0m\u001b[0m_network_nodes\u001b[0m \u001b[0;34m=\u001b[0m \u001b[0mnodes\u001b[0m\u001b[0;34m\u001b[0m\u001b[0;34m\u001b[0m\u001b[0m\n\u001b[1;32m    243\u001b[0m         \u001b[0mself\u001b[0m\u001b[0;34m.\u001b[0m\u001b[0m_nodes_by_depth\u001b[0m \u001b[0;34m=\u001b[0m \u001b[0mnodes_by_depth\u001b[0m\u001b[0;34m\u001b[0m\u001b[0;34m\u001b[0m\u001b[0m\n",
      "\u001b[0;32m/anaconda3/lib/python3.7/site-packages/keras/engine/network.py\u001b[0m in \u001b[0;36m_map_graph_network\u001b[0;34m(inputs, outputs)\u001b[0m\n\u001b[1;32m   1509\u001b[0m                                          \u001b[0;34m'The following previous layers '\u001b[0m\u001b[0;34m\u001b[0m\u001b[0;34m\u001b[0m\u001b[0m\n\u001b[1;32m   1510\u001b[0m                                          \u001b[0;34m'were accessed without issue: '\u001b[0m \u001b[0;34m+\u001b[0m\u001b[0;34m\u001b[0m\u001b[0;34m\u001b[0m\u001b[0m\n\u001b[0;32m-> 1511\u001b[0;31m                                          str(layers_with_complete_input))\n\u001b[0m\u001b[1;32m   1512\u001b[0m                 \u001b[0;32mfor\u001b[0m \u001b[0mx\u001b[0m \u001b[0;32min\u001b[0m \u001b[0mnode\u001b[0m\u001b[0;34m.\u001b[0m\u001b[0moutput_tensors\u001b[0m\u001b[0;34m:\u001b[0m\u001b[0;34m\u001b[0m\u001b[0;34m\u001b[0m\u001b[0m\n\u001b[1;32m   1513\u001b[0m                     \u001b[0mcomputable_tensors\u001b[0m\u001b[0;34m.\u001b[0m\u001b[0mappend\u001b[0m\u001b[0;34m(\u001b[0m\u001b[0mx\u001b[0m\u001b[0;34m)\u001b[0m\u001b[0;34m\u001b[0m\u001b[0;34m\u001b[0m\u001b[0m\n",
      "\u001b[0;31mValueError\u001b[0m: Graph disconnected: cannot obtain value for tensor Tensor(\"input_6:0\", shape=(None, 784), dtype=float32) at layer \"input_6\". The following previous layers were accessed without issue: []"
     ]
    }
   ],
   "source": [
    "# input_img = Input(shape=(784,))\n",
    "\n",
    "layersModel = Dense(128, activation='relu')(encoded)\n",
    "layersModel = Dropout(0.4)(layersModel)\n",
    "layersModel = Dense(64, activation='relu')(layersModel)\n",
    "layersModel = Dropout(0.2)(layersModel)\n",
    "layersModel = Dense(10, activation='softmax')(layersModel)\n",
    "\n",
    "newModel = Model(inputs=encoded,outputs=layersModel)\n",
    "\n",
    "\n",
    "print(newModel.summary())"
   ]
  },
  {
   "cell_type": "code",
   "execution_count": 161,
   "metadata": {},
   "outputs": [
    {
     "name": "stdout",
     "output_type": "stream",
     "text": [
      "Train on 48000 samples, validate on 12000 samples\n",
      "Epoch 1/20\n",
      "37760/48000 [======================>.......] - ETA: 1s - loss: 2.3028 - accuracy: 0.10"
     ]
    },
    {
     "ename": "KeyboardInterrupt",
     "evalue": "",
     "output_type": "error",
     "traceback": [
      "\u001b[0;31m---------------------------------------------------------------------------\u001b[0m",
      "\u001b[0;31mKeyboardInterrupt\u001b[0m                         Traceback (most recent call last)",
      "\u001b[0;32m<ipython-input-161-e1250437f4b5>\u001b[0m in \u001b[0;36m<module>\u001b[0;34m\u001b[0m\n\u001b[1;32m      1\u001b[0m \u001b[0mmodel\u001b[0m\u001b[0;34m.\u001b[0m\u001b[0mcompile\u001b[0m\u001b[0;34m(\u001b[0m\u001b[0moptimizer\u001b[0m\u001b[0;34m=\u001b[0m\u001b[0;34m'adam'\u001b[0m\u001b[0;34m,\u001b[0m \u001b[0mloss\u001b[0m\u001b[0;34m=\u001b[0m\u001b[0;34m'sparse_categorical_crossentropy'\u001b[0m\u001b[0;34m,\u001b[0m\u001b[0mmetrics\u001b[0m\u001b[0;34m=\u001b[0m\u001b[0;34m[\u001b[0m\u001b[0;34m'accuracy'\u001b[0m\u001b[0;34m]\u001b[0m\u001b[0;34m)\u001b[0m\u001b[0;34m\u001b[0m\u001b[0;34m\u001b[0m\u001b[0m\n\u001b[0;32m----> 2\u001b[0;31m \u001b[0mtrain_history_autoencoder_2_in_data_set\u001b[0m \u001b[0;34m=\u001b[0m \u001b[0mmodel\u001b[0m\u001b[0;34m.\u001b[0m\u001b[0mfit\u001b[0m\u001b[0;34m(\u001b[0m\u001b[0mnp\u001b[0m\u001b[0;34m.\u001b[0m\u001b[0marray\u001b[0m\u001b[0;34m(\u001b[0m\u001b[0mX_train\u001b[0m\u001b[0;34m)\u001b[0m\u001b[0;34m,\u001b[0m\u001b[0mnp\u001b[0m\u001b[0;34m.\u001b[0m\u001b[0marray\u001b[0m\u001b[0;34m(\u001b[0m\u001b[0my_train\u001b[0m\u001b[0;34m)\u001b[0m\u001b[0;34m,\u001b[0m\u001b[0mvalidation_data\u001b[0m\u001b[0;34m=\u001b[0m\u001b[0;34m(\u001b[0m\u001b[0mX_val\u001b[0m\u001b[0;34m,\u001b[0m \u001b[0my_val\u001b[0m\u001b[0;34m)\u001b[0m\u001b[0;34m,\u001b[0m\u001b[0mepochs\u001b[0m\u001b[0;34m=\u001b[0m\u001b[0;36m20\u001b[0m\u001b[0;34m)\u001b[0m\u001b[0;34m\u001b[0m\u001b[0;34m\u001b[0m\u001b[0m\n\u001b[0m",
      "\u001b[0;32m/anaconda3/lib/python3.7/site-packages/keras/engine/training.py\u001b[0m in \u001b[0;36mfit\u001b[0;34m(self, x, y, batch_size, epochs, verbose, callbacks, validation_split, validation_data, shuffle, class_weight, sample_weight, initial_epoch, steps_per_epoch, validation_steps, validation_freq, max_queue_size, workers, use_multiprocessing, **kwargs)\u001b[0m\n\u001b[1;32m   1237\u001b[0m                                         \u001b[0msteps_per_epoch\u001b[0m\u001b[0;34m=\u001b[0m\u001b[0msteps_per_epoch\u001b[0m\u001b[0;34m,\u001b[0m\u001b[0;34m\u001b[0m\u001b[0;34m\u001b[0m\u001b[0m\n\u001b[1;32m   1238\u001b[0m                                         \u001b[0mvalidation_steps\u001b[0m\u001b[0;34m=\u001b[0m\u001b[0mvalidation_steps\u001b[0m\u001b[0;34m,\u001b[0m\u001b[0;34m\u001b[0m\u001b[0;34m\u001b[0m\u001b[0m\n\u001b[0;32m-> 1239\u001b[0;31m                                         validation_freq=validation_freq)\n\u001b[0m\u001b[1;32m   1240\u001b[0m \u001b[0;34m\u001b[0m\u001b[0m\n\u001b[1;32m   1241\u001b[0m     def evaluate(self,\n",
      "\u001b[0;32m/anaconda3/lib/python3.7/site-packages/keras/engine/training_arrays.py\u001b[0m in \u001b[0;36mfit_loop\u001b[0;34m(model, fit_function, fit_inputs, out_labels, batch_size, epochs, verbose, callbacks, val_function, val_inputs, shuffle, initial_epoch, steps_per_epoch, validation_steps, validation_freq)\u001b[0m\n\u001b[1;32m    199\u001b[0m                     \u001b[0mbatch_logs\u001b[0m\u001b[0;34m[\u001b[0m\u001b[0ml\u001b[0m\u001b[0;34m]\u001b[0m \u001b[0;34m=\u001b[0m \u001b[0mo\u001b[0m\u001b[0;34m\u001b[0m\u001b[0;34m\u001b[0m\u001b[0m\n\u001b[1;32m    200\u001b[0m \u001b[0;34m\u001b[0m\u001b[0m\n\u001b[0;32m--> 201\u001b[0;31m                 \u001b[0mcallbacks\u001b[0m\u001b[0;34m.\u001b[0m\u001b[0m_call_batch_hook\u001b[0m\u001b[0;34m(\u001b[0m\u001b[0;34m'train'\u001b[0m\u001b[0;34m,\u001b[0m \u001b[0;34m'end'\u001b[0m\u001b[0;34m,\u001b[0m \u001b[0mbatch_index\u001b[0m\u001b[0;34m,\u001b[0m \u001b[0mbatch_logs\u001b[0m\u001b[0;34m)\u001b[0m\u001b[0;34m\u001b[0m\u001b[0;34m\u001b[0m\u001b[0m\n\u001b[0m\u001b[1;32m    202\u001b[0m                 \u001b[0;32mif\u001b[0m \u001b[0mcallbacks\u001b[0m\u001b[0;34m.\u001b[0m\u001b[0mmodel\u001b[0m\u001b[0;34m.\u001b[0m\u001b[0mstop_training\u001b[0m\u001b[0;34m:\u001b[0m\u001b[0;34m\u001b[0m\u001b[0;34m\u001b[0m\u001b[0m\n\u001b[1;32m    203\u001b[0m                     \u001b[0;32mbreak\u001b[0m\u001b[0;34m\u001b[0m\u001b[0;34m\u001b[0m\u001b[0m\n",
      "\u001b[0;32m/anaconda3/lib/python3.7/site-packages/keras/callbacks/callbacks.py\u001b[0m in \u001b[0;36m_call_batch_hook\u001b[0;34m(self, mode, hook, batch, logs)\u001b[0m\n\u001b[1;32m     83\u001b[0m         \u001b[0;32mfor\u001b[0m \u001b[0mcallback\u001b[0m \u001b[0;32min\u001b[0m \u001b[0mself\u001b[0m\u001b[0;34m.\u001b[0m\u001b[0mcallbacks\u001b[0m\u001b[0;34m:\u001b[0m\u001b[0;34m\u001b[0m\u001b[0;34m\u001b[0m\u001b[0m\n\u001b[1;32m     84\u001b[0m             \u001b[0mbatch_hook\u001b[0m \u001b[0;34m=\u001b[0m \u001b[0mgetattr\u001b[0m\u001b[0;34m(\u001b[0m\u001b[0mcallback\u001b[0m\u001b[0;34m,\u001b[0m \u001b[0mhook_name\u001b[0m\u001b[0;34m)\u001b[0m\u001b[0;34m\u001b[0m\u001b[0;34m\u001b[0m\u001b[0m\n\u001b[0;32m---> 85\u001b[0;31m             \u001b[0mbatch_hook\u001b[0m\u001b[0;34m(\u001b[0m\u001b[0mbatch\u001b[0m\u001b[0;34m,\u001b[0m \u001b[0mlogs\u001b[0m\u001b[0;34m)\u001b[0m\u001b[0;34m\u001b[0m\u001b[0;34m\u001b[0m\u001b[0m\n\u001b[0m\u001b[1;32m     86\u001b[0m         \u001b[0mself\u001b[0m\u001b[0;34m.\u001b[0m\u001b[0m_delta_ts\u001b[0m\u001b[0;34m[\u001b[0m\u001b[0mhook_name\u001b[0m\u001b[0;34m]\u001b[0m\u001b[0;34m.\u001b[0m\u001b[0mappend\u001b[0m\u001b[0;34m(\u001b[0m\u001b[0mtime\u001b[0m\u001b[0;34m.\u001b[0m\u001b[0mtime\u001b[0m\u001b[0;34m(\u001b[0m\u001b[0;34m)\u001b[0m \u001b[0;34m-\u001b[0m \u001b[0mt_before_callbacks\u001b[0m\u001b[0;34m)\u001b[0m\u001b[0;34m\u001b[0m\u001b[0;34m\u001b[0m\u001b[0m\n\u001b[1;32m     87\u001b[0m \u001b[0;34m\u001b[0m\u001b[0m\n",
      "\u001b[0;32m/anaconda3/lib/python3.7/site-packages/keras/callbacks/callbacks.py\u001b[0m in \u001b[0;36mon_train_batch_end\u001b[0;34m(self, batch, logs)\u001b[0m\n\u001b[1;32m    364\u001b[0m         \"\"\"\n\u001b[1;32m    365\u001b[0m         \u001b[0;31m# For backwards compatibility\u001b[0m\u001b[0;34m\u001b[0m\u001b[0;34m\u001b[0m\u001b[0;34m\u001b[0m\u001b[0m\n\u001b[0;32m--> 366\u001b[0;31m         \u001b[0mself\u001b[0m\u001b[0;34m.\u001b[0m\u001b[0mon_batch_end\u001b[0m\u001b[0;34m(\u001b[0m\u001b[0mbatch\u001b[0m\u001b[0;34m,\u001b[0m \u001b[0mlogs\u001b[0m\u001b[0;34m=\u001b[0m\u001b[0mlogs\u001b[0m\u001b[0;34m)\u001b[0m\u001b[0;34m\u001b[0m\u001b[0;34m\u001b[0m\u001b[0m\n\u001b[0m\u001b[1;32m    367\u001b[0m \u001b[0;34m\u001b[0m\u001b[0m\n\u001b[1;32m    368\u001b[0m     \u001b[0;32mdef\u001b[0m \u001b[0mon_test_batch_begin\u001b[0m\u001b[0;34m(\u001b[0m\u001b[0mself\u001b[0m\u001b[0;34m,\u001b[0m \u001b[0mbatch\u001b[0m\u001b[0;34m,\u001b[0m \u001b[0mlogs\u001b[0m\u001b[0;34m=\u001b[0m\u001b[0;32mNone\u001b[0m\u001b[0;34m)\u001b[0m\u001b[0;34m:\u001b[0m\u001b[0;34m\u001b[0m\u001b[0;34m\u001b[0m\u001b[0m\n",
      "\u001b[0;32m/anaconda3/lib/python3.7/site-packages/keras/callbacks/callbacks.py\u001b[0m in \u001b[0;36mon_batch_end\u001b[0;34m(self, batch, logs)\u001b[0m\n\u001b[1;32m    601\u001b[0m         \u001b[0;31m# will be handled by on_epoch_end.\u001b[0m\u001b[0;34m\u001b[0m\u001b[0;34m\u001b[0m\u001b[0;34m\u001b[0m\u001b[0m\n\u001b[1;32m    602\u001b[0m         \u001b[0;32mif\u001b[0m \u001b[0mself\u001b[0m\u001b[0;34m.\u001b[0m\u001b[0mverbose\u001b[0m \u001b[0;32mand\u001b[0m \u001b[0mself\u001b[0m\u001b[0;34m.\u001b[0m\u001b[0mseen\u001b[0m \u001b[0;34m<\u001b[0m \u001b[0mself\u001b[0m\u001b[0;34m.\u001b[0m\u001b[0mtarget\u001b[0m\u001b[0;34m:\u001b[0m\u001b[0;34m\u001b[0m\u001b[0;34m\u001b[0m\u001b[0m\n\u001b[0;32m--> 603\u001b[0;31m             \u001b[0mself\u001b[0m\u001b[0;34m.\u001b[0m\u001b[0mprogbar\u001b[0m\u001b[0;34m.\u001b[0m\u001b[0mupdate\u001b[0m\u001b[0;34m(\u001b[0m\u001b[0mself\u001b[0m\u001b[0;34m.\u001b[0m\u001b[0mseen\u001b[0m\u001b[0;34m,\u001b[0m \u001b[0mself\u001b[0m\u001b[0;34m.\u001b[0m\u001b[0mlog_values\u001b[0m\u001b[0;34m)\u001b[0m\u001b[0;34m\u001b[0m\u001b[0;34m\u001b[0m\u001b[0m\n\u001b[0m\u001b[1;32m    604\u001b[0m \u001b[0;34m\u001b[0m\u001b[0m\n\u001b[1;32m    605\u001b[0m     \u001b[0;32mdef\u001b[0m \u001b[0mon_epoch_end\u001b[0m\u001b[0;34m(\u001b[0m\u001b[0mself\u001b[0m\u001b[0;34m,\u001b[0m \u001b[0mepoch\u001b[0m\u001b[0;34m,\u001b[0m \u001b[0mlogs\u001b[0m\u001b[0;34m=\u001b[0m\u001b[0;32mNone\u001b[0m\u001b[0;34m)\u001b[0m\u001b[0;34m:\u001b[0m\u001b[0;34m\u001b[0m\u001b[0;34m\u001b[0m\u001b[0m\n",
      "\u001b[0;32m/anaconda3/lib/python3.7/site-packages/keras/utils/generic_utils.py\u001b[0m in \u001b[0;36mupdate\u001b[0;34m(self, current, values)\u001b[0m\n\u001b[1;32m    383\u001b[0m             \u001b[0mprev_total_width\u001b[0m \u001b[0;34m=\u001b[0m \u001b[0mself\u001b[0m\u001b[0;34m.\u001b[0m\u001b[0m_total_width\u001b[0m\u001b[0;34m\u001b[0m\u001b[0;34m\u001b[0m\u001b[0m\n\u001b[1;32m    384\u001b[0m             \u001b[0;32mif\u001b[0m \u001b[0mself\u001b[0m\u001b[0;34m.\u001b[0m\u001b[0m_dynamic_display\u001b[0m\u001b[0;34m:\u001b[0m\u001b[0;34m\u001b[0m\u001b[0;34m\u001b[0m\u001b[0m\n\u001b[0;32m--> 385\u001b[0;31m                 \u001b[0msys\u001b[0m\u001b[0;34m.\u001b[0m\u001b[0mstdout\u001b[0m\u001b[0;34m.\u001b[0m\u001b[0mwrite\u001b[0m\u001b[0;34m(\u001b[0m\u001b[0;34m'\\b'\u001b[0m \u001b[0;34m*\u001b[0m \u001b[0mprev_total_width\u001b[0m\u001b[0;34m)\u001b[0m\u001b[0;34m\u001b[0m\u001b[0;34m\u001b[0m\u001b[0m\n\u001b[0m\u001b[1;32m    386\u001b[0m                 \u001b[0msys\u001b[0m\u001b[0;34m.\u001b[0m\u001b[0mstdout\u001b[0m\u001b[0;34m.\u001b[0m\u001b[0mwrite\u001b[0m\u001b[0;34m(\u001b[0m\u001b[0;34m'\\r'\u001b[0m\u001b[0;34m)\u001b[0m\u001b[0;34m\u001b[0m\u001b[0;34m\u001b[0m\u001b[0m\n\u001b[1;32m    387\u001b[0m             \u001b[0;32melse\u001b[0m\u001b[0;34m:\u001b[0m\u001b[0;34m\u001b[0m\u001b[0;34m\u001b[0m\u001b[0m\n",
      "\u001b[0;32m/anaconda3/lib/python3.7/site-packages/ipykernel/iostream.py\u001b[0m in \u001b[0;36mwrite\u001b[0;34m(self, string)\u001b[0m\n\u001b[1;32m    406\u001b[0m                     \u001b[0mself\u001b[0m\u001b[0;34m.\u001b[0m\u001b[0mflush\u001b[0m\u001b[0;34m(\u001b[0m\u001b[0;34m)\u001b[0m\u001b[0;34m\u001b[0m\u001b[0;34m\u001b[0m\u001b[0m\n\u001b[1;32m    407\u001b[0m             \u001b[0;32melse\u001b[0m\u001b[0;34m:\u001b[0m\u001b[0;34m\u001b[0m\u001b[0;34m\u001b[0m\u001b[0m\n\u001b[0;32m--> 408\u001b[0;31m                 \u001b[0mself\u001b[0m\u001b[0;34m.\u001b[0m\u001b[0m_schedule_flush\u001b[0m\u001b[0;34m(\u001b[0m\u001b[0;34m)\u001b[0m\u001b[0;34m\u001b[0m\u001b[0;34m\u001b[0m\u001b[0m\n\u001b[0m\u001b[1;32m    409\u001b[0m \u001b[0;34m\u001b[0m\u001b[0m\n\u001b[1;32m    410\u001b[0m     \u001b[0;32mdef\u001b[0m \u001b[0mwritelines\u001b[0m\u001b[0;34m(\u001b[0m\u001b[0mself\u001b[0m\u001b[0;34m,\u001b[0m \u001b[0msequence\u001b[0m\u001b[0;34m)\u001b[0m\u001b[0;34m:\u001b[0m\u001b[0;34m\u001b[0m\u001b[0;34m\u001b[0m\u001b[0m\n",
      "\u001b[0;32m/anaconda3/lib/python3.7/site-packages/ipykernel/iostream.py\u001b[0m in \u001b[0;36m_schedule_flush\u001b[0;34m(self)\u001b[0m\n\u001b[1;32m    330\u001b[0m         \u001b[0;32mdef\u001b[0m \u001b[0m_schedule_in_thread\u001b[0m\u001b[0;34m(\u001b[0m\u001b[0;34m)\u001b[0m\u001b[0;34m:\u001b[0m\u001b[0;34m\u001b[0m\u001b[0;34m\u001b[0m\u001b[0m\n\u001b[1;32m    331\u001b[0m             \u001b[0mself\u001b[0m\u001b[0;34m.\u001b[0m\u001b[0m_io_loop\u001b[0m\u001b[0;34m.\u001b[0m\u001b[0mcall_later\u001b[0m\u001b[0;34m(\u001b[0m\u001b[0mself\u001b[0m\u001b[0;34m.\u001b[0m\u001b[0mflush_interval\u001b[0m\u001b[0;34m,\u001b[0m \u001b[0mself\u001b[0m\u001b[0;34m.\u001b[0m\u001b[0m_flush\u001b[0m\u001b[0;34m)\u001b[0m\u001b[0;34m\u001b[0m\u001b[0;34m\u001b[0m\u001b[0m\n\u001b[0;32m--> 332\u001b[0;31m         \u001b[0mself\u001b[0m\u001b[0;34m.\u001b[0m\u001b[0mpub_thread\u001b[0m\u001b[0;34m.\u001b[0m\u001b[0mschedule\u001b[0m\u001b[0;34m(\u001b[0m\u001b[0m_schedule_in_thread\u001b[0m\u001b[0;34m)\u001b[0m\u001b[0;34m\u001b[0m\u001b[0;34m\u001b[0m\u001b[0m\n\u001b[0m\u001b[1;32m    333\u001b[0m \u001b[0;34m\u001b[0m\u001b[0m\n\u001b[1;32m    334\u001b[0m     \u001b[0;32mdef\u001b[0m \u001b[0mflush\u001b[0m\u001b[0;34m(\u001b[0m\u001b[0mself\u001b[0m\u001b[0;34m)\u001b[0m\u001b[0;34m:\u001b[0m\u001b[0;34m\u001b[0m\u001b[0;34m\u001b[0m\u001b[0m\n",
      "\u001b[0;32m/anaconda3/lib/python3.7/site-packages/ipykernel/iostream.py\u001b[0m in \u001b[0;36mschedule\u001b[0;34m(self, f)\u001b[0m\n\u001b[1;32m    201\u001b[0m             \u001b[0mself\u001b[0m\u001b[0;34m.\u001b[0m\u001b[0m_events\u001b[0m\u001b[0;34m.\u001b[0m\u001b[0mappend\u001b[0m\u001b[0;34m(\u001b[0m\u001b[0mf\u001b[0m\u001b[0;34m)\u001b[0m\u001b[0;34m\u001b[0m\u001b[0;34m\u001b[0m\u001b[0m\n\u001b[1;32m    202\u001b[0m             \u001b[0;31m# wake event thread (message content is ignored)\u001b[0m\u001b[0;34m\u001b[0m\u001b[0;34m\u001b[0m\u001b[0;34m\u001b[0m\u001b[0m\n\u001b[0;32m--> 203\u001b[0;31m             \u001b[0mself\u001b[0m\u001b[0;34m.\u001b[0m\u001b[0m_event_pipe\u001b[0m\u001b[0;34m.\u001b[0m\u001b[0msend\u001b[0m\u001b[0;34m(\u001b[0m\u001b[0;34mb''\u001b[0m\u001b[0;34m)\u001b[0m\u001b[0;34m\u001b[0m\u001b[0;34m\u001b[0m\u001b[0m\n\u001b[0m\u001b[1;32m    204\u001b[0m         \u001b[0;32melse\u001b[0m\u001b[0;34m:\u001b[0m\u001b[0;34m\u001b[0m\u001b[0;34m\u001b[0m\u001b[0m\n\u001b[1;32m    205\u001b[0m             \u001b[0mf\u001b[0m\u001b[0;34m(\u001b[0m\u001b[0;34m)\u001b[0m\u001b[0;34m\u001b[0m\u001b[0;34m\u001b[0m\u001b[0m\n",
      "\u001b[0;32m/anaconda3/lib/python3.7/site-packages/zmq/sugar/socket.py\u001b[0m in \u001b[0;36msend\u001b[0;34m(self, data, flags, copy, track, routing_id, group)\u001b[0m\n\u001b[1;32m    393\u001b[0m                                  copy_threshold=self.copy_threshold)\n\u001b[1;32m    394\u001b[0m             \u001b[0mdata\u001b[0m\u001b[0;34m.\u001b[0m\u001b[0mgroup\u001b[0m \u001b[0;34m=\u001b[0m \u001b[0mgroup\u001b[0m\u001b[0;34m\u001b[0m\u001b[0;34m\u001b[0m\u001b[0m\n\u001b[0;32m--> 395\u001b[0;31m         \u001b[0;32mreturn\u001b[0m \u001b[0msuper\u001b[0m\u001b[0;34m(\u001b[0m\u001b[0mSocket\u001b[0m\u001b[0;34m,\u001b[0m \u001b[0mself\u001b[0m\u001b[0;34m)\u001b[0m\u001b[0;34m.\u001b[0m\u001b[0msend\u001b[0m\u001b[0;34m(\u001b[0m\u001b[0mdata\u001b[0m\u001b[0;34m,\u001b[0m \u001b[0mflags\u001b[0m\u001b[0;34m=\u001b[0m\u001b[0mflags\u001b[0m\u001b[0;34m,\u001b[0m \u001b[0mcopy\u001b[0m\u001b[0;34m=\u001b[0m\u001b[0mcopy\u001b[0m\u001b[0;34m,\u001b[0m \u001b[0mtrack\u001b[0m\u001b[0;34m=\u001b[0m\u001b[0mtrack\u001b[0m\u001b[0;34m)\u001b[0m\u001b[0;34m\u001b[0m\u001b[0;34m\u001b[0m\u001b[0m\n\u001b[0m\u001b[1;32m    396\u001b[0m \u001b[0;34m\u001b[0m\u001b[0m\n\u001b[1;32m    397\u001b[0m     \u001b[0;32mdef\u001b[0m \u001b[0msend_multipart\u001b[0m\u001b[0;34m(\u001b[0m\u001b[0mself\u001b[0m\u001b[0;34m,\u001b[0m \u001b[0mmsg_parts\u001b[0m\u001b[0;34m,\u001b[0m \u001b[0mflags\u001b[0m\u001b[0;34m=\u001b[0m\u001b[0;36m0\u001b[0m\u001b[0;34m,\u001b[0m \u001b[0mcopy\u001b[0m\u001b[0;34m=\u001b[0m\u001b[0;32mTrue\u001b[0m\u001b[0;34m,\u001b[0m \u001b[0mtrack\u001b[0m\u001b[0;34m=\u001b[0m\u001b[0;32mFalse\u001b[0m\u001b[0;34m,\u001b[0m \u001b[0;34m**\u001b[0m\u001b[0mkwargs\u001b[0m\u001b[0;34m)\u001b[0m\u001b[0;34m:\u001b[0m\u001b[0;34m\u001b[0m\u001b[0;34m\u001b[0m\u001b[0m\n",
      "\u001b[0;32mzmq/backend/cython/socket.pyx\u001b[0m in \u001b[0;36mzmq.backend.cython.socket.Socket.send\u001b[0;34m()\u001b[0m\n",
      "\u001b[0;32mzmq/backend/cython/socket.pyx\u001b[0m in \u001b[0;36mzmq.backend.cython.socket.Socket.send\u001b[0;34m()\u001b[0m\n",
      "\u001b[0;32mzmq/backend/cython/socket.pyx\u001b[0m in \u001b[0;36mzmq.backend.cython.socket._send_copy\u001b[0;34m()\u001b[0m\n",
      "\u001b[0;32m/anaconda3/lib/python3.7/site-packages/zmq/backend/cython/checkrc.pxd\u001b[0m in \u001b[0;36mzmq.backend.cython.checkrc._check_rc\u001b[0;34m()\u001b[0m\n",
      "\u001b[0;31mKeyboardInterrupt\u001b[0m: "
     ]
    }
   ],
   "source": [
    "model.compile(optimizer='adam', loss='sparse_categorical_crossentropy',metrics=['accuracy'])\n",
    "train_history_autoencoder_2_in_data_set = model.fit(np.array(X_train),np.array(y_train),validation_data=(X_val, y_val),epochs=20)"
   ]
  },
  {
   "cell_type": "code",
   "execution_count": 136,
   "metadata": {
    "scrolled": true
   },
   "outputs": [
    {
     "data": {
      "image/png": "[encoded data removed]",
      "text/plain": [
       "<Figure size 432x288 with 1 Axes>"
      ]
     },
     "metadata": {
      "needs_background": "light"
     },
     "output_type": "display_data"
    }
   ],
   "source": [
    "loss = train_history_autoencoder_2_in_data_set.history['loss']\n",
    "val_loss = train_history_autoencoder_2_in_data_set.history['val_loss']\n",
    "plt.plot(loss)\n",
    "plt.plot(val_loss)\n",
    "plt.legend(['loss', 'val_loss'])\n",
    "plt.show()"
   ]
  },
  {
   "cell_type": "code",
   "execution_count": null,
   "metadata": {},
   "outputs": [],
   "source": []
  }
 ],
 "metadata": {
  "kernelspec": {
   "display_name": "Python 3",
   "language": "python",
   "name": "python3"
  },
  "language_info": {
   "codemirror_mode": {
    "name": "ipython",
    "version": 3
   },
   "file_extension": ".py",
   "mimetype": "text/x-python",
   "name": "python",
   "nbconvert_exporter": "python",
   "pygments_lexer": "ipython3",
   "version": "3.7.3"
  }
 },
 "nbformat": 4,
 "nbformat_minor": 2
}
